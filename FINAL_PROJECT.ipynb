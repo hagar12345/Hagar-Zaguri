{
 "cells": [
  {
   "cell_type": "markdown",
   "id": "eb8841b9",
   "metadata": {},
   "source": [
    "# FINAL PROJECT\n",
    "# By: Hagar Zaguri\n",
    "***"
   ]
  },
  {
   "cell_type": "markdown",
   "id": "051fb755",
   "metadata": {},
   "source": [
    "# Introduction\n",
    "\n",
    "The goal of the project is to increase the profit of an online store that sells home products by studing the product categories as well as the price range.\n",
    "\n",
    "Pricing products and services that the business offers is the main mechanism for generating profits. When determining a price for a product many variables have to be taken into account such as gross cost of the product, operating expenses of the business, branding, comparison to competitors and more. There are several main approaches when setting a price of a product, but the main formula is : the higher the product price the higher the gross profit from a single sale will increase but fewer people will buy. As the price goes down the gross profit goes down but the number of sales of each product increase and so the total profit increase. The goal of the business is to find the optimal price so that it will earn the most. There is also a strategy called Loss leader pricing which involves selecting one or more retail products to be sold below cost – at a loss to the retailer – in order to get customers in the door.\n",
    "\n",
    "Since the dataset does not contain an information of the gross cost of each prudoct, I will set the 'base price' for each product as the maximum price at which the product was sold and I will refer to the price range of the product accordingly.\n",
    "\n",
    "In this project I will study the different categoiries and the price range of the product. At the end I will draw my conclusions an write recommendations to the buisness.\n",
    "\n",
    "<b>The original datasets contains the following columns:</b>\n",
    "\n",
    "* InvoiceNo` — order identifier\n",
    "* StockCode` — item identifier\n",
    "* Description` — item name\n",
    "* Quantity`\n",
    "* InvoiceDate` — order date\n",
    "* UnitPrice` — price per item\n",
    "* CustomerID`\n",
    "\n",
    "[Link to presentation](https://drive.google.com/file/d/1v2wn2t7o_NJbTiAQhy82DT5yhasvRnzS/view?usp=sharing)<br>\n",
    "[Tableau dashboard](https://public.tableau.com/views/Finalproject_16509691268200/Dashboard1?:language=en-US&publish=yes&:display_count=n&:origin=viz_share_link)\n",
    "\n",
    "<b>Pricing articles:</b>\n",
    "* [Optimal pricing models: 3 strategies for optimization](https://quickbooks.intuit.com/r/midsize-business/pricing-strategy-models/) by Susan Guillory\n",
    "* [How to price a product and introduce discounts](https://www.productmarketingalliance.com/how-to-price-a-product-and-introduce-discounts/) by Lawrence Chapman\n",
    "* [The Risks, Benefits, and Point of a Loss Leader Pricing Strategy](https://blog.hubspot.com/sales/loss-leader-pricing)\n",
    "* [How to Get the Price Right,Tools for optimal price setting](https://medium.com/teconomics-blog/how-to-get-the-price-right-9fda84a33fe5) by Emily Glassberg Sands\n",
    "\n"
   ]
  },
  {
   "cell_type": "markdown",
   "id": "4a2f55ba",
   "metadata": {},
   "source": [
    "## Preproccessing data:"
   ]
  },
  {
   "cell_type": "markdown",
   "id": "f9f8483a",
   "metadata": {},
   "source": [
    "### Data overview"
   ]
  },
  {
   "cell_type": "code",
   "execution_count": null,
   "id": "955911ff",
   "metadata": {},
   "outputs": [],
   "source": [
    "import pandas as pd\n",
    "import datetime as dt\n",
    "from scipy import stats as st\n",
    "import math as mth\n",
    "import matplotlib.pyplot as plt \n",
    "import plotly.express as px\n",
    "from plotly.subplots import make_subplots\n",
    "import plotly.graph_objects as go\n",
    "import seaborn as sns\n",
    "import plotly.figure_factory as ff\n",
    "from plotly.figure_factory import create_distplot\n",
    "\n",
    "from sklearn.cluster import KMeans\n",
    "from nltk.stem import PorterStemmer\n",
    "import re\n",
    "import nltk\n",
    "nltk.download('stopwords')\n",
    "nltk.download('punkt')\n",
    "from nltk.corpus import stopwords\n",
    "from sklearn.feature_extraction.text import TfidfVectorizer\n",
    "import warnings\n",
    "warnings.filterwarnings(\"ignore\")"
   ]
  },
  {
   "cell_type": "code",
   "execution_count": null,
   "id": "dd56d61d",
   "metadata": {},
   "outputs": [],
   "source": [
    "try:\n",
    "    data = pd.read_csv('ecommerce_dataset_us.csv', sep = '\\t')\n",
    "except:\n",
    "    data = pd.read_csv('/datasets/ecommerce_dataset_us.csv', sep = '\\t')"
   ]
  },
  {
   "cell_type": "code",
   "execution_count": null,
   "id": "a62468f7",
   "metadata": {},
   "outputs": [],
   "source": [
    "# make a copy of the original dataset\n",
    "data_1 = data"
   ]
  },
  {
   "cell_type": "code",
   "execution_count": null,
   "id": "1e8a98e4",
   "metadata": {},
   "outputs": [],
   "source": [
    "data.head()"
   ]
  },
  {
   "cell_type": "code",
   "execution_count": null,
   "id": "1d9951af",
   "metadata": {},
   "outputs": [],
   "source": [
    "data.info()"
   ]
  },
  {
   "cell_type": "code",
   "execution_count": null,
   "id": "29c2b8c0",
   "metadata": {},
   "outputs": [],
   "source": [
    "data.describe(include='all')"
   ]
  },
  {
   "cell_type": "markdown",
   "id": "e5769ae0",
   "metadata": {},
   "source": [
    "<b> There are missing values in the 'Description' and Costumer_ID' columns. Also, there are negative values in the 'Quantity' and 'UnitPrice' columns, which should contain innegative values. I dealed with all these columns in the next stage.</b>"
   ]
  },
  {
   "cell_type": "markdown",
   "id": "7b6a9996",
   "metadata": {},
   "source": [
    "### Dealing with missing and odd values"
   ]
  },
  {
   "cell_type": "markdown",
   "id": "9290e696",
   "metadata": {},
   "source": [
    "<b> I started with checking the missing values in the Description column</b>"
   ]
  },
  {
   "cell_type": "code",
   "execution_count": null,
   "id": "f3f20d4c",
   "metadata": {},
   "outputs": [],
   "source": [
    "data.query('Description.isnull()').head(10)"
   ]
  },
  {
   "cell_type": "markdown",
   "id": "30ebd534",
   "metadata": {},
   "source": [
    "<b> There is a certain probability that the reason for the missing values in column A also causes the missing values in column B. \n",
    "<br> \n",
    "    \n",
    "I filled in the missing values in the 'Description' column by using descriptions of products with the same stock code.</b>\n",
    "\n"
   ]
  },
  {
   "cell_type": "code",
   "execution_count": null,
   "id": "2a040fab",
   "metadata": {},
   "outputs": [],
   "source": [
    "# Creating a  table that contains only rows with non-missing values in the Description column\n",
    "no_missing_desc  =data.query('Description.notnull()')\n",
    "# Create a table that contains description for every stockcode that is in the table above\n",
    "top_desc = no_missing_desc .groupby('StockCode').agg({'Description':'first'}).reset_index()\n",
    "top_desc.columns= ['StockCode', 'first_desc']\n",
    "top_desc.head()"
   ]
  },
  {
   "cell_type": "code",
   "execution_count": null,
   "id": "af165e6e",
   "metadata": {},
   "outputs": [],
   "source": [
    "# adding the first descrption column to main table, only for filling missing values\n",
    "data = data.merge(top_desc, how='left', on='StockCode')\n",
    "data['Description'] = data.Description.fillna(data['first_desc'])"
   ]
  },
  {
   "cell_type": "code",
   "execution_count": null,
   "id": "1aca88b5",
   "metadata": {},
   "outputs": [],
   "source": [
    "print('Number of unique products:', data.StockCode.nunique())\n",
    "print('Number of  products with missing description (after filling in):', data.query('Description.isnull()').StockCode.nunique())\n",
    "print('Share of products with no description:',  data.query('Description.isnull()').StockCode.nunique()/ data.StockCode.nunique())\n",
    "print()\n",
    "print('size od data:', len(data))\n",
    "print('Number of missing values in the description column:', len(data.query('Description.isnull()')))\n",
    "print('Share of missing values in the description column:', len(data.query('Description.isnull()'))/len(data))"
   ]
  },
  {
   "cell_type": "markdown",
   "id": "e23f92ca",
   "metadata": {},
   "source": [
    "<b> The percentage of rows with the missing values in the description column is very small. Since in this project the description of the product is a very important, I decided to drop these rows.</b>"
   ]
  },
  {
   "cell_type": "code",
   "execution_count": null,
   "id": "073039bc",
   "metadata": {},
   "outputs": [],
   "source": [
    "# dropping missing values of the description column\n",
    "data = data.dropna(subset=['Description'])\n",
    "# dropping 'first_desc' column (added only for filling missing values)\n",
    "data = data.drop(labels=['first_desc'], axis=1)\n",
    "data.info()"
   ]
  },
  {
   "cell_type": "markdown",
   "id": "9fce62ab",
   "metadata": {},
   "source": [
    "<b> here I dealed with the missing values in the CustomerID column. First, I maked sure the there are no invoices with more than one customer. </b>"
   ]
  },
  {
   "cell_type": "code",
   "execution_count": null,
   "id": "2a916335",
   "metadata": {},
   "outputs": [],
   "source": [
    "invoices = data.groupby('InvoiceNo').agg({'CustomerID':'nunique'}).reset_index()\n",
    "invoices.query('CustomerID > 1')"
   ]
  },
  {
   "cell_type": "markdown",
   "id": "1c58b612",
   "metadata": {},
   "source": [
    "<b>I tried to fill the missing values in the CustomerID column in a similar method as I did with the description column. Now I used the invoice column. I followed the following logic: If there is an invoice to which a customer number is attached, I will add the customer number to all the rows that contain the invoice number. </b>"
   ]
  },
  {
   "cell_type": "code",
   "execution_count": null,
   "id": "7a197a10",
   "metadata": {},
   "outputs": [],
   "source": [
    "non_missing_customers = data.query('CustomerID.notnull()')\n",
    "top_custumer= non_missing_customers.groupby('InvoiceNo').agg({'CustomerID':'first'}).reset_index()\n",
    "top_custumer.columns=['InvoiceNo', 'temp_cust']\n",
    "data = data.merge(top_custumer, how='left', on='InvoiceNo')\n",
    "data['CustomerID'] = data.CustomerID.fillna(data['temp_cust'])\n",
    "data.info()"
   ]
  },
  {
   "cell_type": "code",
   "execution_count": null,
   "id": "c4e29344",
   "metadata": {},
   "outputs": [],
   "source": [
    "print('Share of missing values in CustomerID column:', len(data.query('CustomerID.isnull()')) / len(data))"
   ]
  },
  {
   "cell_type": "markdown",
   "id": "412e8a3d",
   "metadata": {},
   "source": [
    "<b> The number of missing values in the CustomerID column remains the same because there is no invoice that has a customer number attached to it in some lines and not in others.\n",
    "Since the missing values in this column make up a large percentage of the total data, and in most of the project the customer number is insignificant, for now we will leave the missing values as they are.</b>"
   ]
  },
  {
   "cell_type": "code",
   "execution_count": null,
   "id": "30756f85",
   "metadata": {},
   "outputs": [],
   "source": [
    "data = data.drop(labels=['temp_cust'], axis=1)"
   ]
  },
  {
   "cell_type": "markdown",
   "id": "79d8aac4",
   "metadata": {},
   "source": [
    "<b> Here I dealed with the negative values in Quantity and UnitPrice columns:</b><br>\n",
    "<b> UnitPrice:</b>"
   ]
  },
  {
   "cell_type": "code",
   "execution_count": null,
   "id": "608d1e84",
   "metadata": {},
   "outputs": [],
   "source": [
    "data.query('UnitPrice ==0')"
   ]
  },
  {
   "cell_type": "markdown",
   "id": "a072a3f7",
   "metadata": {},
   "source": [
    "<b> Products that sell for $ 0 are products that may be 'loss leaders'. Therfore, for now I will keep them as they are.</b>"
   ]
  },
  {
   "cell_type": "code",
   "execution_count": null,
   "id": "2d7369ab",
   "metadata": {},
   "outputs": [],
   "source": [
    "data.query('UnitPrice <0')"
   ]
  },
  {
   "cell_type": "code",
   "execution_count": null,
   "id": "412c481d",
   "metadata": {},
   "outputs": [],
   "source": [
    "data.query('StockCode ==\"B\"')"
   ]
  },
  {
   "cell_type": "markdown",
   "id": "3fd05a2a",
   "metadata": {},
   "source": [
    "<b> According to 'Investopedia' website, Bad debt is an expense that a business incurs once the repayment of credit previously extended to a customer is estimated to be uncollectible and is thus recorded as a charge off.</b><br>\n",
    "[link to investopedia page](https://www.investopedia.com/terms/b/baddebt.asp)\n",
    "\n",
    "<b>That is, this rows was entered by the business for a bureaucratic purpose. The purpose of this project is to learn about customer behavior so I decided to omit lines that contain this code.</b>"
   ]
  },
  {
   "cell_type": "code",
   "execution_count": null,
   "id": "f903269f",
   "metadata": {},
   "outputs": [],
   "source": [
    "data = data.query('StockCode !=\"B\"')"
   ]
  },
  {
   "cell_type": "markdown",
   "id": "3ba6b66e",
   "metadata": {},
   "source": [
    "<b> Quantity:</b>"
   ]
  },
  {
   "cell_type": "code",
   "execution_count": null,
   "id": "2963a311",
   "metadata": {},
   "outputs": [],
   "source": [
    "data.query('Quantity == 0')"
   ]
  },
  {
   "cell_type": "markdown",
   "id": "5c663d4c",
   "metadata": {},
   "source": [
    "<b> There are no rows with 0 in the quantity column, which is good. </b>"
   ]
  },
  {
   "cell_type": "code",
   "execution_count": null,
   "id": "e06a21f0",
   "metadata": {},
   "outputs": [],
   "source": [
    "print('Number of rows with a negative value in the quantity column:',len(data.query('Quantity < 0')))\n",
    "data.query('Quantity < 0').head()\n"
   ]
  },
  {
   "cell_type": "markdown",
   "id": "33264de0",
   "metadata": {},
   "source": [
    "<b> The number of rows with a negative amount is pretty large.<br>\n",
    "There are 2 reasonable options:<br> First option:  the minus was entered by mistake, i.e. the quantities are the absolute value of the existing value.<br>\n",
    "Option Two: The negative quantities are actually credits of other items.\n",
    "\n",
    "    \n",
    "Since I can not determine with certainty for each line whether it is a discount or not, I decided to omit the blacks that contain a negative amount.</b>"
   ]
  },
  {
   "cell_type": "code",
   "execution_count": null,
   "id": "75851e59",
   "metadata": {
    "scrolled": true
   },
   "outputs": [],
   "source": [
    "data = data.query('Quantity > 0')\n",
    "data.shape"
   ]
  },
  {
   "cell_type": "markdown",
   "id": "c3b6f1db",
   "metadata": {},
   "source": [
    "<b> While I checked the data I noticed that there are descriptions in Laowercase that seem to be for bureaucratic needs and not  purchases of real products</b>"
   ]
  },
  {
   "cell_type": "code",
   "execution_count": null,
   "id": "59337019",
   "metadata": {},
   "outputs": [],
   "source": [
    "data.query('Description.str.islower()').head()"
   ]
  },
  {
   "cell_type": "code",
   "execution_count": null,
   "id": "6d8ae533",
   "metadata": {},
   "outputs": [],
   "source": [
    "data.query('Description.str.islower()').Description.unique()"
   ]
  },
  {
   "cell_type": "code",
   "execution_count": null,
   "id": "d56a7ed6",
   "metadata": {},
   "outputs": [],
   "source": [
    "data.query('Description.str.islower()').UnitPrice.describe()"
   ]
  },
  {
   "cell_type": "code",
   "execution_count": null,
   "id": "6be3f131",
   "metadata": {},
   "outputs": [],
   "source": [
    "# dropping rows with description in lowercase\n",
    "data = data.query('~Description.str.islower()')\n",
    "data.shape"
   ]
  },
  {
   "cell_type": "markdown",
   "id": "59492ffe",
   "metadata": {},
   "source": [
    "\n",
    "### Dropping duplicates and correcting type of columns\n"
   ]
  },
  {
   "cell_type": "code",
   "execution_count": null,
   "id": "896e8cf5",
   "metadata": {},
   "outputs": [],
   "source": [
    "# converting column types\n",
    "data['InvoiceDate'] = pd.to_datetime(data['InvoiceDate'])\n",
    "# dropping duplicates\n",
    "data = data.drop_duplicates()\n",
    "\n",
    "data.info()"
   ]
  },
  {
   "cell_type": "code",
   "execution_count": null,
   "id": "fbd7ff9f",
   "metadata": {},
   "outputs": [],
   "source": [
    "print('Size of data after preprocessing:', len(data))\n",
    "print('The share of all deleted rows :', (len(data_1)-len(data)) / len(data_1))"
   ]
  },
  {
   "cell_type": "markdown",
   "id": "5e145af9",
   "metadata": {},
   "source": [
    "## EDA:"
   ]
  },
  {
   "cell_type": "code",
   "execution_count": null,
   "id": "137fbc57",
   "metadata": {},
   "outputs": [],
   "source": [
    "# adding column 'date' that contains only the date (without time)\n",
    "data['date'] =  data['InvoiceDate'].dt.date\n",
    "data.head()"
   ]
  },
  {
   "cell_type": "code",
   "execution_count": null,
   "id": "7f0f64a0",
   "metadata": {},
   "outputs": [],
   "source": [
    "invoices_and_dates = data.groupby('InvoiceNo').agg({'date':['nunique', 'first']}).reset_index()\n",
    "invoices_and_dates.columns = ['InvoiceNo', 'unique_dates', 'date']\n",
    "invoices_and_dates.head()"
   ]
  },
  {
   "cell_type": "code",
   "execution_count": null,
   "id": "494bc39c",
   "metadata": {},
   "outputs": [],
   "source": [
    "#making sure that all the rows of each invoice has the same date\n",
    "invoices_and_dates.query('unique_dates > 1')"
   ]
  },
  {
   "cell_type": "code",
   "execution_count": null,
   "id": "16ba1cb1",
   "metadata": {},
   "outputs": [],
   "source": [
    "print('The data contains invoices from {} to {}'.format(invoices_and_dates.date.min(),invoices_and_dates.date.max()))\n",
    "print()\n",
    "print('The average purchases (invoices) per day is:',float(invoices_and_dates.groupby('date').agg({'InvoiceNo':'nunique'}).mean()))"
   ]
  },
  {
   "cell_type": "code",
   "execution_count": null,
   "id": "73bcf28b",
   "metadata": {},
   "outputs": [],
   "source": [
    "fig = px.histogram(invoices_and_dates, x=\"date\", title=\"Distribution of invoices during the year\", \n",
    "                  )\n",
    "fig.show()"
   ]
  },
  {
   "cell_type": "markdown",
   "id": "b35cb0d5",
   "metadata": {},
   "source": [
    "<b> The data contains purchases between the dates 29.11.2018 - 1.12.2019. Between the  dates 23-29.12.2018 , no purchases were made , probably due to end-of-year holidays. The average purchase per day is 68 and it does not consider dates on which at least one purchase was not made.</b>"
   ]
  },
  {
   "cell_type": "code",
   "execution_count": null,
   "id": "2bb00ef5",
   "metadata": {},
   "outputs": [],
   "source": [
    "data['purchase_amount'] = data['Quantity'] * data['UnitPrice']\n",
    "data.head()"
   ]
  },
  {
   "cell_type": "code",
   "execution_count": null,
   "id": "28fe21ce",
   "metadata": {},
   "outputs": [],
   "source": [
    "customers = data.groupby('CustomerID').agg({'InvoiceNo':'nunique','purchase_amount':'sum'}).reset_index()\n",
    "customers.columns = ['CustomerID', 'total_invoices', 'total_purchase_amount']\n",
    "customers.head()"
   ]
  },
  {
   "cell_type": "code",
   "execution_count": null,
   "id": "d8c4d5ec",
   "metadata": {},
   "outputs": [],
   "source": [
    "fig = px.histogram(customers, x=\"total_invoices\", title=\"Distribution of invoices per customer\", \n",
    "                labels={ \"total_invoices\": \"Invoices per customer\"})\n",
    "fig.update_xaxes(range=(0,50))\n",
    "fig.show()"
   ]
  },
  {
   "cell_type": "code",
   "execution_count": null,
   "id": "6c8b25de",
   "metadata": {},
   "outputs": [],
   "source": [
    "customers.total_invoices.describe()"
   ]
  },
  {
   "cell_type": "markdown",
   "id": "802007f7",
   "metadata": {},
   "source": [
    "<b> The average number of invoices per customer is 2.</b>"
   ]
  },
  {
   "cell_type": "code",
   "execution_count": null,
   "id": "2ba72116",
   "metadata": {},
   "outputs": [],
   "source": [
    "fig = px.histogram(customers, x=\"total_purchase_amount\", title=\"Distribution of total purchase amount per customer\",\n",
    "                  labels={ \"total_purchase_amount\": \"Total purchases amount $\"})\n",
    "fig.update_xaxes(range=(0,10000))\n",
    "fig.show()"
   ]
  },
  {
   "cell_type": "code",
   "execution_count": null,
   "id": "31bbf869",
   "metadata": {},
   "outputs": [],
   "source": [
    "customers.total_purchase_amount.describe()"
   ]
  },
  {
   "cell_type": "markdown",
   "id": "3a4eea97",
   "metadata": {},
   "source": [
    "<b> The average total purchase amount per customer is 668 dolars. It is important to note that there are customers whose total purchase amount is 0 because they skew the results.</b>"
   ]
  },
  {
   "cell_type": "code",
   "execution_count": null,
   "id": "bd7cf8c8",
   "metadata": {},
   "outputs": [],
   "source": [
    "invoices = data.groupby('InvoiceNo').agg({'StockCode':'nunique','Quantity':'sum', 'purchase_amount':'sum' }).reset_index()\n",
    "invoices.columns = ['InvoiceNo', 'unique_prudocts', 'total_products', 'purchase_amount']\n",
    "invoices.head()"
   ]
  },
  {
   "cell_type": "code",
   "execution_count": null,
   "id": "fefd1eb9",
   "metadata": {},
   "outputs": [],
   "source": [
    "fig = px.histogram(invoices, x=\"purchase_amount\", title=\"Distribution of total purchase amount per invoice\",\n",
    "                  labels={ \"purchase_amount\": \"Total purchases amount $\"})\n",
    "fig.update_xaxes(range=(0,5000))\n",
    "fig.show()"
   ]
  },
  {
   "cell_type": "code",
   "execution_count": null,
   "id": "c8b41c1e",
   "metadata": {},
   "outputs": [],
   "source": [
    "invoices.purchase_amount.describe()"
   ]
  },
  {
   "cell_type": "markdown",
   "id": "5f0868b1",
   "metadata": {},
   "source": [
    "<b> The average purchase amount per invoice is 297$ </b>"
   ]
  },
  {
   "cell_type": "code",
   "execution_count": null,
   "id": "66c88e3d",
   "metadata": {},
   "outputs": [],
   "source": [
    "products = data.groupby('StockCode').agg({'Quantity':'sum','purchase_amount':'sum','Description':'first' }).reset_index()\n",
    "products.columns = ['StockCode', 'total_quantity', 'purchase_amount', 'description']\n",
    "products.head()"
   ]
  },
  {
   "cell_type": "code",
   "execution_count": null,
   "id": "afa23c4a",
   "metadata": {},
   "outputs": [],
   "source": [
    "fig = px.scatter(products, x=\"total_quantity\",y=\"purchase_amount\", title=\"Distribution of total purchase amount per product\")\n",
    "fig.update_xaxes(range=(0,20000))\n",
    "fig.update_xaxes(range=(0,20000))\n",
    "fig.show()"
   ]
  },
  {
   "cell_type": "code",
   "execution_count": null,
   "id": "789de179",
   "metadata": {},
   "outputs": [],
   "source": [
    "products.describe()"
   ]
  },
  {
   "cell_type": "markdown",
   "id": "d63166cc",
   "metadata": {},
   "source": [
    "<b> Each product sold an average of 379 units, for an average of 679$</b>"
   ]
  },
  {
   "cell_type": "code",
   "execution_count": null,
   "id": "ca70e146",
   "metadata": {},
   "outputs": [],
   "source": [
    "top_10_products = products.sort_values(by='purchase_amount', ascending=False).head(10)\n",
    "fig =go.Figure(go.Bar(x = top_10_products[\"description\"], y=top_10_products[\"purchase_amount\"]))\n",
    "fig.update_layout(title='Top 10 proffitable products ',  yaxis = dict(title_text='Total purchase amount $'))\n",
    "fig.show()"
   ]
  },
  {
   "cell_type": "markdown",
   "id": "369d4692",
   "metadata": {},
   "source": [
    "## Categorizing products:"
   ]
  },
  {
   "cell_type": "markdown",
   "id": "8e29a2a5",
   "metadata": {},
   "source": [
    "### Splitting to categories"
   ]
  },
  {
   "cell_type": "markdown",
   "id": "86161c1d",
   "metadata": {},
   "source": [
    "In order to perform a categorization I used a code written by [Jean Snyman](https://www.jeansnyman.com/posts/unsupervised-text-clustering-with-k-means/)\n",
    "\n",
    "The categorization is done in the following steps:\n",
    "\n",
    "1. Text was cleared of numbers and symbols.\n",
    "\n",
    "2. Each description was converted to a numeric value according to the [TF-IDF](https://en.wikipedia.org/wiki/Tf%E2%80%93idf) measure.<br>\n",
    "\n",
    "3. I set the number of clusters by using the [elbow method](https://en.wikipedia.org/wiki/Elbow_method_(clustering)):<br>\n",
    "\"In cluster analysis, the elbow method is a heuristic used in determining the number of clusters in a data set. The method consists of plotting the explained variation as a function of the number of clusters, and picking the elbow of the curve as the number of clusters to use.\"\n",
    "\n",
    "4. Predictions were made."
   ]
  },
  {
   "cell_type": "code",
   "execution_count": null,
   "id": "0bf97e4a",
   "metadata": {},
   "outputs": [],
   "source": [
    "stemmer = PorterStemmer()\n",
    "\n",
    "REPLACE_BY_SPACE_RE = re.compile('[/(){}\\[\\]\\|@,;]')\n",
    "BAD_SYMBOLS_RE = re.compile('[^0-9a-z #+_]')\n",
    "REMOVE_NUM = re.compile('[\\d+]')\n",
    "STOPWORDS = set(stopwords.words('english'))"
   ]
  },
  {
   "cell_type": "code",
   "execution_count": null,
   "id": "709206e9",
   "metadata": {},
   "outputs": [],
   "source": [
    "def clean_text(text):\n",
    "    \"\"\"\n",
    "    text: a string\n",
    "    return: modified initial string\n",
    "    \"\"\"\n",
    "    # lowercase text\n",
    "    text = text.lower() \n",
    "\n",
    "    # replace REPLACE_BY_SPACE_RE symbols by space in text\n",
    "    text = REPLACE_BY_SPACE_RE.sub(' ', text) \n",
    "    \n",
    "    # Remove the XXXX values\n",
    "    text = text.replace('x', '') \n",
    "    \n",
    "    # Remove white space\n",
    "    text = REMOVE_NUM.sub('', text)\n",
    "\n",
    "    #  delete symbols which are in BAD_SYMBOLS_RE from text\n",
    "    text = BAD_SYMBOLS_RE.sub('', text) \n",
    "\n",
    "    # delete stopwords from text\n",
    "    text = ' '.join(word for word in text.split() if word not in STOPWORDS) \n",
    "    \n",
    "    # removes any words composed of less than 2 or more than 21 letters\n",
    "    text = ' '.join(word for word in text.split() if (len(word) >= 2 and len(word) <= 21))\n",
    "\n",
    "    # Stemming the words\n",
    "    text = ' '.join([stemmer.stem(word) for word in text.split()])\n",
    "    \n",
    "    return text"
   ]
  },
  {
   "cell_type": "code",
   "execution_count": null,
   "id": "c24cbcc5",
   "metadata": {},
   "outputs": [],
   "source": [
    "# cleaning the descriptions\n",
    "products['clean_desc'] = products['description'].apply(clean_text)\n",
    "products.head()"
   ]
  },
  {
   "cell_type": "code",
   "execution_count": null,
   "id": "025b5400",
   "metadata": {},
   "outputs": [],
   "source": [
    "# converting the text to numeric value\n",
    "vectorizer = TfidfVectorizer(sublinear_tf= True, min_df=10, norm='l2', ngram_range=(1, 2), stop_words='english')\n",
    "X_train_vc = vectorizer.fit_transform(products['clean_desc'])"
   ]
  },
  {
   "cell_type": "code",
   "execution_count": null,
   "id": "55a51a41",
   "metadata": {},
   "outputs": [],
   "source": [
    "# setting the clusters to 10, only for test\n",
    "k_clusters = 10\n",
    "\n",
    "score = []\n",
    "for i in range(1,k_clusters + 1):\n",
    "    kmeans = KMeans(n_clusters=i,init='k-means++',max_iter=300,n_init=5,random_state=0)\n",
    "    kmeans.fit(X_train_vc)\n",
    "    score.append(kmeans.inertia_)\n",
    "plt.plot(range(1,k_clusters + 1 ),score)\n",
    "plt.title('The Elbow Method')\n",
    "plt.xlabel('Number of clusters')\n",
    "plt.ylabel('Score')\n",
    "plt.savefig('elbow.png')\n",
    "plt.show()"
   ]
  },
  {
   "cell_type": "markdown",
   "id": "14e10cdf",
   "metadata": {},
   "source": [
    "<b> Here you can see that the graph curves after 4 clusters. Therefore, I set the number of clusters to be 4</b>"
   ]
  },
  {
   "cell_type": "code",
   "execution_count": null,
   "id": "53202a75",
   "metadata": {},
   "outputs": [],
   "source": [
    "k_clusters = 4\n",
    "#making predictions\n",
    "model = KMeans(n_clusters=k_clusters, init='k-means++', n_init=10, max_iter=600, tol=0.000001, random_state=0)\n",
    "model.fit(X_train_vc)\n",
    "\n",
    "clusters = model.predict(X_train_vc)\n",
    "# Create a new column to display the predicted result\n",
    "products[\"cluster\"] = clusters\n",
    "products.head()"
   ]
  },
  {
   "cell_type": "markdown",
   "id": "4f0a6205",
   "metadata": {},
   "source": [
    "<b> Here I tried to figure out what What characterizes  each cluster </b>"
   ]
  },
  {
   "cell_type": "code",
   "execution_count": null,
   "id": "f02eae09",
   "metadata": {},
   "outputs": [],
   "source": [
    "# printing the most common words of each cluster\n",
    "order_centroids = model.cluster_centers_.argsort()[:, ::-1]\n",
    "\n",
    "terms = vectorizer.get_feature_names()\n",
    "for i in range(k_clusters):\n",
    "    top_ten_words = [terms[ind] for ind in order_centroids[i, :k_clusters]]\n",
    "    print(\"Cluster {}: {}\".format(i, ' '.join(top_ten_words)))"
   ]
  },
  {
   "cell_type": "code",
   "execution_count": null,
   "id": "f7ea93f4",
   "metadata": {},
   "outputs": [],
   "source": [
    "# adding cluster column to the main table\n",
    "data = data.merge(products[['StockCode','cluster']], how='left', on='StockCode')\n",
    "data.head()"
   ]
  },
  {
   "cell_type": "markdown",
   "id": "124a11f5",
   "metadata": {},
   "source": [
    "### Study the clusters"
   ]
  },
  {
   "cell_type": "code",
   "execution_count": null,
   "id": "033edb22",
   "metadata": {},
   "outputs": [],
   "source": [
    "clusters = data.groupby('cluster').agg({'StockCode':'nunique','Quantity':'sum','purchase_amount':'sum' }).reset_index()\n",
    "clusters.columns = ['cluster', 'unique_products','total_quantity','total_purchase_amount']\n",
    "clusters['relative_quantity'] = clusters['total_quantity']  / clusters['unique_products']\n",
    "clusters['relative_purchase_amount'] = clusters['total_purchase_amount']  / clusters['unique_products']\n",
    "clusters"
   ]
  },
  {
   "cell_type": "code",
   "execution_count": null,
   "id": "d8dec7e0",
   "metadata": {},
   "outputs": [],
   "source": [
    "fig = make_subplots(\n",
    "    rows=2, cols=2,\n",
    "    subplot_titles=(\"Share of unique products in each cluster\", \"Total purchase amount per cluster\", \"Relative quantity of sold pruducts\", \"Relative purchase amount\"),\n",
    "    specs=[[{\"type\": \"pie\"}, {\"type\": \"pie\"}],[{\"type\": \"pie\"}, {\"type\": \"pie\"}]])\n",
    "\n",
    "fig.add_trace(go.Pie(values = clusters[\"unique_products\"], labels=clusters[\"cluster\"]),\n",
    "              row=1, col=1)\n",
    "\n",
    "fig.add_trace(go.Pie(values = clusters[\"total_purchase_amount\"], labels=clusters[\"cluster\"]),\n",
    "              row=1, col=2)\n",
    "\n",
    "fig.add_trace(go.Pie(values = clusters[\"relative_quantity\"], labels=clusters[\"cluster\"]),\n",
    "              row=2, col=1)\n",
    "\n",
    "fig.add_trace(go.Pie(values = clusters[\"relative_purchase_amount\"], labels=clusters[\"cluster\"]),\n",
    "              row=2, col=2)\n",
    "\n",
    "fig.show()"
   ]
  },
  {
   "cell_type": "markdown",
   "id": "56ab1ef2",
   "metadata": {},
   "source": [
    "<b> Cluster 0 is the cluster that contains the most prudocts, and cluster 3 have the least products. Relative to the number of products it contains, cluster 2 is the most profitable of all the clusters, while cluster 3 is the least profitable.</b>"
   ]
  },
  {
   "cell_type": "markdown",
   "id": "124e6781",
   "metadata": {},
   "source": [
    "\n",
    "### Find the most and least profitable products of each category\n"
   ]
  },
  {
   "cell_type": "code",
   "execution_count": null,
   "id": "c302f60c",
   "metadata": {},
   "outputs": [],
   "source": [
    "top_5_cluster_0 = products.query('cluster==0').sort_values(by='purchase_amount', ascending=False).head()\n",
    "top_5_cluster_1 = products.query('cluster==1').sort_values(by='purchase_amount', ascending=False).head()\n",
    "top_5_cluster_2 = products.query('cluster==2').sort_values(by='purchase_amount', ascending=False).head()\n",
    "top_5_cluster_3 = products.query('cluster==3').sort_values(by='purchase_amount', ascending=False).head()\n",
    "\n",
    "bottom_5_cluster_0 = products.query('cluster==0').sort_values(by='purchase_amount').head()\n",
    "bottom_5_cluster_1 = products.query('cluster==1').sort_values(by='purchase_amount').head()\n",
    "bottom_5_cluster_2 = products.query('cluster==2').sort_values(by='purchase_amount').head()\n",
    "bottom_5_cluster_3 = products.query('cluster==3').sort_values(by='purchase_amount').head()\n"
   ]
  },
  {
   "cell_type": "code",
   "execution_count": null,
   "id": "e35fc87b",
   "metadata": {},
   "outputs": [],
   "source": [
    "fig = make_subplots(\n",
    "    rows=1, cols=2)  \n",
    "\n",
    "fig.add_trace(go.Bar(x = top_5_cluster_0[\"description\"], y=top_5_cluster_0[\"purchase_amount\"],name='The 5 most proffitable'),\n",
    "              row=1, col=1)\n",
    "\n",
    "fig.add_trace(go.Bar(x = bottom_5_cluster_0[\"description\"], y=bottom_5_cluster_0[\"purchase_amount\"], name='The 5 least proffitable'),\n",
    "              row=1, col=2)\n",
    "\n",
    "fig.update_layout(title='The most and least proffitable products of cluster 0',  yaxis = dict(title_text='Total purchase amount $'))\n",
    "\n",
    "\n",
    "fig.show()"
   ]
  },
  {
   "cell_type": "code",
   "execution_count": null,
   "id": "da291cdb",
   "metadata": {},
   "outputs": [],
   "source": [
    "fig = make_subplots(\n",
    "    rows=1, cols=2)  \n",
    "\n",
    "fig.add_trace(go.Bar(x = top_5_cluster_1[\"description\"], y=top_5_cluster_1[\"purchase_amount\"],name='The 5 most proffitable'),\n",
    "              row=1, col=1)\n",
    "\n",
    "fig.add_trace(go.Bar(x = bottom_5_cluster_1[\"description\"], y=bottom_5_cluster_1[\"purchase_amount\"], name='The 5 least proffitable'),\n",
    "              row=1, col=2)\n",
    "\n",
    "fig.update_layout(title='The most and least proffitable products of cluster 1',  yaxis = dict(title_text='Total purchase amount $'))\n",
    "\n",
    "\n",
    "fig.show()"
   ]
  },
  {
   "cell_type": "code",
   "execution_count": null,
   "id": "29be37d2",
   "metadata": {},
   "outputs": [],
   "source": [
    "fig = make_subplots(\n",
    "    rows=1, cols=2)  \n",
    "\n",
    "fig.add_trace(go.Bar(x = top_5_cluster_2[\"description\"], y=top_5_cluster_2[\"purchase_amount\"],name='The 5 most proffitable'),\n",
    "              row=1, col=1)\n",
    "\n",
    "fig.add_trace(go.Bar(x = bottom_5_cluster_2[\"description\"], y=bottom_5_cluster_2[\"purchase_amount\"], name='The 5 least proffitable'),\n",
    "              row=1, col=2)\n",
    "\n",
    "fig.update_layout(title='The most and least proffitable products of cluster 2',  yaxis = dict(title_text='Total purchase amount $'))\n",
    "\n",
    "\n",
    "fig.show()"
   ]
  },
  {
   "cell_type": "code",
   "execution_count": null,
   "id": "63763ba9",
   "metadata": {},
   "outputs": [],
   "source": [
    "fig = make_subplots(\n",
    "    rows=1, cols=2)  \n",
    "\n",
    "fig.add_trace(go.Bar(x = top_5_cluster_3[\"description\"], y=top_5_cluster_3[\"purchase_amount\"],name='The 5 most proffitable'),\n",
    "              row=1, col=1)\n",
    "\n",
    "fig.add_trace(go.Bar(x = bottom_5_cluster_3[\"description\"], y=bottom_5_cluster_3[\"purchase_amount\"], name='The 5 least proffitable'),\n",
    "              row=1, col=2)\n",
    "\n",
    "fig.update_layout(title='The most and least proffitable products of cluster 3',  yaxis = dict(title_text='Total purchase amount $'))\n",
    "\n",
    "\n",
    "fig.show()"
   ]
  },
  {
   "cell_type": "markdown",
   "id": "6d56937b",
   "metadata": {},
   "source": [
    "\n",
    "## Price analysis:\n"
   ]
  },
  {
   "cell_type": "markdown",
   "id": "2b458290",
   "metadata": {},
   "source": [
    "### Finding max and min price for each product"
   ]
  },
  {
   "cell_type": "code",
   "execution_count": null,
   "id": "337456b8",
   "metadata": {},
   "outputs": [],
   "source": [
    "products_new = data.groupby('StockCode').agg({'Description':'first','UnitPrice':['min','max']}).reset_index()\n",
    "products_new.columns = ['StockCode', 'Description', 'min_price', 'max_price']\n",
    "products_new['max_differ'] = products_new['max_price'] -products_new['min_price']\n",
    "products_new.describe()"
   ]
  },
  {
   "cell_type": "markdown",
   "id": "8df83872",
   "metadata": {},
   "source": [
    "\n",
    "### Studing the products that has the biggest difference \n"
   ]
  },
  {
   "cell_type": "code",
   "execution_count": null,
   "id": "1afa2f20",
   "metadata": {},
   "outputs": [],
   "source": [
    "products_new.sort_values(by='max_differ', ascending=False).head(15)"
   ]
  },
  {
   "cell_type": "markdown",
   "id": "b31f21d2",
   "metadata": {},
   "source": [
    "<b> Here you can see that there are aome products that are not 'real products'. These are products with a non-numeric code</b>"
   ]
  },
  {
   "cell_type": "markdown",
   "id": "5733d742",
   "metadata": {},
   "source": [
    "\n",
    "### Studing  the change of prices throughout the year\n"
   ]
  },
  {
   "cell_type": "code",
   "execution_count": null,
   "id": "2b32546e",
   "metadata": {},
   "outputs": [],
   "source": [
    "# Dropping products with nun-numeric stock code\n",
    "max_differ_products=products_new.sort_values(by='max_differ', ascending=False).head(15).query('StockCode.str.isnumeric()').StockCode"
   ]
  },
  {
   "cell_type": "code",
   "execution_count": null,
   "id": "30c7e267",
   "metadata": {},
   "outputs": [],
   "source": [
    "df=data.query('StockCode in @max_differ_products')\n",
    "fig = px.line(df, x=\"date\", y=\"UnitPrice\", color='Description', title=\"Changes of prices during the year: 10 products with the highest differences\")\n",
    "fig.show()"
   ]
  },
  {
   "cell_type": "markdown",
   "id": "69f27440",
   "metadata": {},
   "source": [
    "<b> The general trend shows that the price of products is falling towards the end of the year</b>"
   ]
  },
  {
   "cell_type": "code",
   "execution_count": null,
   "id": "5db80806",
   "metadata": {},
   "outputs": [],
   "source": [
    "products_new.query('max_price == 0')"
   ]
  },
  {
   "cell_type": "code",
   "execution_count": null,
   "id": "37bc495a",
   "metadata": {},
   "outputs": [],
   "source": [
    "# dropping products whose maximum price is 0\n",
    "data =data.merge(products_new.drop('Description', axis=1), how='left', on='StockCode')\n",
    "data = data.query('max_price !=0')\n",
    "\n",
    "# adding column 'perc_of_max_price' which calculate the percentage of the maximal price of the product\n",
    "data['perc_of_max_price'] = data['UnitPrice'] /data['max_price'] * 100\n",
    "data.head()"
   ]
  },
  {
   "cell_type": "code",
   "execution_count": null,
   "id": "97db1e3e",
   "metadata": {},
   "outputs": [],
   "source": [
    "fig = px.histogram(data, x=\"perc_of_max_price\", title=\"Distribution of percentage of maximum price\",\n",
    "                  labels={ \"perc_of_max_price\": \"Percentage of maximum price $\"})\n",
    "\n",
    "fig.show()"
   ]
  },
  {
   "cell_type": "markdown",
   "id": "19579c32",
   "metadata": {},
   "source": [
    "<b> Most purchases are purchased at a price that stands at 50% of the maximum price</b>"
   ]
  },
  {
   "cell_type": "code",
   "execution_count": null,
   "id": "02b80a21",
   "metadata": {},
   "outputs": [],
   "source": [
    "data.perc_of_max_price.describe()"
   ]
  },
  {
   "cell_type": "markdown",
   "id": "cbd58a02",
   "metadata": {},
   "source": [
    "\n",
    "    \n",
    "## Statistical Hypotheses Test"
   ]
  },
  {
   "cell_type": "markdown",
   "id": "36056d6e",
   "metadata": {},
   "source": [
    "<b>H0: </b>There is no significant difference in the quantity of items purchased at a low price and items purchased at a high price<br>\n",
    "<b>H1:</b>There is significant difference in the quantity of items purchased at a low price and items purchased at a high price"
   ]
  },
  {
   "cell_type": "code",
   "execution_count": null,
   "id": "dd2a08a8",
   "metadata": {},
   "outputs": [],
   "source": [
    "low_price = data.query('perc_of_max_price<=50')\n",
    "high_price = data.query('perc_of_max_price>50')"
   ]
  },
  {
   "cell_type": "code",
   "execution_count": null,
   "id": "0754e7fe",
   "metadata": {},
   "outputs": [],
   "source": [
    "print('The avergae quantity of products that are sold up to 50% of their maximal price:', low_price.Quantity.median())\n",
    "print('The avergae quantity of products that are sold over 50% of their maximal price:', high_price.Quantity.median())"
   ]
  },
  {
   "cell_type": "markdown",
   "id": "f3e01962",
   "metadata": {},
   "source": [
    "<b> Checking if the samples have a normal distribution</b>"
   ]
  },
  {
   "cell_type": "code",
   "execution_count": null,
   "id": "4cc74d30",
   "metadata": {},
   "outputs": [],
   "source": [
    "low_price.Quantity.describe()"
   ]
  },
  {
   "cell_type": "code",
   "execution_count": null,
   "id": "590977f4",
   "metadata": {},
   "outputs": [],
   "source": [
    "high_price.Quantity.describe()"
   ]
  },
  {
   "cell_type": "markdown",
   "id": "977065ca",
   "metadata": {},
   "source": [
    "<b> Since samples are not normally distributed I used the Whitney Man test</b>"
   ]
  },
  {
   "cell_type": "code",
   "execution_count": null,
   "id": "ddca1aa4",
   "metadata": {},
   "outputs": [],
   "source": [
    "sample_1 = low_price.Quantity\n",
    "sample_2 = high_price.Quantity\n",
    "\n",
    "alpha = .05 #significance level\n",
    "\n",
    "results = st.mannwhitneyu(sample_1, sample_2)\n",
    "\n",
    "print('p-value: ', results.pvalue)\n",
    "\n",
    "if (results.pvalue < alpha):\n",
    "    print(\"Null hypothesis rejected: the difference is statistically significant\")\n",
    "else:\n",
    "    print(\"Failed to reject the null hypothesis: we can't make conclusions about the difference\") \n"
   ]
  },
  {
   "cell_type": "markdown",
   "id": "c03928a0",
   "metadata": {},
   "source": [
    "## Conclusion\n"
   ]
  },
  {
   "cell_type": "markdown",
   "id": "2c429c59",
   "metadata": {},
   "source": [
    "<b>Changes of the data:</b>\n",
    "* I filled in the missing values in the 'Description' column by using descriptions of products with the same stock code.</b>\n",
    "* I dropped the rest of the rows with missing values in the 'Description' column.\n",
    "* I dropped rows with lowercase description\n",
    "* I drpped rows with negative value in the quantity column\n",
    "\n",
    "<b> generak conclusions:</b>\n",
    "* The average purchase per day is 68 \n",
    "* The average number of invoices per customer is 2\n",
    "* The average total purchase amount per customer is 668 dolars.\n",
    "* The average purchase amount per invoice is 297\n",
    "* Each product sold an average of 379 units, for an average of 679\n",
    "* The general trend shows that the price of products is falling towards the end of the year\n",
    "* Customers buy more in larger quantities when the unit price per product is lower\n",
    "\n",
    "The main conclusion is not surprising: customers buy more in larger quantities when the unit price per product is lower.\n",
    "Since I do not have data on the cost price of the beneficiaries, I do not have the ability to calculate cost versus profit so I refrain from giving recommendations.\n"
   ]
  },
  {
   "cell_type": "code",
   "execution_count": null,
   "id": "c4131df3",
   "metadata": {},
   "outputs": [],
   "source": []
  }
 ],
 "metadata": {
  "ExecuteTimeLog": [
   {
    "duration": 441,
    "start_time": "2022-04-18T08:41:21.061Z"
   },
   {
    "duration": 661,
    "start_time": "2022-04-18T08:41:23.189Z"
   },
   {
    "duration": 3,
    "start_time": "2022-04-18T08:57:48.472Z"
   },
   {
    "duration": 706,
    "start_time": "2022-04-18T08:57:48.477Z"
   },
   {
    "duration": 419,
    "start_time": "2022-04-18T08:58:56.721Z"
   },
   {
    "duration": 19,
    "start_time": "2022-04-18T08:59:47.057Z"
   },
   {
    "duration": 94,
    "start_time": "2022-04-18T09:00:00.476Z"
   },
   {
    "duration": 74,
    "start_time": "2022-04-18T09:00:37.595Z"
   },
   {
    "duration": 360,
    "start_time": "2022-04-18T09:01:13.813Z"
   },
   {
    "duration": 28,
    "start_time": "2022-04-18T09:11:36.821Z"
   },
   {
    "duration": 26,
    "start_time": "2022-04-18T09:11:44.147Z"
   },
   {
    "duration": 38,
    "start_time": "2022-04-18T09:12:06.995Z"
   },
   {
    "duration": 542,
    "start_time": "2022-04-18T09:16:35.987Z"
   },
   {
    "duration": 608,
    "start_time": "2022-04-18T09:18:19.328Z"
   },
   {
    "duration": 38,
    "start_time": "2022-04-18T09:21:04.660Z"
   },
   {
    "duration": 40,
    "start_time": "2022-04-18T09:21:11.128Z"
   },
   {
    "duration": 38,
    "start_time": "2022-04-18T09:22:02.705Z"
   },
   {
    "duration": 7,
    "start_time": "2022-04-18T09:22:18.504Z"
   },
   {
    "duration": 48,
    "start_time": "2022-04-18T09:24:18.637Z"
   },
   {
    "duration": 91,
    "start_time": "2022-04-18T09:27:35.712Z"
   },
   {
    "duration": 273,
    "start_time": "2022-04-18T09:50:24.453Z"
   },
   {
    "duration": 159,
    "start_time": "2022-04-18T09:50:49.529Z"
   },
   {
    "duration": 159,
    "start_time": "2022-04-18T09:57:38.089Z"
   },
   {
    "duration": 239,
    "start_time": "2022-04-18T09:58:13.712Z"
   },
   {
    "duration": 150,
    "start_time": "2022-04-18T09:58:19.536Z"
   },
   {
    "duration": 163,
    "start_time": "2022-04-18T09:59:05.674Z"
   },
   {
    "duration": 172,
    "start_time": "2022-04-18T10:01:12.302Z"
   },
   {
    "duration": 2460,
    "start_time": "2022-04-18T10:01:19.294Z"
   },
   {
    "duration": 12,
    "start_time": "2022-04-18T10:01:52.478Z"
   },
   {
    "duration": 874,
    "start_time": "2022-04-18T10:02:22.374Z"
   },
   {
    "duration": 677,
    "start_time": "2022-04-18T10:02:23.250Z"
   },
   {
    "duration": 16,
    "start_time": "2022-04-18T10:02:23.929Z"
   },
   {
    "duration": 134,
    "start_time": "2022-04-18T10:02:23.947Z"
   },
   {
    "duration": 388,
    "start_time": "2022-04-18T10:02:24.084Z"
   },
   {
    "duration": 174,
    "start_time": "2022-04-18T10:02:24.474Z"
   },
   {
    "duration": 610,
    "start_time": "2022-04-18T10:02:38.207Z"
   },
   {
    "duration": 12,
    "start_time": "2022-04-18T10:03:24.335Z"
   },
   {
    "duration": 2557,
    "start_time": "2022-04-18T10:03:41.773Z"
   },
   {
    "duration": 816,
    "start_time": "2022-04-18T10:04:02.828Z"
   },
   {
    "duration": 688,
    "start_time": "2022-04-18T10:04:03.646Z"
   },
   {
    "duration": 18,
    "start_time": "2022-04-18T10:04:04.336Z"
   },
   {
    "duration": 108,
    "start_time": "2022-04-18T10:04:04.356Z"
   },
   {
    "duration": 393,
    "start_time": "2022-04-18T10:04:04.466Z"
   },
   {
    "duration": 171,
    "start_time": "2022-04-18T10:04:04.861Z"
   },
   {
    "duration": 199,
    "start_time": "2022-04-18T10:04:28.070Z"
   },
   {
    "duration": 5,
    "start_time": "2022-04-18T10:04:30.320Z"
   },
   {
    "duration": 98,
    "start_time": "2022-04-18T10:04:54.599Z"
   },
   {
    "duration": 804,
    "start_time": "2022-04-18T10:05:34.343Z"
   },
   {
    "duration": 672,
    "start_time": "2022-04-18T10:05:35.149Z"
   },
   {
    "duration": 19,
    "start_time": "2022-04-18T10:05:35.823Z"
   },
   {
    "duration": 110,
    "start_time": "2022-04-18T10:05:35.844Z"
   },
   {
    "duration": 396,
    "start_time": "2022-04-18T10:05:35.956Z"
   },
   {
    "duration": 140,
    "start_time": "2022-04-18T10:05:36.353Z"
   },
   {
    "duration": 198,
    "start_time": "2022-04-18T10:05:45.110Z"
   },
   {
    "duration": 12,
    "start_time": "2022-04-18T10:05:47.863Z"
   },
   {
    "duration": 116,
    "start_time": "2022-04-18T10:05:56.261Z"
   },
   {
    "duration": 856,
    "start_time": "2022-04-18T10:07:23.099Z"
   },
   {
    "duration": 677,
    "start_time": "2022-04-18T10:07:23.958Z"
   },
   {
    "duration": 18,
    "start_time": "2022-04-18T10:07:24.637Z"
   },
   {
    "duration": 113,
    "start_time": "2022-04-18T10:07:24.657Z"
   },
   {
    "duration": 386,
    "start_time": "2022-04-18T10:07:24.773Z"
   },
   {
    "duration": 179,
    "start_time": "2022-04-18T10:08:00.242Z"
   },
   {
    "duration": 131,
    "start_time": "2022-04-18T10:08:13.974Z"
   },
   {
    "duration": 187,
    "start_time": "2022-04-18T10:09:25.342Z"
   },
   {
    "duration": 25,
    "start_time": "2022-04-18T10:09:34.700Z"
   },
   {
    "duration": 41,
    "start_time": "2022-04-18T10:09:46.121Z"
   },
   {
    "duration": 197,
    "start_time": "2022-04-18T10:09:57.758Z"
   },
   {
    "duration": 110,
    "start_time": "2022-04-18T10:09:59.775Z"
   },
   {
    "duration": 35,
    "start_time": "2022-04-18T11:28:12.698Z"
   },
   {
    "duration": 37,
    "start_time": "2022-04-18T11:30:36.845Z"
   },
   {
    "duration": 2362,
    "start_time": "2022-04-18T11:48:55.098Z"
   },
   {
    "duration": 891,
    "start_time": "2022-04-18T11:49:08.651Z"
   },
   {
    "duration": 680,
    "start_time": "2022-04-18T11:49:09.545Z"
   },
   {
    "duration": 19,
    "start_time": "2022-04-18T11:49:10.227Z"
   },
   {
    "duration": 112,
    "start_time": "2022-04-18T11:49:10.248Z"
   },
   {
    "duration": 383,
    "start_time": "2022-04-18T11:49:10.362Z"
   },
   {
    "duration": 47,
    "start_time": "2022-04-18T11:49:10.746Z"
   },
   {
    "duration": 136,
    "start_time": "2022-04-18T11:49:10.795Z"
   },
   {
    "duration": 201,
    "start_time": "2022-04-18T11:49:20.801Z"
   },
   {
    "duration": 157,
    "start_time": "2022-04-18T11:56:08.700Z"
   },
   {
    "duration": 234,
    "start_time": "2022-04-18T11:56:30.900Z"
   },
   {
    "duration": 234,
    "start_time": "2022-04-18T11:58:45.549Z"
   },
   {
    "duration": 143,
    "start_time": "2022-04-18T11:59:19.426Z"
   },
   {
    "duration": 175,
    "start_time": "2022-04-18T11:59:38.102Z"
   },
   {
    "duration": 342,
    "start_time": "2022-04-18T11:59:50.604Z"
   },
   {
    "duration": 367,
    "start_time": "2022-04-18T12:00:13.265Z"
   },
   {
    "duration": 217,
    "start_time": "2022-04-18T12:01:03.812Z"
   },
   {
    "duration": 172,
    "start_time": "2022-04-18T12:08:54.751Z"
   },
   {
    "duration": 91,
    "start_time": "2022-04-18T12:10:09.070Z"
   },
   {
    "duration": 129,
    "start_time": "2022-04-18T12:10:15.015Z"
   },
   {
    "duration": 204,
    "start_time": "2022-04-18T12:13:45.069Z"
   },
   {
    "duration": 170,
    "start_time": "2022-04-18T12:15:47.705Z"
   },
   {
    "duration": 111,
    "start_time": "2022-04-18T12:15:59.719Z"
   },
   {
    "duration": 92,
    "start_time": "2022-04-18T12:21:30.823Z"
   },
   {
    "duration": 36,
    "start_time": "2022-04-18T12:24:14.823Z"
   },
   {
    "duration": 187,
    "start_time": "2022-04-18T12:24:27.348Z"
   },
   {
    "duration": 115,
    "start_time": "2022-04-18T12:26:51.141Z"
   },
   {
    "duration": 97,
    "start_time": "2022-04-18T12:27:27.569Z"
   },
   {
    "duration": 95,
    "start_time": "2022-04-18T12:31:06.846Z"
   },
   {
    "duration": 92,
    "start_time": "2022-04-18T12:31:35.766Z"
   },
   {
    "duration": 93,
    "start_time": "2022-04-18T12:31:47.540Z"
   },
   {
    "duration": 173,
    "start_time": "2022-04-18T12:34:24.220Z"
   },
   {
    "duration": 102,
    "start_time": "2022-04-18T12:35:16.030Z"
   },
   {
    "duration": 532,
    "start_time": "2022-04-18T12:39:14.128Z"
   },
   {
    "duration": 160,
    "start_time": "2022-04-18T12:39:45.976Z"
   },
   {
    "duration": 144,
    "start_time": "2022-04-18T12:40:17.986Z"
   },
   {
    "duration": 133,
    "start_time": "2022-04-18T12:41:16.593Z"
   },
   {
    "duration": 90,
    "start_time": "2022-04-18T12:41:45.594Z"
   },
   {
    "duration": 14,
    "start_time": "2022-04-18T12:42:26.786Z"
   },
   {
    "duration": 325,
    "start_time": "2022-04-18T12:42:51.603Z"
   },
   {
    "duration": 151,
    "start_time": "2022-04-18T12:43:10.793Z"
   },
   {
    "duration": 155,
    "start_time": "2022-04-18T12:43:28.270Z"
   },
   {
    "duration": 196,
    "start_time": "2022-04-18T12:57:10.663Z"
   },
   {
    "duration": 1063,
    "start_time": "2022-04-18T12:57:41.524Z"
   },
   {
    "duration": 669,
    "start_time": "2022-04-18T12:57:42.589Z"
   },
   {
    "duration": 15,
    "start_time": "2022-04-18T12:57:43.260Z"
   },
   {
    "duration": 115,
    "start_time": "2022-04-18T12:57:43.277Z"
   },
   {
    "duration": 392,
    "start_time": "2022-04-18T12:57:43.395Z"
   },
   {
    "duration": 41,
    "start_time": "2022-04-18T12:57:43.793Z"
   },
   {
    "duration": 150,
    "start_time": "2022-04-18T12:57:43.836Z"
   },
   {
    "duration": 200,
    "start_time": "2022-04-18T12:57:43.992Z"
   },
   {
    "duration": 292,
    "start_time": "2022-04-18T12:57:44.194Z"
   },
   {
    "duration": 182,
    "start_time": "2022-04-18T12:57:44.492Z"
   },
   {
    "duration": 98,
    "start_time": "2022-04-18T12:57:44.675Z"
   },
   {
    "duration": 408,
    "start_time": "2022-04-18T12:57:46.596Z"
   },
   {
    "duration": 145,
    "start_time": "2022-04-18T13:06:58.000Z"
   },
   {
    "duration": 70,
    "start_time": "2022-04-18T13:07:19.877Z"
   },
   {
    "duration": 185,
    "start_time": "2022-04-18T13:11:16.125Z"
   },
   {
    "duration": 19,
    "start_time": "2022-04-18T13:11:27.135Z"
   },
   {
    "duration": 123,
    "start_time": "2022-04-18T13:19:43.277Z"
   },
   {
    "duration": 28,
    "start_time": "2022-04-18T13:19:53.237Z"
   },
   {
    "duration": 18,
    "start_time": "2022-04-18T13:21:57.075Z"
   },
   {
    "duration": 14,
    "start_time": "2022-04-18T13:26:48.029Z"
   },
   {
    "duration": 32,
    "start_time": "2022-04-18T13:27:31.639Z"
   },
   {
    "duration": 25,
    "start_time": "2022-04-18T13:27:38.195Z"
   },
   {
    "duration": 45,
    "start_time": "2022-04-18T13:46:14.455Z"
   },
   {
    "duration": 32,
    "start_time": "2022-04-18T13:50:15.783Z"
   },
   {
    "duration": 15,
    "start_time": "2022-04-18T13:50:21.159Z"
   },
   {
    "duration": 12,
    "start_time": "2022-04-18T13:51:21.376Z"
   },
   {
    "duration": 26,
    "start_time": "2022-04-18T13:51:41.630Z"
   },
   {
    "duration": 33,
    "start_time": "2022-04-18T13:52:29.247Z"
   },
   {
    "duration": 19,
    "start_time": "2022-04-18T13:52:42.116Z"
   },
   {
    "duration": 26,
    "start_time": "2022-04-18T13:52:50.772Z"
   },
   {
    "duration": 33,
    "start_time": "2022-04-18T13:58:31.268Z"
   },
   {
    "duration": 20,
    "start_time": "2022-04-18T13:59:14.448Z"
   },
   {
    "duration": 18,
    "start_time": "2022-04-18T13:59:59.932Z"
   },
   {
    "duration": 20,
    "start_time": "2022-04-18T14:05:04.845Z"
   },
   {
    "duration": 75,
    "start_time": "2022-04-18T14:06:07.155Z"
   },
   {
    "duration": 23,
    "start_time": "2022-04-18T14:06:26.563Z"
   },
   {
    "duration": 21,
    "start_time": "2022-04-18T14:07:27.529Z"
   },
   {
    "duration": 19,
    "start_time": "2022-04-18T14:07:39.506Z"
   },
   {
    "duration": 36,
    "start_time": "2022-04-18T14:08:24.058Z"
   },
   {
    "duration": 20,
    "start_time": "2022-04-18T14:10:52.423Z"
   },
   {
    "duration": 94,
    "start_time": "2022-04-18T14:14:13.907Z"
   },
   {
    "duration": 9,
    "start_time": "2022-04-18T14:21:44.455Z"
   },
   {
    "duration": 10,
    "start_time": "2022-04-18T14:21:53.533Z"
   },
   {
    "duration": 6,
    "start_time": "2022-04-18T14:21:59.969Z"
   },
   {
    "duration": 20,
    "start_time": "2022-04-18T14:29:23.325Z"
   },
   {
    "duration": 12,
    "start_time": "2022-04-18T14:32:15.043Z"
   },
   {
    "duration": 401,
    "start_time": "2022-04-18T14:32:21.013Z"
   },
   {
    "duration": 150,
    "start_time": "2022-04-18T15:23:26.834Z"
   },
   {
    "duration": 179,
    "start_time": "2022-04-18T15:27:48.377Z"
   },
   {
    "duration": 6,
    "start_time": "2022-04-18T15:28:07.106Z"
   },
   {
    "duration": 5,
    "start_time": "2022-04-18T15:30:08.128Z"
   },
   {
    "duration": 23,
    "start_time": "2022-04-18T15:30:21.290Z"
   },
   {
    "duration": 10,
    "start_time": "2022-04-18T15:30:51.174Z"
   },
   {
    "duration": 103,
    "start_time": "2022-04-18T15:32:43.248Z"
   },
   {
    "duration": 148,
    "start_time": "2022-04-18T15:32:56.832Z"
   },
   {
    "duration": 18,
    "start_time": "2022-04-18T15:45:41.092Z"
   },
   {
    "duration": 77,
    "start_time": "2022-04-18T15:45:55.505Z"
   },
   {
    "duration": 17,
    "start_time": "2022-04-18T16:00:48.076Z"
   },
   {
    "duration": 19,
    "start_time": "2022-04-18T16:06:44.194Z"
   },
   {
    "duration": 78,
    "start_time": "2022-04-18T16:08:27.544Z"
   },
   {
    "duration": 80,
    "start_time": "2022-04-18T16:08:33.113Z"
   },
   {
    "duration": 76,
    "start_time": "2022-04-18T16:09:03.819Z"
   },
   {
    "duration": 14,
    "start_time": "2022-04-18T16:09:40.435Z"
   },
   {
    "duration": 12,
    "start_time": "2022-04-18T16:10:49.666Z"
   },
   {
    "duration": 142,
    "start_time": "2022-04-18T16:10:59.770Z"
   },
   {
    "duration": 3,
    "start_time": "2022-04-18T17:24:21.733Z"
   },
   {
    "duration": 9,
    "start_time": "2022-04-18T17:24:51.757Z"
   },
   {
    "duration": 13,
    "start_time": "2022-04-18T17:24:59.063Z"
   },
   {
    "duration": 12,
    "start_time": "2022-04-18T17:28:59.577Z"
   },
   {
    "duration": 2044,
    "start_time": "2022-04-18T17:29:07.195Z"
   },
   {
    "duration": 14,
    "start_time": "2022-04-18T17:29:28.518Z"
   },
   {
    "duration": 1143,
    "start_time": "2022-04-18T17:29:53.681Z"
   },
   {
    "duration": 739,
    "start_time": "2022-04-18T17:29:54.827Z"
   },
   {
    "duration": 26,
    "start_time": "2022-04-18T17:29:55.568Z"
   },
   {
    "duration": 114,
    "start_time": "2022-04-18T17:29:55.595Z"
   },
   {
    "duration": 396,
    "start_time": "2022-04-18T17:29:55.712Z"
   },
   {
    "duration": 41,
    "start_time": "2022-04-18T17:29:56.109Z"
   },
   {
    "duration": 153,
    "start_time": "2022-04-18T17:29:56.152Z"
   },
   {
    "duration": 220,
    "start_time": "2022-04-18T17:29:56.307Z"
   },
   {
    "duration": 291,
    "start_time": "2022-04-18T17:29:56.529Z"
   },
   {
    "duration": 272,
    "start_time": "2022-04-18T17:29:56.822Z"
   },
   {
    "duration": 159,
    "start_time": "2022-04-18T17:29:57.096Z"
   },
   {
    "duration": 459,
    "start_time": "2022-04-18T17:29:57.258Z"
   },
   {
    "duration": 73,
    "start_time": "2022-04-18T17:29:57.719Z"
   },
   {
    "duration": 26,
    "start_time": "2022-04-18T17:29:57.795Z"
   },
   {
    "duration": 20,
    "start_time": "2022-04-18T17:29:57.823Z"
   },
   {
    "duration": 14,
    "start_time": "2022-04-18T17:29:57.844Z"
   },
   {
    "duration": 51,
    "start_time": "2022-04-18T17:29:57.859Z"
   },
   {
    "duration": 43,
    "start_time": "2022-04-18T17:29:57.912Z"
   },
   {
    "duration": 12,
    "start_time": "2022-04-18T17:29:57.956Z"
   },
   {
    "duration": 45,
    "start_time": "2022-04-18T17:29:57.969Z"
   },
   {
    "duration": 19,
    "start_time": "2022-04-18T17:29:58.016Z"
   },
   {
    "duration": 108,
    "start_time": "2022-04-18T17:30:02.609Z"
   },
   {
    "duration": 2163,
    "start_time": "2022-04-18T17:30:45.888Z"
   },
   {
    "duration": 167,
    "start_time": "2022-04-18T17:31:01.150Z"
   },
   {
    "duration": 89,
    "start_time": "2022-04-18T17:31:58.990Z"
   },
   {
    "duration": 16195,
    "start_time": "2022-04-18T17:36:39.125Z"
   },
   {
    "duration": 1569,
    "start_time": "2022-04-18T17:41:32.149Z"
   },
   {
    "duration": 1634,
    "start_time": "2022-04-18T17:41:50.205Z"
   },
   {
    "duration": 28,
    "start_time": "2022-04-18T17:42:08.974Z"
   },
   {
    "duration": 16,
    "start_time": "2022-04-18T17:42:39.442Z"
   },
   {
    "duration": 4,
    "start_time": "2022-04-18T17:42:58.208Z"
   },
   {
    "duration": 5,
    "start_time": "2022-04-18T17:43:08.025Z"
   },
   {
    "duration": 13,
    "start_time": "2022-04-18T17:43:22.316Z"
   },
   {
    "duration": 81,
    "start_time": "2022-04-18T17:44:59.803Z"
   },
   {
    "duration": 15,
    "start_time": "2022-04-18T17:45:22.563Z"
   },
   {
    "duration": 66,
    "start_time": "2022-04-18T17:46:09.270Z"
   },
   {
    "duration": 31,
    "start_time": "2022-04-18T17:46:29.580Z"
   },
   {
    "duration": 142,
    "start_time": "2022-04-18T17:47:44.787Z"
   },
   {
    "duration": 10,
    "start_time": "2022-04-18T17:47:47.700Z"
   },
   {
    "duration": 13,
    "start_time": "2022-04-18T17:50:44.958Z"
   },
   {
    "duration": 1085,
    "start_time": "2022-04-18T17:50:51.809Z"
   },
   {
    "duration": 630,
    "start_time": "2022-04-18T17:51:56.874Z"
   },
   {
    "duration": 13,
    "start_time": "2022-04-18T17:54:35.480Z"
   },
   {
    "duration": 11,
    "start_time": "2022-04-18T17:55:10.216Z"
   },
   {
    "duration": 3,
    "start_time": "2022-04-18T18:03:46.018Z"
   },
   {
    "duration": 95,
    "start_time": "2022-04-18T18:04:27.742Z"
   },
   {
    "duration": 93,
    "start_time": "2022-04-18T18:05:48.239Z"
   },
   {
    "duration": 97,
    "start_time": "2022-04-18T18:07:10.674Z"
   },
   {
    "duration": 166,
    "start_time": "2022-04-18T18:07:23.596Z"
   },
   {
    "duration": 5,
    "start_time": "2022-04-18T18:10:25.010Z"
   },
   {
    "duration": 4,
    "start_time": "2022-04-18T18:11:21.733Z"
   },
   {
    "duration": 4,
    "start_time": "2022-04-18T18:12:36.487Z"
   },
   {
    "duration": 4,
    "start_time": "2022-04-18T18:12:41.581Z"
   },
   {
    "duration": 3,
    "start_time": "2022-04-18T18:15:19.061Z"
   },
   {
    "duration": 587,
    "start_time": "2022-04-18T18:15:19.909Z"
   },
   {
    "duration": 11,
    "start_time": "2022-04-18T18:20:43.421Z"
   },
   {
    "duration": 1235,
    "start_time": "2022-04-18T18:21:04.109Z"
   },
   {
    "duration": 747,
    "start_time": "2022-04-18T18:21:05.346Z"
   },
   {
    "duration": 16,
    "start_time": "2022-04-18T18:21:06.095Z"
   },
   {
    "duration": 115,
    "start_time": "2022-04-18T18:21:06.113Z"
   },
   {
    "duration": 544,
    "start_time": "2022-04-18T18:21:06.231Z"
   },
   {
    "duration": 77,
    "start_time": "2022-04-18T18:21:06.778Z"
   },
   {
    "duration": 160,
    "start_time": "2022-04-18T18:21:06.858Z"
   },
   {
    "duration": 225,
    "start_time": "2022-04-18T18:21:07.020Z"
   },
   {
    "duration": 312,
    "start_time": "2022-04-18T18:21:07.247Z"
   },
   {
    "duration": 197,
    "start_time": "2022-04-18T18:21:07.561Z"
   },
   {
    "duration": 107,
    "start_time": "2022-04-18T18:21:07.760Z"
   },
   {
    "duration": 335,
    "start_time": "2022-04-18T18:21:07.869Z"
   },
   {
    "duration": 87,
    "start_time": "2022-04-18T18:21:08.206Z"
   },
   {
    "duration": 30,
    "start_time": "2022-04-18T18:21:08.298Z"
   },
   {
    "duration": 24,
    "start_time": "2022-04-18T18:21:08.330Z"
   },
   {
    "duration": 45,
    "start_time": "2022-04-18T18:21:08.356Z"
   },
   {
    "duration": 26,
    "start_time": "2022-04-18T18:21:08.403Z"
   },
   {
    "duration": 73,
    "start_time": "2022-04-18T18:21:08.431Z"
   },
   {
    "duration": 12,
    "start_time": "2022-04-18T18:21:08.507Z"
   },
   {
    "duration": 28,
    "start_time": "2022-04-18T18:21:08.521Z"
   },
   {
    "duration": 51,
    "start_time": "2022-04-18T18:21:08.551Z"
   },
   {
    "duration": 2153,
    "start_time": "2022-04-18T18:21:08.604Z"
   },
   {
    "duration": 3,
    "start_time": "2022-04-18T18:21:10.759Z"
   },
   {
    "duration": 750,
    "start_time": "2022-04-18T18:21:10.763Z"
   },
   {
    "duration": 0,
    "start_time": "2022-04-18T18:21:11.515Z"
   },
   {
    "duration": 0,
    "start_time": "2022-04-18T18:21:11.516Z"
   },
   {
    "duration": 0,
    "start_time": "2022-04-18T18:21:11.517Z"
   },
   {
    "duration": 0,
    "start_time": "2022-04-18T18:21:11.518Z"
   },
   {
    "duration": 0,
    "start_time": "2022-04-18T18:21:11.520Z"
   },
   {
    "duration": 0,
    "start_time": "2022-04-18T18:21:11.521Z"
   },
   {
    "duration": 0,
    "start_time": "2022-04-18T18:21:11.522Z"
   },
   {
    "duration": 0,
    "start_time": "2022-04-18T18:21:11.523Z"
   },
   {
    "duration": 0,
    "start_time": "2022-04-18T18:21:11.524Z"
   },
   {
    "duration": 0,
    "start_time": "2022-04-18T18:21:11.526Z"
   },
   {
    "duration": 0,
    "start_time": "2022-04-18T18:21:11.526Z"
   },
   {
    "duration": 0,
    "start_time": "2022-04-18T18:21:11.527Z"
   },
   {
    "duration": 170,
    "start_time": "2022-04-18T18:21:25.953Z"
   },
   {
    "duration": 164,
    "start_time": "2022-04-18T18:21:27.049Z"
   },
   {
    "duration": 11,
    "start_time": "2022-04-18T18:21:28.033Z"
   },
   {
    "duration": 13,
    "start_time": "2022-04-18T18:21:30.433Z"
   },
   {
    "duration": 1103,
    "start_time": "2022-04-18T18:21:31.042Z"
   },
   {
    "duration": 93,
    "start_time": "2022-04-18T18:21:37.115Z"
   },
   {
    "duration": 9,
    "start_time": "2022-04-18T18:21:39.605Z"
   },
   {
    "duration": 13,
    "start_time": "2022-04-18T18:21:41.769Z"
   },
   {
    "duration": 220,
    "start_time": "2022-04-18T18:21:46.313Z"
   },
   {
    "duration": 92,
    "start_time": "2022-04-18T18:23:17.344Z"
   },
   {
    "duration": 46,
    "start_time": "2022-04-19T13:16:35.586Z"
   },
   {
    "duration": 1375,
    "start_time": "2022-04-19T13:16:49.384Z"
   },
   {
    "duration": 7870,
    "start_time": "2022-04-19T13:16:50.762Z"
   },
   {
    "duration": 15,
    "start_time": "2022-04-19T13:16:58.633Z"
   },
   {
    "duration": 89,
    "start_time": "2022-04-19T13:16:58.650Z"
   },
   {
    "duration": 381,
    "start_time": "2022-04-19T13:16:58.742Z"
   },
   {
    "duration": 41,
    "start_time": "2022-04-19T13:16:59.172Z"
   },
   {
    "duration": 155,
    "start_time": "2022-04-19T13:16:59.214Z"
   },
   {
    "duration": 195,
    "start_time": "2022-04-19T13:16:59.373Z"
   },
   {
    "duration": 268,
    "start_time": "2022-04-19T13:16:59.570Z"
   },
   {
    "duration": 177,
    "start_time": "2022-04-19T13:16:59.840Z"
   },
   {
    "duration": 103,
    "start_time": "2022-04-19T13:17:00.019Z"
   },
   {
    "duration": 319,
    "start_time": "2022-04-19T13:17:00.124Z"
   },
   {
    "duration": 78,
    "start_time": "2022-04-19T13:17:00.445Z"
   },
   {
    "duration": 27,
    "start_time": "2022-04-19T13:17:00.526Z"
   },
   {
    "duration": 34,
    "start_time": "2022-04-19T13:17:00.555Z"
   },
   {
    "duration": 14,
    "start_time": "2022-04-19T13:17:00.591Z"
   },
   {
    "duration": 23,
    "start_time": "2022-04-19T13:17:00.606Z"
   },
   {
    "duration": 68,
    "start_time": "2022-04-19T13:17:00.630Z"
   },
   {
    "duration": 11,
    "start_time": "2022-04-19T13:17:00.700Z"
   },
   {
    "duration": 27,
    "start_time": "2022-04-19T13:17:00.712Z"
   },
   {
    "duration": 21,
    "start_time": "2022-04-19T13:17:13.270Z"
   },
   {
    "duration": 68,
    "start_time": "2022-04-19T13:18:27.277Z"
   },
   {
    "duration": 24,
    "start_time": "2022-04-19T13:18:44.733Z"
   },
   {
    "duration": 19,
    "start_time": "2022-04-19T13:19:05.151Z"
   },
   {
    "duration": 21,
    "start_time": "2022-04-19T13:19:25.015Z"
   },
   {
    "duration": 11,
    "start_time": "2022-04-19T13:20:14.527Z"
   },
   {
    "duration": 21,
    "start_time": "2022-04-19T13:20:22.521Z"
   },
   {
    "duration": 80,
    "start_time": "2022-04-19T13:26:12.157Z"
   },
   {
    "duration": 30,
    "start_time": "2022-04-19T13:26:18.775Z"
   },
   {
    "duration": 28,
    "start_time": "2022-04-19T13:26:22.701Z"
   },
   {
    "duration": 45,
    "start_time": "2022-04-19T13:26:33.079Z"
   },
   {
    "duration": 47,
    "start_time": "2022-04-19T13:26:38.259Z"
   },
   {
    "duration": 20,
    "start_time": "2022-04-19T13:27:54.779Z"
   },
   {
    "duration": 1510,
    "start_time": "2022-04-19T13:31:24.435Z"
   },
   {
    "duration": 2,
    "start_time": "2022-04-19T13:35:04.291Z"
   },
   {
    "duration": 48,
    "start_time": "2022-04-19T13:37:23.402Z"
   },
   {
    "duration": 1206,
    "start_time": "2022-04-19T13:37:28.309Z"
   },
   {
    "duration": 610,
    "start_time": "2022-04-19T13:37:29.517Z"
   },
   {
    "duration": 3,
    "start_time": "2022-04-19T13:37:30.129Z"
   },
   {
    "duration": 25,
    "start_time": "2022-04-19T13:37:30.134Z"
   },
   {
    "duration": 95,
    "start_time": "2022-04-19T13:37:30.161Z"
   },
   {
    "duration": 357,
    "start_time": "2022-04-19T13:37:30.257Z"
   },
   {
    "duration": 38,
    "start_time": "2022-04-19T13:37:30.616Z"
   },
   {
    "duration": 140,
    "start_time": "2022-04-19T13:37:30.656Z"
   },
   {
    "duration": 205,
    "start_time": "2022-04-19T13:37:30.798Z"
   },
   {
    "duration": 286,
    "start_time": "2022-04-19T13:37:31.006Z"
   },
   {
    "duration": 176,
    "start_time": "2022-04-19T13:37:31.294Z"
   },
   {
    "duration": 101,
    "start_time": "2022-04-19T13:37:31.473Z"
   },
   {
    "duration": 309,
    "start_time": "2022-04-19T13:37:31.576Z"
   },
   {
    "duration": 70,
    "start_time": "2022-04-19T13:37:31.887Z"
   },
   {
    "duration": 39,
    "start_time": "2022-04-19T13:37:31.959Z"
   },
   {
    "duration": 23,
    "start_time": "2022-04-19T13:37:32.000Z"
   },
   {
    "duration": 14,
    "start_time": "2022-04-19T13:37:32.025Z"
   },
   {
    "duration": 48,
    "start_time": "2022-04-19T13:37:32.040Z"
   },
   {
    "duration": 43,
    "start_time": "2022-04-19T13:37:32.090Z"
   },
   {
    "duration": 12,
    "start_time": "2022-04-19T13:37:32.135Z"
   },
   {
    "duration": 58,
    "start_time": "2022-04-19T13:37:32.149Z"
   },
   {
    "duration": 42,
    "start_time": "2022-04-19T13:37:32.209Z"
   },
   {
    "duration": 1579,
    "start_time": "2022-04-19T13:37:32.253Z"
   },
   {
    "duration": 4,
    "start_time": "2022-04-19T13:37:36.330Z"
   },
   {
    "duration": 4,
    "start_time": "2022-04-19T13:38:06.650Z"
   },
   {
    "duration": 3,
    "start_time": "2022-04-19T13:38:12.506Z"
   },
   {
    "duration": 143,
    "start_time": "2022-04-19T13:38:36.277Z"
   },
   {
    "duration": 125,
    "start_time": "2022-04-19T13:38:39.770Z"
   },
   {
    "duration": 10,
    "start_time": "2022-04-19T13:38:43.290Z"
   },
   {
    "duration": 10,
    "start_time": "2022-04-19T13:38:46.976Z"
   },
   {
    "duration": 109,
    "start_time": "2022-04-19T13:40:26.609Z"
   },
   {
    "duration": 68,
    "start_time": "2022-04-19T13:40:43.010Z"
   },
   {
    "duration": 105,
    "start_time": "2022-04-19T13:41:10.936Z"
   },
   {
    "duration": 124,
    "start_time": "2022-04-19T13:41:33.777Z"
   },
   {
    "duration": 108,
    "start_time": "2022-04-19T13:41:46.817Z"
   },
   {
    "duration": 17,
    "start_time": "2022-04-19T13:41:55.065Z"
   },
   {
    "duration": 4,
    "start_time": "2022-04-19T13:42:00.983Z"
   },
   {
    "duration": 104,
    "start_time": "2022-04-19T13:42:28.737Z"
   },
   {
    "duration": 17,
    "start_time": "2022-04-19T13:42:32.533Z"
   },
   {
    "duration": 4,
    "start_time": "2022-04-19T13:43:23.625Z"
   },
   {
    "duration": 21,
    "start_time": "2022-04-19T13:43:28.024Z"
   },
   {
    "duration": 20,
    "start_time": "2022-04-19T13:44:00.954Z"
   },
   {
    "duration": 897,
    "start_time": "2022-04-19T13:44:08.206Z"
   },
   {
    "duration": 1639,
    "start_time": "2022-04-19T14:43:32.509Z"
   },
   {
    "duration": 16,
    "start_time": "2022-04-19T14:44:03.340Z"
   },
   {
    "duration": 70,
    "start_time": "2022-04-19T14:50:25.485Z"
   },
   {
    "duration": 74,
    "start_time": "2022-04-19T15:06:50.230Z"
   },
   {
    "duration": 78,
    "start_time": "2022-04-19T15:07:00.050Z"
   },
   {
    "duration": 169,
    "start_time": "2022-04-19T15:09:35.912Z"
   },
   {
    "duration": 530,
    "start_time": "2022-04-19T15:12:09.896Z"
   },
   {
    "duration": 48,
    "start_time": "2022-04-19T15:12:38.375Z"
   },
   {
    "duration": 72,
    "start_time": "2022-04-19T15:14:15.277Z"
   },
   {
    "duration": 153,
    "start_time": "2022-04-19T15:15:02.962Z"
   },
   {
    "duration": 12,
    "start_time": "2022-04-19T15:16:06.575Z"
   },
   {
    "duration": 10,
    "start_time": "2022-04-19T15:16:15.597Z"
   },
   {
    "duration": 127,
    "start_time": "2022-04-19T15:16:32.489Z"
   },
   {
    "duration": 119,
    "start_time": "2022-04-19T15:16:43.614Z"
   },
   {
    "duration": 56,
    "start_time": "2022-04-19T15:17:57.302Z"
   },
   {
    "duration": 114,
    "start_time": "2022-04-19T15:19:07.060Z"
   },
   {
    "duration": 5,
    "start_time": "2022-04-19T15:21:37.721Z"
   },
   {
    "duration": 5,
    "start_time": "2022-04-19T15:22:31.021Z"
   },
   {
    "duration": 124,
    "start_time": "2022-04-19T15:23:39.199Z"
   },
   {
    "duration": 136,
    "start_time": "2022-04-19T15:24:05.226Z"
   },
   {
    "duration": 131,
    "start_time": "2022-04-19T15:24:20.236Z"
   },
   {
    "duration": 137,
    "start_time": "2022-04-19T15:24:26.992Z"
   },
   {
    "duration": 223,
    "start_time": "2022-04-19T15:24:33.051Z"
   },
   {
    "duration": 135,
    "start_time": "2022-04-19T15:24:39.627Z"
   },
   {
    "duration": 27,
    "start_time": "2022-04-19T15:24:52.876Z"
   },
   {
    "duration": 10,
    "start_time": "2022-04-19T15:26:56.005Z"
   },
   {
    "duration": 10,
    "start_time": "2022-04-19T15:27:24.089Z"
   },
   {
    "duration": 10,
    "start_time": "2022-04-19T15:27:31.243Z"
   },
   {
    "duration": 56,
    "start_time": "2022-04-19T15:43:12.818Z"
   },
   {
    "duration": 60,
    "start_time": "2022-04-19T15:47:34.941Z"
   },
   {
    "duration": 14,
    "start_time": "2022-04-19T15:49:36.927Z"
   },
   {
    "duration": 83,
    "start_time": "2022-04-19T15:52:42.888Z"
   },
   {
    "duration": 64,
    "start_time": "2022-04-19T15:53:08.937Z"
   },
   {
    "duration": 56,
    "start_time": "2022-04-19T15:53:17.886Z"
   },
   {
    "duration": 60,
    "start_time": "2022-04-19T15:54:30.204Z"
   },
   {
    "duration": 8,
    "start_time": "2022-04-19T15:55:08.759Z"
   },
   {
    "duration": 90,
    "start_time": "2022-04-19T16:03:27.518Z"
   },
   {
    "duration": 64,
    "start_time": "2022-04-19T16:03:45.296Z"
   },
   {
    "duration": 65,
    "start_time": "2022-04-19T16:03:54.188Z"
   },
   {
    "duration": 9,
    "start_time": "2022-04-19T16:04:24.021Z"
   },
   {
    "duration": 66,
    "start_time": "2022-04-19T16:06:22.149Z"
   },
   {
    "duration": 157,
    "start_time": "2022-04-19T16:16:24.937Z"
   },
   {
    "duration": 243,
    "start_time": "2022-04-19T16:17:40.497Z"
   },
   {
    "duration": 146,
    "start_time": "2022-04-19T16:17:48.896Z"
   },
   {
    "duration": 160,
    "start_time": "2022-04-19T16:18:00.646Z"
   },
   {
    "duration": 10,
    "start_time": "2022-04-19T16:18:49.063Z"
   },
   {
    "duration": 255,
    "start_time": "2022-04-19T16:21:31.048Z"
   },
   {
    "duration": 135,
    "start_time": "2022-04-19T16:22:20.920Z"
   },
   {
    "duration": 132,
    "start_time": "2022-04-19T16:23:20.510Z"
   },
   {
    "duration": 31,
    "start_time": "2022-04-19T16:25:32.470Z"
   },
   {
    "duration": 217,
    "start_time": "2022-04-19T16:26:05.341Z"
   },
   {
    "duration": 227,
    "start_time": "2022-04-19T16:31:35.148Z"
   },
   {
    "duration": 288,
    "start_time": "2022-04-19T16:31:49.206Z"
   },
   {
    "duration": 16,
    "start_time": "2022-04-19T16:38:15.347Z"
   },
   {
    "duration": 62,
    "start_time": "2022-04-19T16:40:39.675Z"
   },
   {
    "duration": 63,
    "start_time": "2022-04-19T16:40:50.773Z"
   },
   {
    "duration": 66,
    "start_time": "2022-04-19T16:41:00.284Z"
   },
   {
    "duration": 15,
    "start_time": "2022-04-19T16:41:21.977Z"
   },
   {
    "duration": 71,
    "start_time": "2022-04-19T16:43:06.449Z"
   },
   {
    "duration": 68,
    "start_time": "2022-04-19T16:43:34.229Z"
   },
   {
    "duration": 70,
    "start_time": "2022-04-19T16:44:04.780Z"
   },
   {
    "duration": 16,
    "start_time": "2022-04-19T16:45:16.604Z"
   },
   {
    "duration": 68,
    "start_time": "2022-04-19T16:45:41.299Z"
   },
   {
    "duration": 153,
    "start_time": "2022-04-19T16:47:26.123Z"
   },
   {
    "duration": 71,
    "start_time": "2022-04-19T16:47:48.488Z"
   },
   {
    "duration": 42,
    "start_time": "2022-04-19T21:09:11.088Z"
   },
   {
    "duration": 0,
    "start_time": "2022-04-19T21:12:50.126Z"
   },
   {
    "duration": 0,
    "start_time": "2022-04-19T21:12:50.127Z"
   },
   {
    "duration": 0,
    "start_time": "2022-04-19T21:12:50.128Z"
   },
   {
    "duration": 0,
    "start_time": "2022-04-19T21:12:50.129Z"
   },
   {
    "duration": 0,
    "start_time": "2022-04-19T21:12:50.131Z"
   },
   {
    "duration": 0,
    "start_time": "2022-04-19T21:12:50.131Z"
   },
   {
    "duration": 0,
    "start_time": "2022-04-19T21:12:50.132Z"
   },
   {
    "duration": 0,
    "start_time": "2022-04-19T21:12:50.133Z"
   },
   {
    "duration": 0,
    "start_time": "2022-04-19T21:12:50.135Z"
   },
   {
    "duration": 0,
    "start_time": "2022-04-19T21:12:50.136Z"
   },
   {
    "duration": 0,
    "start_time": "2022-04-19T21:12:50.137Z"
   },
   {
    "duration": 0,
    "start_time": "2022-04-19T21:12:50.138Z"
   },
   {
    "duration": 0,
    "start_time": "2022-04-19T21:12:50.139Z"
   },
   {
    "duration": 0,
    "start_time": "2022-04-19T21:12:50.140Z"
   },
   {
    "duration": 0,
    "start_time": "2022-04-19T21:12:50.141Z"
   },
   {
    "duration": 0,
    "start_time": "2022-04-19T21:12:50.142Z"
   },
   {
    "duration": 0,
    "start_time": "2022-04-19T21:12:50.143Z"
   },
   {
    "duration": 0,
    "start_time": "2022-04-19T21:12:50.144Z"
   },
   {
    "duration": 0,
    "start_time": "2022-04-19T21:12:50.145Z"
   },
   {
    "duration": 0,
    "start_time": "2022-04-19T21:12:50.146Z"
   },
   {
    "duration": 0,
    "start_time": "2022-04-19T21:12:50.147Z"
   },
   {
    "duration": 0,
    "start_time": "2022-04-19T21:12:50.148Z"
   },
   {
    "duration": 0,
    "start_time": "2022-04-19T21:12:50.149Z"
   },
   {
    "duration": 0,
    "start_time": "2022-04-19T21:12:50.150Z"
   },
   {
    "duration": 1,
    "start_time": "2022-04-19T21:12:50.150Z"
   },
   {
    "duration": 0,
    "start_time": "2022-04-19T21:12:50.151Z"
   },
   {
    "duration": 0,
    "start_time": "2022-04-19T21:12:50.152Z"
   },
   {
    "duration": 0,
    "start_time": "2022-04-19T21:12:50.153Z"
   },
   {
    "duration": 0,
    "start_time": "2022-04-19T21:12:50.154Z"
   },
   {
    "duration": 0,
    "start_time": "2022-04-19T21:12:50.155Z"
   },
   {
    "duration": 0,
    "start_time": "2022-04-19T21:12:50.156Z"
   },
   {
    "duration": 0,
    "start_time": "2022-04-19T21:12:50.157Z"
   },
   {
    "duration": 0,
    "start_time": "2022-04-19T21:12:50.158Z"
   },
   {
    "duration": 0,
    "start_time": "2022-04-19T21:12:50.159Z"
   },
   {
    "duration": 0,
    "start_time": "2022-04-19T21:12:50.160Z"
   },
   {
    "duration": 0,
    "start_time": "2022-04-19T21:12:50.161Z"
   },
   {
    "duration": 0,
    "start_time": "2022-04-19T21:12:50.162Z"
   },
   {
    "duration": 0,
    "start_time": "2022-04-19T21:12:50.163Z"
   },
   {
    "duration": 0,
    "start_time": "2022-04-19T21:12:50.224Z"
   },
   {
    "duration": 0,
    "start_time": "2022-04-19T21:12:50.226Z"
   },
   {
    "duration": 0,
    "start_time": "2022-04-19T21:12:50.227Z"
   },
   {
    "duration": 3,
    "start_time": "2022-04-19T21:13:05.875Z"
   },
   {
    "duration": 680,
    "start_time": "2022-04-19T21:13:07.933Z"
   },
   {
    "duration": 3,
    "start_time": "2022-04-19T21:13:10.459Z"
   },
   {
    "duration": 10,
    "start_time": "2022-04-19T21:13:11.241Z"
   },
   {
    "duration": 67,
    "start_time": "2022-04-19T21:13:13.235Z"
   },
   {
    "duration": 494,
    "start_time": "2022-04-19T21:13:13.908Z"
   },
   {
    "duration": 50,
    "start_time": "2022-04-19T21:13:17.316Z"
   },
   {
    "duration": 165,
    "start_time": "2022-04-19T21:13:18.377Z"
   },
   {
    "duration": 158,
    "start_time": "2022-04-19T21:13:19.123Z"
   },
   {
    "duration": 222,
    "start_time": "2022-04-19T21:13:19.978Z"
   },
   {
    "duration": 135,
    "start_time": "2022-04-19T21:13:21.100Z"
   },
   {
    "duration": 89,
    "start_time": "2022-04-19T21:13:22.385Z"
   },
   {
    "duration": 233,
    "start_time": "2022-04-19T21:13:23.429Z"
   },
   {
    "duration": 55,
    "start_time": "2022-04-19T21:13:24.001Z"
   },
   {
    "duration": 23,
    "start_time": "2022-04-19T21:13:27.849Z"
   },
   {
    "duration": 17,
    "start_time": "2022-04-19T21:13:28.767Z"
   },
   {
    "duration": 12,
    "start_time": "2022-04-19T21:13:29.265Z"
   },
   {
    "duration": 18,
    "start_time": "2022-04-19T21:13:29.448Z"
   },
   {
    "duration": 39,
    "start_time": "2022-04-19T21:13:29.833Z"
   },
   {
    "duration": 11,
    "start_time": "2022-04-19T21:13:30.239Z"
   },
   {
    "duration": 24,
    "start_time": "2022-04-19T21:13:30.575Z"
   },
   {
    "duration": 31,
    "start_time": "2022-04-19T21:13:30.944Z"
   },
   {
    "duration": 1501,
    "start_time": "2022-04-19T21:13:31.354Z"
   },
   {
    "duration": 3,
    "start_time": "2022-04-19T21:13:32.857Z"
   },
   {
    "duration": 146,
    "start_time": "2022-04-19T21:13:32.862Z"
   },
   {
    "duration": 129,
    "start_time": "2022-04-19T21:13:33.010Z"
   },
   {
    "duration": 8,
    "start_time": "2022-04-19T21:13:33.140Z"
   },
   {
    "duration": 17,
    "start_time": "2022-04-19T21:13:33.150Z"
   },
   {
    "duration": 427,
    "start_time": "2022-04-19T21:13:35.865Z"
   },
   {
    "duration": 15,
    "start_time": "2022-04-19T21:13:42.429Z"
   },
   {
    "duration": 65,
    "start_time": "2022-04-19T21:13:44.258Z"
   },
   {
    "duration": 15,
    "start_time": "2022-04-19T21:13:46.482Z"
   },
   {
    "duration": 81,
    "start_time": "2022-04-19T21:14:43.820Z"
   },
   {
    "duration": 53,
    "start_time": "2022-04-19T21:14:51.896Z"
   },
   {
    "duration": 13,
    "start_time": "2022-04-19T21:14:57.570Z"
   },
   {
    "duration": 9,
    "start_time": "2022-04-19T21:15:04.744Z"
   },
   {
    "duration": 14,
    "start_time": "2022-04-19T21:15:06.032Z"
   },
   {
    "duration": 60,
    "start_time": "2022-04-19T21:15:21.562Z"
   },
   {
    "duration": 7,
    "start_time": "2022-04-19T21:15:30.442Z"
   },
   {
    "duration": 150,
    "start_time": "2022-04-19T21:15:33.650Z"
   },
   {
    "duration": 197,
    "start_time": "2022-04-19T21:15:35.898Z"
   },
   {
    "duration": 8,
    "start_time": "2022-04-19T21:15:39.202Z"
   },
   {
    "duration": 44,
    "start_time": "2022-04-19T21:15:40.378Z"
   },
   {
    "duration": 70,
    "start_time": "2022-04-19T21:15:41.170Z"
   },
   {
    "duration": 13,
    "start_time": "2022-04-19T21:15:42.400Z"
   },
   {
    "duration": 151,
    "start_time": "2022-04-19T21:15:45.696Z"
   },
   {
    "duration": 152,
    "start_time": "2022-04-19T21:16:46.033Z"
   },
   {
    "duration": 10,
    "start_time": "2022-04-19T21:17:16.801Z"
   },
   {
    "duration": 150,
    "start_time": "2022-04-19T21:18:46.576Z"
   },
   {
    "duration": 298,
    "start_time": "2022-04-19T21:19:03.001Z"
   },
   {
    "duration": 289,
    "start_time": "2022-04-19T21:20:07.967Z"
   },
   {
    "duration": 296,
    "start_time": "2022-04-19T21:20:21.595Z"
   },
   {
    "duration": 311,
    "start_time": "2022-04-19T21:21:08.345Z"
   },
   {
    "duration": 318,
    "start_time": "2022-04-19T21:21:20.015Z"
   },
   {
    "duration": 3,
    "start_time": "2022-04-19T21:22:58.097Z"
   },
   {
    "duration": 9,
    "start_time": "2022-04-19T21:23:12.235Z"
   },
   {
    "duration": 10,
    "start_time": "2022-04-19T21:23:54.441Z"
   },
   {
    "duration": 3,
    "start_time": "2022-04-19T21:24:00.395Z"
   },
   {
    "duration": 44,
    "start_time": "2022-04-19T21:40:28.581Z"
   },
   {
    "duration": 175,
    "start_time": "2022-04-19T21:41:33.887Z"
   },
   {
    "duration": 9,
    "start_time": "2022-04-19T21:42:45.749Z"
   },
   {
    "duration": 11,
    "start_time": "2022-04-19T21:44:03.678Z"
   },
   {
    "duration": 9,
    "start_time": "2022-04-19T21:45:24.468Z"
   },
   {
    "duration": 386,
    "start_time": "2022-04-19T21:46:10.284Z"
   },
   {
    "duration": 24,
    "start_time": "2022-04-19T21:46:18.894Z"
   },
   {
    "duration": 19,
    "start_time": "2022-04-19T21:46:55.502Z"
   },
   {
    "duration": 1678,
    "start_time": "2022-04-20T07:51:08.162Z"
   },
   {
    "duration": 4,
    "start_time": "2022-04-20T07:51:19.793Z"
   },
   {
    "duration": 414,
    "start_time": "2022-04-20T07:51:20.570Z"
   },
   {
    "duration": 36,
    "start_time": "2022-04-20T07:51:20.986Z"
   },
   {
    "duration": 137,
    "start_time": "2022-04-20T07:51:21.024Z"
   },
   {
    "duration": 180,
    "start_time": "2022-04-20T07:51:21.162Z"
   },
   {
    "duration": 259,
    "start_time": "2022-04-20T07:51:21.344Z"
   },
   {
    "duration": 170,
    "start_time": "2022-04-20T07:51:21.604Z"
   },
   {
    "duration": 87,
    "start_time": "2022-04-20T07:51:21.776Z"
   },
   {
    "duration": 315,
    "start_time": "2022-04-20T07:51:21.865Z"
   },
   {
    "duration": 73,
    "start_time": "2022-04-20T07:51:22.181Z"
   },
   {
    "duration": 25,
    "start_time": "2022-04-20T07:51:22.256Z"
   },
   {
    "duration": 18,
    "start_time": "2022-04-20T07:51:22.283Z"
   },
   {
    "duration": 11,
    "start_time": "2022-04-20T07:51:22.302Z"
   },
   {
    "duration": 48,
    "start_time": "2022-04-20T07:51:22.315Z"
   },
   {
    "duration": 40,
    "start_time": "2022-04-20T07:51:22.365Z"
   },
   {
    "duration": 11,
    "start_time": "2022-04-20T07:51:22.406Z"
   },
   {
    "duration": 45,
    "start_time": "2022-04-20T07:51:22.418Z"
   },
   {
    "duration": 33,
    "start_time": "2022-04-20T07:51:22.464Z"
   },
   {
    "duration": 1556,
    "start_time": "2022-04-20T07:51:22.498Z"
   },
   {
    "duration": 3,
    "start_time": "2022-04-20T07:51:24.056Z"
   },
   {
    "duration": 156,
    "start_time": "2022-04-20T07:51:24.061Z"
   },
   {
    "duration": 136,
    "start_time": "2022-04-20T07:51:24.219Z"
   },
   {
    "duration": 9,
    "start_time": "2022-04-20T07:51:24.356Z"
   },
   {
    "duration": 20,
    "start_time": "2022-04-20T07:51:24.368Z"
   },
   {
    "duration": 881,
    "start_time": "2022-04-20T07:51:24.390Z"
   },
   {
    "duration": 15,
    "start_time": "2022-04-20T07:51:25.273Z"
   },
   {
    "duration": 104,
    "start_time": "2022-04-20T07:51:25.290Z"
   },
   {
    "duration": 62,
    "start_time": "2022-04-20T07:51:25.396Z"
   },
   {
    "duration": 8,
    "start_time": "2022-04-20T07:51:25.459Z"
   },
   {
    "duration": 63,
    "start_time": "2022-04-20T07:51:25.468Z"
   },
   {
    "duration": 27,
    "start_time": "2022-04-20T07:51:25.532Z"
   },
   {
    "duration": 172,
    "start_time": "2022-04-20T07:51:25.560Z"
   },
   {
    "duration": 334,
    "start_time": "2022-04-20T07:51:25.733Z"
   },
   {
    "duration": 10,
    "start_time": "2022-04-20T07:51:26.070Z"
   },
   {
    "duration": 93,
    "start_time": "2022-04-20T07:51:26.082Z"
   },
   {
    "duration": 88,
    "start_time": "2022-04-20T07:51:26.177Z"
   },
   {
    "duration": 17,
    "start_time": "2022-04-20T07:51:26.267Z"
   },
   {
    "duration": 204,
    "start_time": "2022-04-20T07:51:26.286Z"
   },
   {
    "duration": 169,
    "start_time": "2022-04-20T07:51:26.492Z"
   },
   {
    "duration": 0,
    "start_time": "2022-04-20T07:51:26.663Z"
   },
   {
    "duration": 0,
    "start_time": "2022-04-20T07:51:26.664Z"
   },
   {
    "duration": 0,
    "start_time": "2022-04-20T07:51:26.665Z"
   },
   {
    "duration": 0,
    "start_time": "2022-04-20T07:51:26.667Z"
   },
   {
    "duration": 0,
    "start_time": "2022-04-20T07:51:26.668Z"
   },
   {
    "duration": 53,
    "start_time": "2022-04-20T07:54:42.867Z"
   },
   {
    "duration": 186,
    "start_time": "2022-04-20T07:54:53.834Z"
   },
   {
    "duration": 194,
    "start_time": "2022-04-20T07:55:04.113Z"
   },
   {
    "duration": 211,
    "start_time": "2022-04-20T07:56:51.154Z"
   },
   {
    "duration": 201,
    "start_time": "2022-04-20T07:56:57.097Z"
   },
   {
    "duration": 211,
    "start_time": "2022-04-20T07:57:09.520Z"
   },
   {
    "duration": 303,
    "start_time": "2022-04-20T07:57:32.026Z"
   },
   {
    "duration": 400,
    "start_time": "2022-04-20T07:58:10.474Z"
   },
   {
    "duration": 422,
    "start_time": "2022-04-20T07:58:22.571Z"
   },
   {
    "duration": 898,
    "start_time": "2022-04-20T08:00:38.410Z"
   },
   {
    "duration": 423,
    "start_time": "2022-04-20T08:00:59.757Z"
   },
   {
    "duration": 365,
    "start_time": "2022-04-20T08:01:23.673Z"
   },
   {
    "duration": 11,
    "start_time": "2022-04-20T08:02:39.018Z"
   },
   {
    "duration": 2138,
    "start_time": "2022-04-20T08:04:14.822Z"
   },
   {
    "duration": 2209,
    "start_time": "2022-04-20T08:04:38.912Z"
   },
   {
    "duration": 4,
    "start_time": "2022-04-20T08:04:51.232Z"
   },
   {
    "duration": 2053,
    "start_time": "2022-04-20T08:04:53.840Z"
   },
   {
    "duration": 19,
    "start_time": "2022-04-20T08:05:00.311Z"
   },
   {
    "duration": 84,
    "start_time": "2022-04-20T08:09:08.111Z"
   },
   {
    "duration": 118,
    "start_time": "2022-04-20T08:13:14.948Z"
   },
   {
    "duration": 83,
    "start_time": "2022-04-20T08:14:15.151Z"
   },
   {
    "duration": 82,
    "start_time": "2022-04-20T08:14:28.260Z"
   },
   {
    "duration": 79,
    "start_time": "2022-04-20T08:14:39.846Z"
   },
   {
    "duration": 82,
    "start_time": "2022-04-20T08:15:07.822Z"
   },
   {
    "duration": 118,
    "start_time": "2022-04-20T08:20:42.150Z"
   },
   {
    "duration": 139,
    "start_time": "2022-04-20T08:20:46.491Z"
   },
   {
    "duration": 1529,
    "start_time": "2022-04-20T08:21:52.606Z"
   },
   {
    "duration": 618,
    "start_time": "2022-04-20T08:21:54.137Z"
   },
   {
    "duration": 3,
    "start_time": "2022-04-20T08:21:54.757Z"
   },
   {
    "duration": 16,
    "start_time": "2022-04-20T08:21:54.762Z"
   },
   {
    "duration": 98,
    "start_time": "2022-04-20T08:21:54.779Z"
   },
   {
    "duration": 338,
    "start_time": "2022-04-20T08:21:54.878Z"
   },
   {
    "duration": 43,
    "start_time": "2022-04-20T08:21:55.217Z"
   },
   {
    "duration": 131,
    "start_time": "2022-04-20T08:21:55.262Z"
   },
   {
    "duration": 207,
    "start_time": "2022-04-20T08:21:55.395Z"
   },
   {
    "duration": 284,
    "start_time": "2022-04-20T08:21:55.604Z"
   },
   {
    "duration": 189,
    "start_time": "2022-04-20T08:21:55.889Z"
   },
   {
    "duration": 98,
    "start_time": "2022-04-20T08:21:56.080Z"
   },
   {
    "duration": 305,
    "start_time": "2022-04-20T08:21:56.180Z"
   },
   {
    "duration": 74,
    "start_time": "2022-04-20T08:21:56.487Z"
   },
   {
    "duration": 28,
    "start_time": "2022-04-20T08:21:56.562Z"
   },
   {
    "duration": 20,
    "start_time": "2022-04-20T08:21:56.591Z"
   },
   {
    "duration": 12,
    "start_time": "2022-04-20T08:21:56.612Z"
   },
   {
    "duration": 47,
    "start_time": "2022-04-20T08:21:56.625Z"
   },
   {
    "duration": 43,
    "start_time": "2022-04-20T08:21:56.673Z"
   },
   {
    "duration": 10,
    "start_time": "2022-04-20T08:21:56.717Z"
   },
   {
    "duration": 48,
    "start_time": "2022-04-20T08:21:56.729Z"
   },
   {
    "duration": 34,
    "start_time": "2022-04-20T08:21:56.779Z"
   },
   {
    "duration": 136,
    "start_time": "2022-04-20T08:21:56.814Z"
   },
   {
    "duration": 86,
    "start_time": "2022-04-20T08:21:56.954Z"
   },
   {
    "duration": 96,
    "start_time": "2022-04-20T08:21:57.042Z"
   },
   {
    "duration": 117,
    "start_time": "2022-04-20T08:21:57.140Z"
   },
   {
    "duration": 1697,
    "start_time": "2022-04-20T08:21:57.258Z"
   },
   {
    "duration": 4,
    "start_time": "2022-04-20T08:21:58.958Z"
   },
   {
    "duration": 156,
    "start_time": "2022-04-20T08:21:58.964Z"
   },
   {
    "duration": 146,
    "start_time": "2022-04-20T08:21:59.121Z"
   },
   {
    "duration": 9,
    "start_time": "2022-04-20T08:21:59.269Z"
   },
   {
    "duration": 26,
    "start_time": "2022-04-20T08:21:59.280Z"
   },
   {
    "duration": 899,
    "start_time": "2022-04-20T08:21:59.308Z"
   },
   {
    "duration": 16,
    "start_time": "2022-04-20T08:22:00.209Z"
   },
   {
    "duration": 93,
    "start_time": "2022-04-20T08:22:00.227Z"
   },
   {
    "duration": 71,
    "start_time": "2022-04-20T08:22:00.322Z"
   },
   {
    "duration": 7,
    "start_time": "2022-04-20T08:22:00.395Z"
   },
   {
    "duration": 78,
    "start_time": "2022-04-20T08:22:00.404Z"
   },
   {
    "duration": 8,
    "start_time": "2022-04-20T08:22:00.484Z"
   },
   {
    "duration": 181,
    "start_time": "2022-04-20T08:22:00.494Z"
   },
   {
    "duration": 245,
    "start_time": "2022-04-20T08:22:00.677Z"
   },
   {
    "duration": 8,
    "start_time": "2022-04-20T08:22:00.923Z"
   },
   {
    "duration": 69,
    "start_time": "2022-04-20T08:22:00.932Z"
   },
   {
    "duration": 104,
    "start_time": "2022-04-20T08:22:01.003Z"
   },
   {
    "duration": 15,
    "start_time": "2022-04-20T08:22:01.108Z"
   },
   {
    "duration": 211,
    "start_time": "2022-04-20T08:22:01.124Z"
   },
   {
    "duration": 82,
    "start_time": "2022-04-20T08:22:01.336Z"
   },
   {
    "duration": 169,
    "start_time": "2022-04-20T08:22:01.420Z"
   },
   {
    "duration": 599,
    "start_time": "2022-04-20T08:22:38.498Z"
   },
   {
    "duration": 53,
    "start_time": "2022-04-20T08:22:44.858Z"
   },
   {
    "duration": 3,
    "start_time": "2022-04-20T08:22:59.000Z"
   },
   {
    "duration": 21,
    "start_time": "2022-04-20T08:23:00.954Z"
   },
   {
    "duration": 3,
    "start_time": "2022-04-20T09:14:10.751Z"
   },
   {
    "duration": 7,
    "start_time": "2022-04-20T09:14:19.033Z"
   },
   {
    "duration": 19,
    "start_time": "2022-04-20T09:18:57.114Z"
   },
   {
    "duration": 12,
    "start_time": "2022-04-20T09:19:09.614Z"
   },
   {
    "duration": 15,
    "start_time": "2022-04-20T09:19:22.355Z"
   },
   {
    "duration": 56,
    "start_time": "2022-04-20T09:19:48.279Z"
   },
   {
    "duration": 57,
    "start_time": "2022-04-20T09:19:54.214Z"
   },
   {
    "duration": 3,
    "start_time": "2022-04-20T09:20:00.008Z"
   },
   {
    "duration": 25,
    "start_time": "2022-04-20T09:20:06.039Z"
   },
   {
    "duration": 15,
    "start_time": "2022-04-20T09:20:36.648Z"
   },
   {
    "duration": 16,
    "start_time": "2022-04-20T09:22:46.023Z"
   },
   {
    "duration": 3,
    "start_time": "2022-04-20T09:23:28.852Z"
   },
   {
    "duration": 3,
    "start_time": "2022-04-20T09:23:34.089Z"
   },
   {
    "duration": 752,
    "start_time": "2022-04-20T09:23:35.430Z"
   },
   {
    "duration": 3,
    "start_time": "2022-04-20T09:23:51.693Z"
   },
   {
    "duration": 15,
    "start_time": "2022-04-20T09:23:52.413Z"
   },
   {
    "duration": 5,
    "start_time": "2022-04-20T09:26:21.348Z"
   },
   {
    "duration": 8,
    "start_time": "2022-04-20T09:26:32.389Z"
   },
   {
    "duration": 2437,
    "start_time": "2022-04-21T07:43:56.386Z"
   },
   {
    "duration": 1613,
    "start_time": "2022-04-21T07:43:58.826Z"
   },
   {
    "duration": 3,
    "start_time": "2022-04-21T07:44:00.442Z"
   },
   {
    "duration": 35,
    "start_time": "2022-04-21T07:44:00.448Z"
   },
   {
    "duration": 133,
    "start_time": "2022-04-21T07:44:00.485Z"
   },
   {
    "duration": 508,
    "start_time": "2022-04-21T07:44:00.621Z"
   },
   {
    "duration": 67,
    "start_time": "2022-04-21T07:44:01.131Z"
   },
   {
    "duration": 211,
    "start_time": "2022-04-21T07:44:01.200Z"
   },
   {
    "duration": 333,
    "start_time": "2022-04-21T07:44:01.414Z"
   },
   {
    "duration": 402,
    "start_time": "2022-04-21T07:44:01.751Z"
   },
   {
    "duration": 250,
    "start_time": "2022-04-21T07:44:02.155Z"
   },
   {
    "duration": 136,
    "start_time": "2022-04-21T07:44:02.407Z"
   },
   {
    "duration": 442,
    "start_time": "2022-04-21T07:44:02.545Z"
   },
   {
    "duration": 103,
    "start_time": "2022-04-21T07:44:02.990Z"
   },
   {
    "duration": 38,
    "start_time": "2022-04-21T07:44:03.095Z"
   },
   {
    "duration": 26,
    "start_time": "2022-04-21T07:44:03.135Z"
   },
   {
    "duration": 18,
    "start_time": "2022-04-21T07:44:03.182Z"
   },
   {
    "duration": 29,
    "start_time": "2022-04-21T07:44:03.202Z"
   },
   {
    "duration": 98,
    "start_time": "2022-04-21T07:44:03.233Z"
   },
   {
    "duration": 14,
    "start_time": "2022-04-21T07:44:03.334Z"
   },
   {
    "duration": 52,
    "start_time": "2022-04-21T07:44:03.351Z"
   },
   {
    "duration": 55,
    "start_time": "2022-04-21T07:44:03.405Z"
   },
   {
    "duration": 204,
    "start_time": "2022-04-21T07:44:03.462Z"
   },
   {
    "duration": 141,
    "start_time": "2022-04-21T07:44:03.668Z"
   },
   {
    "duration": 144,
    "start_time": "2022-04-21T07:44:03.811Z"
   },
   {
    "duration": 169,
    "start_time": "2022-04-21T07:44:03.958Z"
   },
   {
    "duration": 3209,
    "start_time": "2022-04-21T07:44:04.129Z"
   },
   {
    "duration": 5,
    "start_time": "2022-04-21T07:44:07.343Z"
   },
   {
    "duration": 254,
    "start_time": "2022-04-21T07:44:07.350Z"
   },
   {
    "duration": 236,
    "start_time": "2022-04-21T07:44:07.606Z"
   },
   {
    "duration": 13,
    "start_time": "2022-04-21T07:44:07.844Z"
   },
   {
    "duration": 40,
    "start_time": "2022-04-21T07:44:07.859Z"
   },
   {
    "duration": 1424,
    "start_time": "2022-04-21T07:44:07.901Z"
   },
   {
    "duration": 22,
    "start_time": "2022-04-21T07:44:09.327Z"
   },
   {
    "duration": 110,
    "start_time": "2022-04-21T07:44:09.382Z"
   },
   {
    "duration": 109,
    "start_time": "2022-04-21T07:44:09.495Z"
   },
   {
    "duration": 12,
    "start_time": "2022-04-21T07:44:09.607Z"
   },
   {
    "duration": 132,
    "start_time": "2022-04-21T07:44:09.622Z"
   },
   {
    "duration": 26,
    "start_time": "2022-04-21T07:44:09.757Z"
   },
   {
    "duration": 276,
    "start_time": "2022-04-21T07:44:09.785Z"
   },
   {
    "duration": 327,
    "start_time": "2022-04-21T07:44:10.063Z"
   },
   {
    "duration": 11,
    "start_time": "2022-04-21T07:44:10.392Z"
   },
   {
    "duration": 178,
    "start_time": "2022-04-21T07:44:10.406Z"
   },
   {
    "duration": 130,
    "start_time": "2022-04-21T07:44:10.586Z"
   },
   {
    "duration": 20,
    "start_time": "2022-04-21T07:44:10.719Z"
   },
   {
    "duration": 98,
    "start_time": "2022-04-21T07:44:19.328Z"
   },
   {
    "duration": 820,
    "start_time": "2022-04-21T08:15:17.979Z"
   },
   {
    "duration": 3022,
    "start_time": "2022-04-21T08:15:29.642Z"
   },
   {
    "duration": 846,
    "start_time": "2022-04-21T08:15:40.921Z"
   },
   {
    "duration": 3,
    "start_time": "2022-04-21T08:15:42.842Z"
   },
   {
    "duration": 23,
    "start_time": "2022-04-21T08:15:43.466Z"
   },
   {
    "duration": 117,
    "start_time": "2022-04-21T08:15:43.914Z"
   },
   {
    "duration": 462,
    "start_time": "2022-04-21T08:15:44.601Z"
   },
   {
    "duration": 48,
    "start_time": "2022-04-21T08:15:48.098Z"
   },
   {
    "duration": 201,
    "start_time": "2022-04-21T08:15:50.914Z"
   },
   {
    "duration": 311,
    "start_time": "2022-04-21T08:15:51.570Z"
   },
   {
    "duration": 397,
    "start_time": "2022-04-21T08:15:52.340Z"
   },
   {
    "duration": 248,
    "start_time": "2022-04-21T08:15:54.346Z"
   },
   {
    "duration": 128,
    "start_time": "2022-04-21T08:15:55.690Z"
   },
   {
    "duration": 439,
    "start_time": "2022-04-21T08:15:57.954Z"
   },
   {
    "duration": 94,
    "start_time": "2022-04-21T08:15:59.130Z"
   },
   {
    "duration": 39,
    "start_time": "2022-04-21T08:16:01.506Z"
   },
   {
    "duration": 27,
    "start_time": "2022-04-21T08:16:02.634Z"
   },
   {
    "duration": 18,
    "start_time": "2022-04-21T08:16:03.634Z"
   },
   {
    "duration": 31,
    "start_time": "2022-04-21T08:16:05.434Z"
   },
   {
    "duration": 69,
    "start_time": "2022-04-21T08:16:06.434Z"
   },
   {
    "duration": 15,
    "start_time": "2022-04-21T08:16:07.433Z"
   },
   {
    "duration": 31,
    "start_time": "2022-04-21T08:16:09.650Z"
   },
   {
    "duration": 54,
    "start_time": "2022-04-21T08:16:10.585Z"
   },
   {
    "duration": 176,
    "start_time": "2022-04-21T08:16:12.649Z"
   },
   {
    "duration": 129,
    "start_time": "2022-04-21T08:16:13.321Z"
   },
   {
    "duration": 131,
    "start_time": "2022-04-21T08:16:13.770Z"
   },
   {
    "duration": 169,
    "start_time": "2022-04-21T08:16:14.442Z"
   },
   {
    "duration": 3044,
    "start_time": "2022-04-21T08:16:16.690Z"
   },
   {
    "duration": 5,
    "start_time": "2022-04-21T08:16:21.220Z"
   },
   {
    "duration": 233,
    "start_time": "2022-04-21T08:16:23.270Z"
   },
   {
    "duration": 216,
    "start_time": "2022-04-21T08:16:24.053Z"
   },
   {
    "duration": 13,
    "start_time": "2022-04-21T08:16:24.801Z"
   },
   {
    "duration": 23,
    "start_time": "2022-04-21T08:16:26.235Z"
   },
   {
    "duration": 1423,
    "start_time": "2022-04-21T08:16:26.902Z"
   },
   {
    "duration": 22,
    "start_time": "2022-04-21T08:16:31.697Z"
   },
   {
    "duration": 111,
    "start_time": "2022-04-21T08:16:32.273Z"
   },
   {
    "duration": 96,
    "start_time": "2022-04-21T08:16:32.769Z"
   },
   {
    "duration": 12,
    "start_time": "2022-04-21T08:16:33.634Z"
   },
   {
    "duration": 107,
    "start_time": "2022-04-21T08:16:35.136Z"
   },
   {
    "duration": 10,
    "start_time": "2022-04-21T08:16:36.258Z"
   },
   {
    "duration": 247,
    "start_time": "2022-04-21T08:16:41.650Z"
   },
   {
    "duration": 233,
    "start_time": "2022-04-21T08:16:42.990Z"
   },
   {
    "duration": 11,
    "start_time": "2022-04-21T08:16:44.419Z"
   },
   {
    "duration": 87,
    "start_time": "2022-04-21T08:16:46.874Z"
   },
   {
    "duration": 117,
    "start_time": "2022-04-21T08:16:47.642Z"
   },
   {
    "duration": 23,
    "start_time": "2022-04-21T08:16:50.362Z"
   },
   {
    "duration": 104,
    "start_time": "2022-04-21T08:16:54.346Z"
   },
   {
    "duration": 4,
    "start_time": "2022-04-21T08:16:56.122Z"
   },
   {
    "duration": 7,
    "start_time": "2022-04-21T08:16:56.824Z"
   },
   {
    "duration": 7,
    "start_time": "2022-04-21T08:16:58.924Z"
   },
   {
    "duration": 508,
    "start_time": "2022-04-21T08:17:00.818Z"
   },
   {
    "duration": 264,
    "start_time": "2022-04-21T08:17:04.460Z"
   },
   {
    "duration": 64,
    "start_time": "2022-04-21T08:17:16.258Z"
   },
   {
    "duration": 4,
    "start_time": "2022-04-21T08:17:20.090Z"
   },
   {
    "duration": 2297,
    "start_time": "2022-04-21T08:17:35.593Z"
   },
   {
    "duration": 107,
    "start_time": "2022-04-21T08:19:27.650Z"
   },
   {
    "duration": 335,
    "start_time": "2022-04-21T08:19:44.266Z"
   },
   {
    "duration": 94,
    "start_time": "2022-04-21T08:21:39.290Z"
   },
   {
    "duration": 23,
    "start_time": "2022-04-21T08:21:47.378Z"
   },
   {
    "duration": 15,
    "start_time": "2022-04-21T08:22:09.314Z"
   },
   {
    "duration": 15,
    "start_time": "2022-04-21T08:22:29.355Z"
   },
   {
    "duration": 15,
    "start_time": "2022-04-21T08:22:35.892Z"
   },
   {
    "duration": 14,
    "start_time": "2022-04-21T08:22:42.386Z"
   },
   {
    "duration": 2662,
    "start_time": "2022-04-21T08:24:03.429Z"
   },
   {
    "duration": 896,
    "start_time": "2022-04-21T08:24:06.094Z"
   },
   {
    "duration": 4,
    "start_time": "2022-04-21T08:24:06.992Z"
   },
   {
    "duration": 24,
    "start_time": "2022-04-21T08:24:06.999Z"
   },
   {
    "duration": 137,
    "start_time": "2022-04-21T08:24:07.025Z"
   },
   {
    "duration": 466,
    "start_time": "2022-04-21T08:24:07.164Z"
   },
   {
    "duration": 66,
    "start_time": "2022-04-21T08:24:07.632Z"
   },
   {
    "duration": 202,
    "start_time": "2022-04-21T08:24:07.700Z"
   },
   {
    "duration": 313,
    "start_time": "2022-04-21T08:24:07.904Z"
   },
   {
    "duration": 400,
    "start_time": "2022-04-21T08:24:08.221Z"
   },
   {
    "duration": 255,
    "start_time": "2022-04-21T08:24:08.623Z"
   },
   {
    "duration": 131,
    "start_time": "2022-04-21T08:24:08.881Z"
   },
   {
    "duration": 440,
    "start_time": "2022-04-21T08:24:09.013Z"
   },
   {
    "duration": 103,
    "start_time": "2022-04-21T08:24:09.456Z"
   },
   {
    "duration": 46,
    "start_time": "2022-04-21T08:24:09.561Z"
   },
   {
    "duration": 25,
    "start_time": "2022-04-21T08:24:09.609Z"
   },
   {
    "duration": 45,
    "start_time": "2022-04-21T08:24:09.637Z"
   },
   {
    "duration": 29,
    "start_time": "2022-04-21T08:24:09.684Z"
   },
   {
    "duration": 88,
    "start_time": "2022-04-21T08:24:09.715Z"
   },
   {
    "duration": 15,
    "start_time": "2022-04-21T08:24:09.805Z"
   },
   {
    "duration": 59,
    "start_time": "2022-04-21T08:24:09.822Z"
   },
   {
    "duration": 55,
    "start_time": "2022-04-21T08:24:09.884Z"
   },
   {
    "duration": 192,
    "start_time": "2022-04-21T08:24:09.941Z"
   },
   {
    "duration": 139,
    "start_time": "2022-04-21T08:24:10.135Z"
   },
   {
    "duration": 144,
    "start_time": "2022-04-21T08:24:10.276Z"
   },
   {
    "duration": 177,
    "start_time": "2022-04-21T08:24:10.422Z"
   },
   {
    "duration": 2984,
    "start_time": "2022-04-21T08:24:10.601Z"
   },
   {
    "duration": 5,
    "start_time": "2022-04-21T08:24:13.598Z"
   },
   {
    "duration": 250,
    "start_time": "2022-04-21T08:24:13.605Z"
   },
   {
    "duration": 232,
    "start_time": "2022-04-21T08:24:13.857Z"
   },
   {
    "duration": 12,
    "start_time": "2022-04-21T08:24:14.091Z"
   },
   {
    "duration": 24,
    "start_time": "2022-04-21T08:24:14.106Z"
   },
   {
    "duration": 1424,
    "start_time": "2022-04-21T08:24:14.133Z"
   },
   {
    "duration": 33,
    "start_time": "2022-04-21T08:24:15.559Z"
   },
   {
    "duration": 132,
    "start_time": "2022-04-21T08:24:15.594Z"
   },
   {
    "duration": 103,
    "start_time": "2022-04-21T08:24:15.728Z"
   },
   {
    "duration": 10,
    "start_time": "2022-04-21T08:24:15.833Z"
   },
   {
    "duration": 127,
    "start_time": "2022-04-21T08:24:15.845Z"
   },
   {
    "duration": 14,
    "start_time": "2022-04-21T08:24:15.981Z"
   },
   {
    "duration": 286,
    "start_time": "2022-04-21T08:24:15.997Z"
   },
   {
    "duration": 252,
    "start_time": "2022-04-21T08:24:16.285Z"
   },
   {
    "duration": 14,
    "start_time": "2022-04-21T08:24:16.539Z"
   },
   {
    "duration": 180,
    "start_time": "2022-04-21T08:24:16.556Z"
   },
   {
    "duration": 153,
    "start_time": "2022-04-21T08:24:16.739Z"
   },
   {
    "duration": 21,
    "start_time": "2022-04-21T08:24:16.894Z"
   },
   {
    "duration": 139,
    "start_time": "2022-04-21T08:24:16.917Z"
   },
   {
    "duration": 4,
    "start_time": "2022-04-21T08:24:17.058Z"
   },
   {
    "duration": 21,
    "start_time": "2022-04-21T08:24:17.064Z"
   },
   {
    "duration": 8,
    "start_time": "2022-04-21T08:24:17.087Z"
   },
   {
    "duration": 518,
    "start_time": "2022-04-21T08:24:17.097Z"
   },
   {
    "duration": 72,
    "start_time": "2022-04-21T08:24:17.617Z"
   },
   {
    "duration": 3,
    "start_time": "2022-04-21T08:24:17.691Z"
   },
   {
    "duration": 2251,
    "start_time": "2022-04-21T08:24:17.696Z"
   },
   {
    "duration": 344,
    "start_time": "2022-04-21T08:24:19.950Z"
   },
   {
    "duration": 263,
    "start_time": "2022-04-21T08:24:24.071Z"
   },
   {
    "duration": 28,
    "start_time": "2022-04-21T08:25:04.789Z"
   },
   {
    "duration": 274,
    "start_time": "2022-04-21T08:25:57.654Z"
   },
   {
    "duration": 269,
    "start_time": "2022-04-21T08:26:08.776Z"
   },
   {
    "duration": 2592,
    "start_time": "2022-04-21T08:26:26.894Z"
   },
   {
    "duration": 833,
    "start_time": "2022-04-21T08:26:29.488Z"
   },
   {
    "duration": 4,
    "start_time": "2022-04-21T08:26:30.323Z"
   },
   {
    "duration": 28,
    "start_time": "2022-04-21T08:26:30.330Z"
   },
   {
    "duration": 130,
    "start_time": "2022-04-21T08:26:30.361Z"
   },
   {
    "duration": 468,
    "start_time": "2022-04-21T08:26:30.494Z"
   },
   {
    "duration": 58,
    "start_time": "2022-04-21T08:26:30.964Z"
   },
   {
    "duration": 210,
    "start_time": "2022-04-21T08:26:31.024Z"
   },
   {
    "duration": 327,
    "start_time": "2022-04-21T08:26:31.236Z"
   },
   {
    "duration": 400,
    "start_time": "2022-04-21T08:26:31.567Z"
   },
   {
    "duration": 261,
    "start_time": "2022-04-21T08:26:31.969Z"
   },
   {
    "duration": 134,
    "start_time": "2022-04-21T08:26:32.232Z"
   },
   {
    "duration": 447,
    "start_time": "2022-04-21T08:26:32.368Z"
   },
   {
    "duration": 104,
    "start_time": "2022-04-21T08:26:32.817Z"
   },
   {
    "duration": 40,
    "start_time": "2022-04-21T08:26:32.923Z"
   },
   {
    "duration": 35,
    "start_time": "2022-04-21T08:26:32.965Z"
   },
   {
    "duration": 18,
    "start_time": "2022-04-21T08:26:33.002Z"
   },
   {
    "duration": 63,
    "start_time": "2022-04-21T08:26:33.022Z"
   },
   {
    "duration": 68,
    "start_time": "2022-04-21T08:26:33.087Z"
   },
   {
    "duration": 28,
    "start_time": "2022-04-21T08:26:33.157Z"
   },
   {
    "duration": 30,
    "start_time": "2022-04-21T08:26:33.187Z"
   },
   {
    "duration": 84,
    "start_time": "2022-04-21T08:26:33.219Z"
   },
   {
    "duration": 185,
    "start_time": "2022-04-21T08:26:33.305Z"
   },
   {
    "duration": 138,
    "start_time": "2022-04-21T08:26:33.492Z"
   },
   {
    "duration": 182,
    "start_time": "2022-04-21T08:26:33.632Z"
   },
   {
    "duration": 175,
    "start_time": "2022-04-21T08:26:33.816Z"
   },
   {
    "duration": 2985,
    "start_time": "2022-04-21T08:26:33.993Z"
   },
   {
    "duration": 5,
    "start_time": "2022-04-21T08:26:36.993Z"
   },
   {
    "duration": 246,
    "start_time": "2022-04-21T08:26:37.000Z"
   },
   {
    "duration": 225,
    "start_time": "2022-04-21T08:26:37.248Z"
   },
   {
    "duration": 11,
    "start_time": "2022-04-21T08:26:37.481Z"
   },
   {
    "duration": 24,
    "start_time": "2022-04-21T08:26:37.494Z"
   },
   {
    "duration": 1531,
    "start_time": "2022-04-21T08:26:37.520Z"
   },
   {
    "duration": 45,
    "start_time": "2022-04-21T08:26:39.053Z"
   },
   {
    "duration": 154,
    "start_time": "2022-04-21T08:26:39.100Z"
   },
   {
    "duration": 103,
    "start_time": "2022-04-21T08:26:39.257Z"
   },
   {
    "duration": 26,
    "start_time": "2022-04-21T08:26:39.362Z"
   },
   {
    "duration": 127,
    "start_time": "2022-04-21T08:26:39.391Z"
   },
   {
    "duration": 12,
    "start_time": "2022-04-21T08:26:39.521Z"
   },
   {
    "duration": 291,
    "start_time": "2022-04-21T08:26:39.536Z"
   },
   {
    "duration": 243,
    "start_time": "2022-04-21T08:26:39.829Z"
   },
   {
    "duration": 14,
    "start_time": "2022-04-21T08:26:40.083Z"
   },
   {
    "duration": 152,
    "start_time": "2022-04-21T08:26:40.099Z"
   },
   {
    "duration": 124,
    "start_time": "2022-04-21T08:26:40.282Z"
   },
   {
    "duration": 27,
    "start_time": "2022-04-21T08:26:40.409Z"
   },
   {
    "duration": 149,
    "start_time": "2022-04-21T08:26:40.439Z"
   },
   {
    "duration": 4,
    "start_time": "2022-04-21T08:26:40.591Z"
   },
   {
    "duration": 13,
    "start_time": "2022-04-21T08:26:40.598Z"
   },
   {
    "duration": 9,
    "start_time": "2022-04-21T08:26:40.613Z"
   },
   {
    "duration": 517,
    "start_time": "2022-04-21T08:26:40.624Z"
   },
   {
    "duration": 67,
    "start_time": "2022-04-21T08:26:41.143Z"
   },
   {
    "duration": 4,
    "start_time": "2022-04-21T08:26:41.212Z"
   },
   {
    "duration": 2130,
    "start_time": "2022-04-21T08:26:41.218Z"
   },
   {
    "duration": 276,
    "start_time": "2022-04-21T08:26:43.351Z"
   },
   {
    "duration": 25,
    "start_time": "2022-04-21T08:27:04.262Z"
   },
   {
    "duration": 16,
    "start_time": "2022-04-21T08:28:37.103Z"
   },
   {
    "duration": 18,
    "start_time": "2022-04-21T08:28:48.456Z"
   },
   {
    "duration": 18,
    "start_time": "2022-04-21T08:30:14.870Z"
   },
   {
    "duration": 17,
    "start_time": "2022-04-21T08:30:35.234Z"
   },
   {
    "duration": 17,
    "start_time": "2022-04-21T08:31:28.286Z"
   },
   {
    "duration": 17,
    "start_time": "2022-04-21T08:31:43.527Z"
   },
   {
    "duration": 269,
    "start_time": "2022-04-21T10:01:17.132Z"
   },
   {
    "duration": 7,
    "start_time": "2022-04-21T10:01:38.646Z"
   },
   {
    "duration": 97,
    "start_time": "2022-04-21T11:56:40.823Z"
   },
   {
    "duration": 1437,
    "start_time": "2022-04-21T11:57:12.173Z"
   },
   {
    "duration": 159,
    "start_time": "2022-04-21T11:57:35.725Z"
   },
   {
    "duration": 124,
    "start_time": "2022-04-21T11:59:16.175Z"
   },
   {
    "duration": 6,
    "start_time": "2022-04-21T12:00:19.936Z"
   },
   {
    "duration": 7,
    "start_time": "2022-04-21T12:00:20.913Z"
   },
   {
    "duration": 509,
    "start_time": "2022-04-21T12:00:27.721Z"
   },
   {
    "duration": 65,
    "start_time": "2022-04-21T12:00:31.893Z"
   },
   {
    "duration": 1871,
    "start_time": "2022-04-21T12:00:32.660Z"
   },
   {
    "duration": 277,
    "start_time": "2022-04-21T12:00:37.848Z"
   },
   {
    "duration": 7,
    "start_time": "2022-04-21T12:00:40.560Z"
   },
   {
    "duration": 329,
    "start_time": "2022-04-21T12:00:43.456Z"
   },
   {
    "duration": 261,
    "start_time": "2022-04-21T12:01:56.562Z"
   },
   {
    "duration": 250,
    "start_time": "2022-04-21T12:02:27.865Z"
   },
   {
    "duration": 261,
    "start_time": "2022-04-21T12:03:14.503Z"
   },
   {
    "duration": 2646,
    "start_time": "2022-04-21T12:03:25.939Z"
   },
   {
    "duration": 879,
    "start_time": "2022-04-21T12:03:28.587Z"
   },
   {
    "duration": 3,
    "start_time": "2022-04-21T12:03:29.469Z"
   },
   {
    "duration": 20,
    "start_time": "2022-04-21T12:03:29.483Z"
   },
   {
    "duration": 137,
    "start_time": "2022-04-21T12:03:29.506Z"
   },
   {
    "duration": 478,
    "start_time": "2022-04-21T12:03:29.646Z"
   },
   {
    "duration": 57,
    "start_time": "2022-04-21T12:03:30.127Z"
   },
   {
    "duration": 210,
    "start_time": "2022-04-21T12:03:30.186Z"
   },
   {
    "duration": 328,
    "start_time": "2022-04-21T12:03:30.399Z"
   },
   {
    "duration": 405,
    "start_time": "2022-04-21T12:03:30.731Z"
   },
   {
    "duration": 255,
    "start_time": "2022-04-21T12:03:31.139Z"
   },
   {
    "duration": 145,
    "start_time": "2022-04-21T12:03:31.396Z"
   },
   {
    "duration": 457,
    "start_time": "2022-04-21T12:03:31.543Z"
   },
   {
    "duration": 114,
    "start_time": "2022-04-21T12:03:32.003Z"
   },
   {
    "duration": 40,
    "start_time": "2022-04-21T12:03:32.120Z"
   },
   {
    "duration": 44,
    "start_time": "2022-04-21T12:03:32.163Z"
   },
   {
    "duration": 19,
    "start_time": "2022-04-21T12:03:32.210Z"
   },
   {
    "duration": 69,
    "start_time": "2022-04-21T12:03:32.232Z"
   },
   {
    "duration": 83,
    "start_time": "2022-04-21T12:03:32.303Z"
   },
   {
    "duration": 17,
    "start_time": "2022-04-21T12:03:32.388Z"
   },
   {
    "duration": 33,
    "start_time": "2022-04-21T12:03:32.407Z"
   },
   {
    "duration": 93,
    "start_time": "2022-04-21T12:03:32.442Z"
   },
   {
    "duration": 193,
    "start_time": "2022-04-21T12:03:32.537Z"
   },
   {
    "duration": 135,
    "start_time": "2022-04-21T12:03:32.732Z"
   },
   {
    "duration": 140,
    "start_time": "2022-04-21T12:03:32.869Z"
   },
   {
    "duration": 174,
    "start_time": "2022-04-21T12:03:33.011Z"
   },
   {
    "duration": 2958,
    "start_time": "2022-04-21T12:03:33.187Z"
   },
   {
    "duration": 6,
    "start_time": "2022-04-21T12:03:36.150Z"
   },
   {
    "duration": 255,
    "start_time": "2022-04-21T12:03:36.159Z"
   },
   {
    "duration": 231,
    "start_time": "2022-04-21T12:03:36.416Z"
   },
   {
    "duration": 12,
    "start_time": "2022-04-21T12:03:36.649Z"
   },
   {
    "duration": 41,
    "start_time": "2022-04-21T12:03:36.663Z"
   },
   {
    "duration": 1458,
    "start_time": "2022-04-21T12:03:36.706Z"
   },
   {
    "duration": 24,
    "start_time": "2022-04-21T12:03:38.167Z"
   },
   {
    "duration": 139,
    "start_time": "2022-04-21T12:03:38.193Z"
   },
   {
    "duration": 105,
    "start_time": "2022-04-21T12:03:38.334Z"
   },
   {
    "duration": 10,
    "start_time": "2022-04-21T12:03:38.442Z"
   },
   {
    "duration": 131,
    "start_time": "2022-04-21T12:03:38.454Z"
   },
   {
    "duration": 11,
    "start_time": "2022-04-21T12:03:38.588Z"
   },
   {
    "duration": 281,
    "start_time": "2022-04-21T12:03:38.601Z"
   },
   {
    "duration": 241,
    "start_time": "2022-04-21T12:03:38.885Z"
   },
   {
    "duration": 11,
    "start_time": "2022-04-21T12:03:39.128Z"
   },
   {
    "duration": 177,
    "start_time": "2022-04-21T12:03:39.142Z"
   },
   {
    "duration": 125,
    "start_time": "2022-04-21T12:03:39.322Z"
   },
   {
    "duration": 42,
    "start_time": "2022-04-21T12:03:39.449Z"
   },
   {
    "duration": 6,
    "start_time": "2022-04-21T12:03:39.494Z"
   },
   {
    "duration": 7,
    "start_time": "2022-04-21T12:03:39.503Z"
   },
   {
    "duration": 525,
    "start_time": "2022-04-21T12:03:39.513Z"
   },
   {
    "duration": 72,
    "start_time": "2022-04-21T12:03:40.040Z"
   },
   {
    "duration": 3889,
    "start_time": "2022-04-21T12:03:40.115Z"
   },
   {
    "duration": 294,
    "start_time": "2022-04-21T12:03:44.006Z"
   },
   {
    "duration": 7,
    "start_time": "2022-04-21T12:03:44.303Z"
   },
   {
    "duration": 284,
    "start_time": "2022-04-21T12:03:44.312Z"
   },
   {
    "duration": 234,
    "start_time": "2022-04-21T12:10:04.308Z"
   },
   {
    "duration": 3863,
    "start_time": "2022-04-21T12:28:29.749Z"
   },
   {
    "duration": 833,
    "start_time": "2022-04-21T12:28:33.615Z"
   },
   {
    "duration": 4,
    "start_time": "2022-04-21T12:28:34.450Z"
   },
   {
    "duration": 37,
    "start_time": "2022-04-21T12:28:34.457Z"
   },
   {
    "duration": 127,
    "start_time": "2022-04-21T12:28:34.496Z"
   },
   {
    "duration": 474,
    "start_time": "2022-04-21T12:28:34.625Z"
   },
   {
    "duration": 49,
    "start_time": "2022-04-21T12:28:35.102Z"
   },
   {
    "duration": 224,
    "start_time": "2022-04-21T12:28:35.153Z"
   },
   {
    "duration": 318,
    "start_time": "2022-04-21T12:28:35.382Z"
   },
   {
    "duration": 415,
    "start_time": "2022-04-21T12:28:35.704Z"
   },
   {
    "duration": 249,
    "start_time": "2022-04-21T12:28:36.121Z"
   },
   {
    "duration": 141,
    "start_time": "2022-04-21T12:28:36.373Z"
   },
   {
    "duration": 544,
    "start_time": "2022-04-21T12:28:36.516Z"
   },
   {
    "duration": 101,
    "start_time": "2022-04-21T12:28:37.062Z"
   },
   {
    "duration": 50,
    "start_time": "2022-04-21T12:28:37.166Z"
   },
   {
    "duration": 28,
    "start_time": "2022-04-21T12:28:37.218Z"
   },
   {
    "duration": 43,
    "start_time": "2022-04-21T12:28:37.248Z"
   },
   {
    "duration": 31,
    "start_time": "2022-04-21T12:28:37.293Z"
   },
   {
    "duration": 100,
    "start_time": "2022-04-21T12:28:37.326Z"
   },
   {
    "duration": 15,
    "start_time": "2022-04-21T12:28:37.428Z"
   },
   {
    "duration": 55,
    "start_time": "2022-04-21T12:28:37.445Z"
   },
   {
    "duration": 55,
    "start_time": "2022-04-21T12:28:37.502Z"
   },
   {
    "duration": 212,
    "start_time": "2022-04-21T12:28:37.559Z"
   },
   {
    "duration": 129,
    "start_time": "2022-04-21T12:28:37.774Z"
   },
   {
    "duration": 142,
    "start_time": "2022-04-21T12:28:37.905Z"
   },
   {
    "duration": 166,
    "start_time": "2022-04-21T12:28:38.049Z"
   },
   {
    "duration": 2888,
    "start_time": "2022-04-21T12:28:38.217Z"
   },
   {
    "duration": 6,
    "start_time": "2022-04-21T12:28:41.111Z"
   },
   {
    "duration": 247,
    "start_time": "2022-04-21T12:28:41.119Z"
   },
   {
    "duration": 232,
    "start_time": "2022-04-21T12:28:41.368Z"
   },
   {
    "duration": 13,
    "start_time": "2022-04-21T12:28:41.602Z"
   },
   {
    "duration": 24,
    "start_time": "2022-04-21T12:28:41.617Z"
   },
   {
    "duration": 1441,
    "start_time": "2022-04-21T12:28:41.643Z"
   },
   {
    "duration": 21,
    "start_time": "2022-04-21T12:28:43.087Z"
   },
   {
    "duration": 148,
    "start_time": "2022-04-21T12:28:43.111Z"
   },
   {
    "duration": 97,
    "start_time": "2022-04-21T12:28:43.261Z"
   },
   {
    "duration": 28,
    "start_time": "2022-04-21T12:28:43.360Z"
   },
   {
    "duration": 118,
    "start_time": "2022-04-21T12:28:43.390Z"
   },
   {
    "duration": 12,
    "start_time": "2022-04-21T12:28:43.510Z"
   },
   {
    "duration": 278,
    "start_time": "2022-04-21T12:28:43.524Z"
   },
   {
    "duration": 243,
    "start_time": "2022-04-21T12:28:43.804Z"
   },
   {
    "duration": 32,
    "start_time": "2022-04-21T12:28:44.049Z"
   },
   {
    "duration": 155,
    "start_time": "2022-04-21T12:28:44.084Z"
   },
   {
    "duration": 129,
    "start_time": "2022-04-21T12:28:44.241Z"
   },
   {
    "duration": 38,
    "start_time": "2022-04-21T12:28:44.373Z"
   },
   {
    "duration": 9,
    "start_time": "2022-04-21T12:28:44.414Z"
   },
   {
    "duration": 7,
    "start_time": "2022-04-21T12:28:44.425Z"
   },
   {
    "duration": 577,
    "start_time": "2022-04-21T12:28:44.434Z"
   },
   {
    "duration": 79,
    "start_time": "2022-04-21T12:28:45.014Z"
   },
   {
    "duration": 2312,
    "start_time": "2022-04-21T12:28:45.096Z"
   },
   {
    "duration": 289,
    "start_time": "2022-04-21T12:28:47.412Z"
   },
   {
    "duration": 7,
    "start_time": "2022-04-21T12:28:47.703Z"
   },
   {
    "duration": 239,
    "start_time": "2022-04-21T12:28:47.712Z"
   },
   {
    "duration": 333,
    "start_time": "2022-04-21T12:29:25.050Z"
   },
   {
    "duration": 76,
    "start_time": "2022-04-21T12:34:12.141Z"
   },
   {
    "duration": 73,
    "start_time": "2022-04-21T12:35:06.295Z"
   },
   {
    "duration": 128,
    "start_time": "2022-04-21T12:37:14.233Z"
   },
   {
    "duration": 122,
    "start_time": "2022-04-21T12:39:40.535Z"
   },
   {
    "duration": 15,
    "start_time": "2022-04-21T12:43:51.374Z"
   },
   {
    "duration": 15,
    "start_time": "2022-04-21T12:44:03.160Z"
   },
   {
    "duration": 87,
    "start_time": "2022-04-21T12:45:24.758Z"
   },
   {
    "duration": 20,
    "start_time": "2022-04-21T12:48:21.011Z"
   },
   {
    "duration": 20,
    "start_time": "2022-04-21T12:48:41.412Z"
   },
   {
    "duration": 32,
    "start_time": "2022-04-21T12:53:20.081Z"
   },
   {
    "duration": 1553,
    "start_time": "2022-04-21T12:56:08.152Z"
   },
   {
    "duration": 14,
    "start_time": "2022-04-21T12:56:18.674Z"
   },
   {
    "duration": 1794,
    "start_time": "2022-04-21T12:56:20.847Z"
   },
   {
    "duration": 41,
    "start_time": "2022-04-21T12:56:29.991Z"
   },
   {
    "duration": 97,
    "start_time": "2022-04-21T12:58:43.823Z"
   },
   {
    "duration": 130,
    "start_time": "2022-04-21T12:59:05.343Z"
   },
   {
    "duration": 126,
    "start_time": "2022-04-21T12:59:14.989Z"
   },
   {
    "duration": 32,
    "start_time": "2022-04-21T12:59:32.090Z"
   },
   {
    "duration": 32,
    "start_time": "2022-04-21T12:59:45.920Z"
   },
   {
    "duration": 164,
    "start_time": "2022-04-21T13:10:12.765Z"
   },
   {
    "duration": 128,
    "start_time": "2022-04-21T13:12:22.579Z"
   },
   {
    "duration": 157,
    "start_time": "2022-04-21T13:12:31.289Z"
   },
   {
    "duration": 14,
    "start_time": "2022-04-21T13:12:39.448Z"
   },
   {
    "duration": 33,
    "start_time": "2022-04-21T13:14:19.374Z"
   },
   {
    "duration": 128,
    "start_time": "2022-04-21T13:25:13.307Z"
   },
   {
    "duration": 159,
    "start_time": "2022-04-21T13:25:18.489Z"
   },
   {
    "duration": 168,
    "start_time": "2022-04-21T13:25:27.945Z"
   },
   {
    "duration": 35,
    "start_time": "2022-04-21T13:25:37.021Z"
   },
   {
    "duration": 170,
    "start_time": "2022-04-21T13:29:03.284Z"
   },
   {
    "duration": 35,
    "start_time": "2022-04-21T13:29:22.010Z"
   },
   {
    "duration": 2375,
    "start_time": "2022-04-21T13:35:31.860Z"
   },
   {
    "duration": 118,
    "start_time": "2022-04-21T13:36:08.106Z"
   },
   {
    "duration": 1812,
    "start_time": "2022-04-21T13:36:21.920Z"
   },
   {
    "duration": 130,
    "start_time": "2022-04-21T13:37:17.793Z"
   },
   {
    "duration": 2562,
    "start_time": "2022-04-21T14:41:41.390Z"
   },
   {
    "duration": 977,
    "start_time": "2022-04-21T14:41:43.956Z"
   },
   {
    "duration": 4,
    "start_time": "2022-04-21T14:41:44.935Z"
   },
   {
    "duration": 33,
    "start_time": "2022-04-21T14:41:44.941Z"
   },
   {
    "duration": 126,
    "start_time": "2022-04-21T14:41:44.982Z"
   },
   {
    "duration": 474,
    "start_time": "2022-04-21T14:41:45.110Z"
   },
   {
    "duration": 48,
    "start_time": "2022-04-21T14:41:45.586Z"
   },
   {
    "duration": 227,
    "start_time": "2022-04-21T14:41:45.636Z"
   },
   {
    "duration": 335,
    "start_time": "2022-04-21T14:41:45.865Z"
   },
   {
    "duration": 416,
    "start_time": "2022-04-21T14:41:46.204Z"
   },
   {
    "duration": 266,
    "start_time": "2022-04-21T14:41:46.622Z"
   },
   {
    "duration": 139,
    "start_time": "2022-04-21T14:41:46.890Z"
   },
   {
    "duration": 457,
    "start_time": "2022-04-21T14:41:47.031Z"
   },
   {
    "duration": 106,
    "start_time": "2022-04-21T14:41:47.490Z"
   },
   {
    "duration": 41,
    "start_time": "2022-04-21T14:41:47.598Z"
   },
   {
    "duration": 52,
    "start_time": "2022-04-21T14:41:47.641Z"
   },
   {
    "duration": 19,
    "start_time": "2022-04-21T14:41:47.695Z"
   },
   {
    "duration": 30,
    "start_time": "2022-04-21T14:41:47.716Z"
   },
   {
    "duration": 100,
    "start_time": "2022-04-21T14:41:47.748Z"
   },
   {
    "duration": 14,
    "start_time": "2022-04-21T14:41:47.850Z"
   },
   {
    "duration": 45,
    "start_time": "2022-04-21T14:41:47.866Z"
   },
   {
    "duration": 73,
    "start_time": "2022-04-21T14:41:47.913Z"
   },
   {
    "duration": 193,
    "start_time": "2022-04-21T14:41:47.988Z"
   },
   {
    "duration": 133,
    "start_time": "2022-04-21T14:41:48.183Z"
   },
   {
    "duration": 135,
    "start_time": "2022-04-21T14:41:48.318Z"
   },
   {
    "duration": 175,
    "start_time": "2022-04-21T14:41:48.455Z"
   },
   {
    "duration": 3090,
    "start_time": "2022-04-21T14:41:48.632Z"
   },
   {
    "duration": 5,
    "start_time": "2022-04-21T14:41:51.728Z"
   },
   {
    "duration": 258,
    "start_time": "2022-04-21T14:41:51.735Z"
   },
   {
    "duration": 237,
    "start_time": "2022-04-21T14:41:51.995Z"
   },
   {
    "duration": 12,
    "start_time": "2022-04-21T14:41:52.235Z"
   },
   {
    "duration": 42,
    "start_time": "2022-04-21T14:41:52.249Z"
   },
   {
    "duration": 1477,
    "start_time": "2022-04-21T14:41:52.293Z"
   },
   {
    "duration": 35,
    "start_time": "2022-04-21T14:41:53.772Z"
   },
   {
    "duration": 171,
    "start_time": "2022-04-21T14:41:53.810Z"
   },
   {
    "duration": 109,
    "start_time": "2022-04-21T14:41:53.984Z"
   },
   {
    "duration": 12,
    "start_time": "2022-04-21T14:41:54.095Z"
   },
   {
    "duration": 132,
    "start_time": "2022-04-21T14:41:54.110Z"
   },
   {
    "duration": 11,
    "start_time": "2022-04-21T14:41:54.244Z"
   },
   {
    "duration": 290,
    "start_time": "2022-04-21T14:41:54.257Z"
   },
   {
    "duration": 253,
    "start_time": "2022-04-21T14:41:54.549Z"
   },
   {
    "duration": 11,
    "start_time": "2022-04-21T14:41:54.805Z"
   },
   {
    "duration": 180,
    "start_time": "2022-04-21T14:41:54.819Z"
   },
   {
    "duration": 129,
    "start_time": "2022-04-21T14:41:55.001Z"
   },
   {
    "duration": 50,
    "start_time": "2022-04-21T14:41:55.132Z"
   },
   {
    "duration": 7,
    "start_time": "2022-04-21T14:41:55.184Z"
   },
   {
    "duration": 13,
    "start_time": "2022-04-21T14:41:55.193Z"
   },
   {
    "duration": 546,
    "start_time": "2022-04-21T14:41:55.208Z"
   },
   {
    "duration": 74,
    "start_time": "2022-04-21T14:41:55.756Z"
   },
   {
    "duration": 2273,
    "start_time": "2022-04-21T14:41:55.832Z"
   },
   {
    "duration": 296,
    "start_time": "2022-04-21T14:41:58.107Z"
   },
   {
    "duration": 7,
    "start_time": "2022-04-21T14:41:58.406Z"
   },
   {
    "duration": 253,
    "start_time": "2022-04-21T14:41:58.415Z"
   },
   {
    "duration": 202,
    "start_time": "2022-04-21T14:41:58.671Z"
   },
   {
    "duration": 42,
    "start_time": "2022-04-21T14:41:58.876Z"
   },
   {
    "duration": 189,
    "start_time": "2022-04-21T14:50:54.251Z"
   },
   {
    "duration": 846,
    "start_time": "2022-04-21T14:52:44.609Z"
   },
   {
    "duration": 21,
    "start_time": "2022-04-21T14:53:29.106Z"
   },
   {
    "duration": 23,
    "start_time": "2022-04-21T15:03:23.338Z"
   },
   {
    "duration": 2041,
    "start_time": "2022-04-21T15:03:43.383Z"
   },
   {
    "duration": 128,
    "start_time": "2022-04-21T15:04:23.809Z"
   },
   {
    "duration": 3650,
    "start_time": "2022-04-23T11:03:50.108Z"
   },
   {
    "duration": 8710,
    "start_time": "2022-04-23T11:03:53.760Z"
   },
   {
    "duration": 3,
    "start_time": "2022-04-23T11:04:02.472Z"
   },
   {
    "duration": 28,
    "start_time": "2022-04-23T11:04:02.479Z"
   },
   {
    "duration": 136,
    "start_time": "2022-04-23T11:04:02.510Z"
   },
   {
    "duration": 453,
    "start_time": "2022-04-23T11:04:02.649Z"
   },
   {
    "duration": 47,
    "start_time": "2022-04-23T11:04:03.105Z"
   },
   {
    "duration": 223,
    "start_time": "2022-04-23T11:04:03.155Z"
   },
   {
    "duration": 313,
    "start_time": "2022-04-23T11:04:03.381Z"
   },
   {
    "duration": 374,
    "start_time": "2022-04-23T11:04:03.698Z"
   },
   {
    "duration": 248,
    "start_time": "2022-04-23T11:04:04.074Z"
   },
   {
    "duration": 133,
    "start_time": "2022-04-23T11:04:04.324Z"
   },
   {
    "duration": 419,
    "start_time": "2022-04-23T11:04:04.460Z"
   },
   {
    "duration": 96,
    "start_time": "2022-04-23T11:04:04.882Z"
   },
   {
    "duration": 47,
    "start_time": "2022-04-23T11:04:04.981Z"
   },
   {
    "duration": 28,
    "start_time": "2022-04-23T11:04:05.030Z"
   },
   {
    "duration": 48,
    "start_time": "2022-04-23T11:04:05.061Z"
   },
   {
    "duration": 29,
    "start_time": "2022-04-23T11:04:05.111Z"
   },
   {
    "duration": 101,
    "start_time": "2022-04-23T11:04:05.142Z"
   },
   {
    "duration": 14,
    "start_time": "2022-04-23T11:04:05.246Z"
   },
   {
    "duration": 49,
    "start_time": "2022-04-23T11:04:05.262Z"
   },
   {
    "duration": 53,
    "start_time": "2022-04-23T11:04:05.313Z"
   },
   {
    "duration": 190,
    "start_time": "2022-04-23T11:04:05.368Z"
   },
   {
    "duration": 126,
    "start_time": "2022-04-23T11:04:05.561Z"
   },
   {
    "duration": 128,
    "start_time": "2022-04-23T11:04:05.693Z"
   },
   {
    "duration": 170,
    "start_time": "2022-04-23T11:04:05.823Z"
   },
   {
    "duration": 2983,
    "start_time": "2022-04-23T11:04:05.995Z"
   },
   {
    "duration": 5,
    "start_time": "2022-04-23T11:04:08.983Z"
   },
   {
    "duration": 239,
    "start_time": "2022-04-23T11:04:08.993Z"
   },
   {
    "duration": 226,
    "start_time": "2022-04-23T11:04:09.234Z"
   },
   {
    "duration": 12,
    "start_time": "2022-04-23T11:04:09.462Z"
   },
   {
    "duration": 32,
    "start_time": "2022-04-23T11:04:09.476Z"
   },
   {
    "duration": 1393,
    "start_time": "2022-04-23T11:04:09.510Z"
   },
   {
    "duration": 29,
    "start_time": "2022-04-23T11:04:10.905Z"
   },
   {
    "duration": 157,
    "start_time": "2022-04-23T11:04:10.936Z"
   },
   {
    "duration": 104,
    "start_time": "2022-04-23T11:04:11.095Z"
   },
   {
    "duration": 13,
    "start_time": "2022-04-23T11:04:11.202Z"
   },
   {
    "duration": 124,
    "start_time": "2022-04-23T11:04:11.218Z"
   },
   {
    "duration": 13,
    "start_time": "2022-04-23T11:04:11.345Z"
   },
   {
    "duration": 287,
    "start_time": "2022-04-23T11:04:11.361Z"
   },
   {
    "duration": 235,
    "start_time": "2022-04-23T11:04:11.651Z"
   },
   {
    "duration": 11,
    "start_time": "2022-04-23T11:04:11.892Z"
   },
   {
    "duration": 213,
    "start_time": "2022-04-23T11:04:11.905Z"
   },
   {
    "duration": 129,
    "start_time": "2022-04-23T11:04:12.120Z"
   },
   {
    "duration": 42,
    "start_time": "2022-04-23T11:04:12.251Z"
   },
   {
    "duration": 8,
    "start_time": "2022-04-23T11:04:12.295Z"
   },
   {
    "duration": 7,
    "start_time": "2022-04-23T11:04:12.305Z"
   },
   {
    "duration": 485,
    "start_time": "2022-04-23T11:04:12.314Z"
   },
   {
    "duration": 61,
    "start_time": "2022-04-23T11:04:12.802Z"
   },
   {
    "duration": 2203,
    "start_time": "2022-04-23T11:04:12.866Z"
   },
   {
    "duration": 279,
    "start_time": "2022-04-23T11:04:15.072Z"
   },
   {
    "duration": 9,
    "start_time": "2022-04-23T11:04:15.354Z"
   },
   {
    "duration": 234,
    "start_time": "2022-04-23T11:04:15.365Z"
   },
   {
    "duration": 184,
    "start_time": "2022-04-23T11:04:15.602Z"
   },
   {
    "duration": 42,
    "start_time": "2022-04-23T11:04:15.788Z"
   },
   {
    "duration": 166,
    "start_time": "2022-04-23T11:04:25.672Z"
   },
   {
    "duration": 260,
    "start_time": "2022-04-23T11:10:03.034Z"
   },
   {
    "duration": 211,
    "start_time": "2022-04-23T11:10:21.030Z"
   },
   {
    "duration": 86,
    "start_time": "2022-04-23T11:11:47.917Z"
   },
   {
    "duration": 9,
    "start_time": "2022-04-23T11:12:12.419Z"
   },
   {
    "duration": 437,
    "start_time": "2022-04-23T11:12:57.171Z"
   },
   {
    "duration": 105,
    "start_time": "2022-04-23T11:15:27.182Z"
   },
   {
    "duration": 14,
    "start_time": "2022-04-23T11:16:22.274Z"
   },
   {
    "duration": 10,
    "start_time": "2022-04-23T11:16:45.921Z"
   },
   {
    "duration": 19,
    "start_time": "2022-04-23T11:17:07.740Z"
   },
   {
    "duration": 13,
    "start_time": "2022-04-23T11:17:10.036Z"
   },
   {
    "duration": 75,
    "start_time": "2022-04-23T11:48:56.441Z"
   },
   {
    "duration": 141,
    "start_time": "2022-04-23T11:54:42.148Z"
   },
   {
    "duration": 20,
    "start_time": "2022-04-23T11:54:54.556Z"
   },
   {
    "duration": 131,
    "start_time": "2022-04-23T11:55:00.949Z"
   },
   {
    "duration": 12,
    "start_time": "2022-04-23T11:55:07.820Z"
   },
   {
    "duration": 65,
    "start_time": "2022-04-23T11:56:34.137Z"
   },
   {
    "duration": 128,
    "start_time": "2022-04-23T11:58:04.621Z"
   },
   {
    "duration": 231,
    "start_time": "2022-04-23T12:28:11.926Z"
   },
   {
    "duration": 206,
    "start_time": "2022-04-23T12:28:18.748Z"
   },
   {
    "duration": 125,
    "start_time": "2022-04-23T12:30:52.533Z"
   },
   {
    "duration": 65,
    "start_time": "2022-04-23T12:31:14.277Z"
   },
   {
    "duration": 67,
    "start_time": "2022-04-23T12:33:09.729Z"
   },
   {
    "duration": 19,
    "start_time": "2022-04-23T12:35:31.830Z"
   },
   {
    "duration": 65,
    "start_time": "2022-04-23T12:35:47.312Z"
   },
   {
    "duration": 64,
    "start_time": "2022-04-23T12:35:56.210Z"
   },
   {
    "duration": 68,
    "start_time": "2022-04-23T12:36:08.082Z"
   },
   {
    "duration": 69,
    "start_time": "2022-04-23T12:36:24.018Z"
   },
   {
    "duration": 65,
    "start_time": "2022-04-23T12:36:47.906Z"
   },
   {
    "duration": 66,
    "start_time": "2022-04-23T12:37:22.969Z"
   },
   {
    "duration": 13,
    "start_time": "2022-04-23T12:40:40.576Z"
   },
   {
    "duration": 34,
    "start_time": "2022-04-23T12:40:44.255Z"
   },
   {
    "duration": 13,
    "start_time": "2022-04-23T12:40:45.561Z"
   },
   {
    "duration": 19,
    "start_time": "2022-04-23T12:46:03.250Z"
   },
   {
    "duration": 18,
    "start_time": "2022-04-23T12:46:38.192Z"
   },
   {
    "duration": 18,
    "start_time": "2022-04-23T12:46:52.769Z"
   },
   {
    "duration": 858,
    "start_time": "2022-04-23T12:48:31.159Z"
   },
   {
    "duration": 193,
    "start_time": "2022-04-23T12:52:12.752Z"
   },
   {
    "duration": 214,
    "start_time": "2022-04-23T12:53:05.154Z"
   },
   {
    "duration": 214,
    "start_time": "2022-04-23T12:53:33.926Z"
   },
   {
    "duration": 212,
    "start_time": "2022-04-23T12:53:48.783Z"
   },
   {
    "duration": 244,
    "start_time": "2022-04-23T12:54:46.556Z"
   },
   {
    "duration": 2767,
    "start_time": "2022-04-23T12:55:57.662Z"
   },
   {
    "duration": 871,
    "start_time": "2022-04-23T12:56:00.433Z"
   },
   {
    "duration": 4,
    "start_time": "2022-04-23T12:56:01.306Z"
   },
   {
    "duration": 29,
    "start_time": "2022-04-23T12:56:01.311Z"
   },
   {
    "duration": 132,
    "start_time": "2022-04-23T12:56:01.343Z"
   },
   {
    "duration": 458,
    "start_time": "2022-04-23T12:56:01.477Z"
   },
   {
    "duration": 60,
    "start_time": "2022-04-23T12:56:01.937Z"
   },
   {
    "duration": 195,
    "start_time": "2022-04-23T12:56:01.999Z"
   },
   {
    "duration": 302,
    "start_time": "2022-04-23T12:56:02.196Z"
   },
   {
    "duration": 369,
    "start_time": "2022-04-23T12:56:02.500Z"
   },
   {
    "duration": 250,
    "start_time": "2022-04-23T12:56:02.871Z"
   },
   {
    "duration": 135,
    "start_time": "2022-04-23T12:56:03.123Z"
   },
   {
    "duration": 433,
    "start_time": "2022-04-23T12:56:03.260Z"
   },
   {
    "duration": 99,
    "start_time": "2022-04-23T12:56:03.698Z"
   },
   {
    "duration": 37,
    "start_time": "2022-04-23T12:56:03.799Z"
   },
   {
    "duration": 26,
    "start_time": "2022-04-23T12:56:03.839Z"
   },
   {
    "duration": 42,
    "start_time": "2022-04-23T12:56:03.867Z"
   },
   {
    "duration": 29,
    "start_time": "2022-04-23T12:56:03.911Z"
   },
   {
    "duration": 100,
    "start_time": "2022-04-23T12:56:03.942Z"
   },
   {
    "duration": 15,
    "start_time": "2022-04-23T12:56:04.044Z"
   },
   {
    "duration": 46,
    "start_time": "2022-04-23T12:56:04.061Z"
   },
   {
    "duration": 51,
    "start_time": "2022-04-23T12:56:04.109Z"
   },
   {
    "duration": 190,
    "start_time": "2022-04-23T12:56:04.162Z"
   },
   {
    "duration": 132,
    "start_time": "2022-04-23T12:56:04.354Z"
   },
   {
    "duration": 133,
    "start_time": "2022-04-23T12:56:04.489Z"
   },
   {
    "duration": 163,
    "start_time": "2022-04-23T12:56:04.624Z"
   },
   {
    "duration": 3098,
    "start_time": "2022-04-23T12:56:04.789Z"
   },
   {
    "duration": 6,
    "start_time": "2022-04-23T12:56:07.889Z"
   },
   {
    "duration": 235,
    "start_time": "2022-04-23T12:56:07.897Z"
   },
   {
    "duration": 227,
    "start_time": "2022-04-23T12:56:08.135Z"
   },
   {
    "duration": 11,
    "start_time": "2022-04-23T12:56:08.364Z"
   },
   {
    "duration": 38,
    "start_time": "2022-04-23T12:56:08.377Z"
   },
   {
    "duration": 1376,
    "start_time": "2022-04-23T12:56:08.417Z"
   },
   {
    "duration": 21,
    "start_time": "2022-04-23T12:56:09.795Z"
   },
   {
    "duration": 129,
    "start_time": "2022-04-23T12:56:09.819Z"
   },
   {
    "duration": 100,
    "start_time": "2022-04-23T12:56:09.950Z"
   },
   {
    "duration": 11,
    "start_time": "2022-04-23T12:56:10.052Z"
   },
   {
    "duration": 120,
    "start_time": "2022-04-23T12:56:10.065Z"
   },
   {
    "duration": 11,
    "start_time": "2022-04-23T12:56:10.193Z"
   },
   {
    "duration": 255,
    "start_time": "2022-04-23T12:56:10.206Z"
   },
   {
    "duration": 232,
    "start_time": "2022-04-23T12:56:10.467Z"
   },
   {
    "duration": 11,
    "start_time": "2022-04-23T12:56:10.701Z"
   },
   {
    "duration": 156,
    "start_time": "2022-04-23T12:56:10.714Z"
   },
   {
    "duration": 134,
    "start_time": "2022-04-23T12:56:10.872Z"
   },
   {
    "duration": 25,
    "start_time": "2022-04-23T12:56:11.008Z"
   },
   {
    "duration": 8,
    "start_time": "2022-04-23T12:56:11.035Z"
   },
   {
    "duration": 51,
    "start_time": "2022-04-23T12:56:11.046Z"
   },
   {
    "duration": 486,
    "start_time": "2022-04-23T12:56:11.099Z"
   },
   {
    "duration": 62,
    "start_time": "2022-04-23T12:56:11.593Z"
   },
   {
    "duration": 2133,
    "start_time": "2022-04-23T12:56:11.657Z"
   },
   {
    "duration": 366,
    "start_time": "2022-04-23T12:56:13.793Z"
   },
   {
    "duration": 8,
    "start_time": "2022-04-23T12:56:14.162Z"
   },
   {
    "duration": 230,
    "start_time": "2022-04-23T12:56:14.172Z"
   },
   {
    "duration": 176,
    "start_time": "2022-04-23T12:56:14.404Z"
   },
   {
    "duration": 43,
    "start_time": "2022-04-23T12:56:14.582Z"
   },
   {
    "duration": 35,
    "start_time": "2022-04-23T12:56:14.627Z"
   },
   {
    "duration": 301,
    "start_time": "2022-04-23T12:56:51.954Z"
   },
   {
    "duration": 40,
    "start_time": "2022-04-23T12:57:53.689Z"
   },
   {
    "duration": 40,
    "start_time": "2022-04-23T13:02:15.229Z"
   },
   {
    "duration": 39,
    "start_time": "2022-04-23T13:02:57.362Z"
   },
   {
    "duration": 40,
    "start_time": "2022-04-23T13:09:45.352Z"
   },
   {
    "duration": 40,
    "start_time": "2022-04-23T13:10:21.097Z"
   },
   {
    "duration": 40,
    "start_time": "2022-04-23T13:10:41.392Z"
   },
   {
    "duration": 40,
    "start_time": "2022-04-23T13:11:49.490Z"
   },
   {
    "duration": 40,
    "start_time": "2022-04-23T13:11:55.019Z"
   },
   {
    "duration": 39,
    "start_time": "2022-04-23T13:11:57.670Z"
   },
   {
    "duration": 2983,
    "start_time": "2022-04-23T16:28:01.657Z"
   },
   {
    "duration": 2307,
    "start_time": "2022-04-23T16:28:04.642Z"
   },
   {
    "duration": 3,
    "start_time": "2022-04-23T16:28:06.950Z"
   },
   {
    "duration": 16,
    "start_time": "2022-04-23T16:28:06.954Z"
   },
   {
    "duration": 107,
    "start_time": "2022-04-23T16:28:06.972Z"
   },
   {
    "duration": 306,
    "start_time": "2022-04-23T16:28:07.080Z"
   },
   {
    "duration": 42,
    "start_time": "2022-04-23T16:28:07.388Z"
   },
   {
    "duration": 124,
    "start_time": "2022-04-23T16:28:07.431Z"
   },
   {
    "duration": 176,
    "start_time": "2022-04-23T16:28:07.557Z"
   },
   {
    "duration": 253,
    "start_time": "2022-04-23T16:28:07.736Z"
   },
   {
    "duration": 153,
    "start_time": "2022-04-23T16:28:07.990Z"
   },
   {
    "duration": 92,
    "start_time": "2022-04-23T16:28:08.144Z"
   },
   {
    "duration": 250,
    "start_time": "2022-04-23T16:28:08.238Z"
   },
   {
    "duration": 63,
    "start_time": "2022-04-23T16:28:08.491Z"
   },
   {
    "duration": 22,
    "start_time": "2022-04-23T16:28:08.556Z"
   },
   {
    "duration": 17,
    "start_time": "2022-04-23T16:28:08.580Z"
   },
   {
    "duration": 38,
    "start_time": "2022-04-23T16:28:08.598Z"
   },
   {
    "duration": 19,
    "start_time": "2022-04-23T16:28:08.638Z"
   },
   {
    "duration": 36,
    "start_time": "2022-04-23T16:28:08.658Z"
   },
   {
    "duration": 10,
    "start_time": "2022-04-23T16:28:08.696Z"
   },
   {
    "duration": 35,
    "start_time": "2022-04-23T16:28:08.707Z"
   },
   {
    "duration": 29,
    "start_time": "2022-04-23T16:28:08.743Z"
   },
   {
    "duration": 120,
    "start_time": "2022-04-23T16:28:08.773Z"
   },
   {
    "duration": 83,
    "start_time": "2022-04-23T16:28:08.895Z"
   },
   {
    "duration": 89,
    "start_time": "2022-04-23T16:28:08.980Z"
   },
   {
    "duration": 97,
    "start_time": "2022-04-23T16:28:09.070Z"
   },
   {
    "duration": 1625,
    "start_time": "2022-04-23T16:28:09.168Z"
   },
   {
    "duration": 3,
    "start_time": "2022-04-23T16:28:10.795Z"
   },
   {
    "duration": 166,
    "start_time": "2022-04-23T16:28:10.800Z"
   },
   {
    "duration": 141,
    "start_time": "2022-04-23T16:28:10.968Z"
   },
   {
    "duration": 21,
    "start_time": "2022-04-23T16:28:11.111Z"
   },
   {
    "duration": 19,
    "start_time": "2022-04-23T16:28:11.134Z"
   },
   {
    "duration": 941,
    "start_time": "2022-04-23T16:28:11.155Z"
   },
   {
    "duration": 34,
    "start_time": "2022-04-23T16:28:12.098Z"
   },
   {
    "duration": 66,
    "start_time": "2022-04-23T16:28:12.135Z"
   },
   {
    "duration": 97,
    "start_time": "2022-04-23T16:28:12.202Z"
   },
   {
    "duration": 10,
    "start_time": "2022-04-23T16:28:12.301Z"
   },
   {
    "duration": 67,
    "start_time": "2022-04-23T16:28:12.313Z"
   },
   {
    "duration": 7,
    "start_time": "2022-04-23T16:28:12.381Z"
   },
   {
    "duration": 184,
    "start_time": "2022-04-23T16:28:12.390Z"
   },
   {
    "duration": 140,
    "start_time": "2022-04-23T16:28:12.578Z"
   },
   {
    "duration": 11,
    "start_time": "2022-04-23T16:28:12.725Z"
   },
   {
    "duration": 115,
    "start_time": "2022-04-23T16:28:12.738Z"
   },
   {
    "duration": 77,
    "start_time": "2022-04-23T16:28:12.855Z"
   },
   {
    "duration": 15,
    "start_time": "2022-04-23T16:28:12.934Z"
   },
   {
    "duration": 9,
    "start_time": "2022-04-23T16:28:12.950Z"
   },
   {
    "duration": 4,
    "start_time": "2022-04-23T16:28:12.961Z"
   },
   {
    "duration": 288,
    "start_time": "2022-04-23T16:28:12.967Z"
   },
   {
    "duration": 36,
    "start_time": "2022-04-23T16:28:13.257Z"
   },
   {
    "duration": 1779,
    "start_time": "2022-04-23T16:28:13.294Z"
   },
   {
    "duration": 206,
    "start_time": "2022-04-23T16:28:15.075Z"
   },
   {
    "duration": 4,
    "start_time": "2022-04-23T16:28:15.282Z"
   },
   {
    "duration": 146,
    "start_time": "2022-04-23T16:28:15.288Z"
   },
   {
    "duration": 118,
    "start_time": "2022-04-23T16:28:15.436Z"
   },
   {
    "duration": 25,
    "start_time": "2022-04-23T16:28:15.555Z"
   },
   {
    "duration": 23,
    "start_time": "2022-04-23T16:28:15.581Z"
   },
   {
    "duration": 44,
    "start_time": "2022-04-23T16:28:15.607Z"
   },
   {
    "duration": 22,
    "start_time": "2022-04-23T16:28:15.653Z"
   },
   {
    "duration": 23,
    "start_time": "2022-04-23T16:28:15.676Z"
   },
   {
    "duration": 49,
    "start_time": "2022-04-23T16:28:15.700Z"
   },
   {
    "duration": 103,
    "start_time": "2022-04-23T16:28:15.750Z"
   },
   {
    "duration": 178,
    "start_time": "2022-04-23T16:28:15.854Z"
   },
   {
    "duration": 0,
    "start_time": "2022-04-23T16:28:16.034Z"
   },
   {
    "duration": 0,
    "start_time": "2022-04-23T16:28:16.035Z"
   },
   {
    "duration": 69,
    "start_time": "2022-04-23T16:35:19.337Z"
   },
   {
    "duration": 2488,
    "start_time": "2022-04-23T16:35:26.005Z"
   },
   {
    "duration": 2372,
    "start_time": "2022-04-23T16:36:01.772Z"
   },
   {
    "duration": 84,
    "start_time": "2022-04-23T16:36:14.891Z"
   },
   {
    "duration": 69,
    "start_time": "2022-04-23T16:36:35.946Z"
   },
   {
    "duration": 72,
    "start_time": "2022-04-23T16:36:53.066Z"
   },
   {
    "duration": 79,
    "start_time": "2022-04-23T16:37:25.621Z"
   },
   {
    "duration": 68,
    "start_time": "2022-04-23T16:37:48.644Z"
   },
   {
    "duration": 2307,
    "start_time": "2022-04-23T16:37:58.537Z"
   },
   {
    "duration": 70,
    "start_time": "2022-04-23T16:39:07.499Z"
   },
   {
    "duration": 2225,
    "start_time": "2022-04-23T16:39:11.899Z"
   },
   {
    "duration": 2214,
    "start_time": "2022-04-23T16:40:25.388Z"
   },
   {
    "duration": 4,
    "start_time": "2022-04-23T16:40:58.477Z"
   },
   {
    "duration": 75,
    "start_time": "2022-04-23T16:41:20.471Z"
   },
   {
    "duration": 70,
    "start_time": "2022-04-23T16:43:19.906Z"
   },
   {
    "duration": 20,
    "start_time": "2022-04-23T16:44:42.002Z"
   },
   {
    "duration": 1920,
    "start_time": "2022-04-23T16:50:04.203Z"
   },
   {
    "duration": 583,
    "start_time": "2022-04-23T16:50:06.125Z"
   },
   {
    "duration": 3,
    "start_time": "2022-04-23T16:50:06.709Z"
   },
   {
    "duration": 20,
    "start_time": "2022-04-23T16:50:06.714Z"
   },
   {
    "duration": 74,
    "start_time": "2022-04-23T16:50:06.736Z"
   },
   {
    "duration": 301,
    "start_time": "2022-04-23T16:50:06.812Z"
   },
   {
    "duration": 34,
    "start_time": "2022-04-23T16:50:07.114Z"
   },
   {
    "duration": 120,
    "start_time": "2022-04-23T16:50:07.150Z"
   },
   {
    "duration": 176,
    "start_time": "2022-04-23T16:50:07.272Z"
   },
   {
    "duration": 238,
    "start_time": "2022-04-23T16:50:07.450Z"
   },
   {
    "duration": 149,
    "start_time": "2022-04-23T16:50:07.690Z"
   },
   {
    "duration": 91,
    "start_time": "2022-04-23T16:50:07.841Z"
   },
   {
    "duration": 261,
    "start_time": "2022-04-23T16:50:07.934Z"
   },
   {
    "duration": 68,
    "start_time": "2022-04-23T16:50:08.196Z"
   },
   {
    "duration": 24,
    "start_time": "2022-04-23T16:50:08.265Z"
   },
   {
    "duration": 18,
    "start_time": "2022-04-23T16:50:08.290Z"
   },
   {
    "duration": 26,
    "start_time": "2022-04-23T16:50:08.310Z"
   },
   {
    "duration": 18,
    "start_time": "2022-04-23T16:50:08.338Z"
   },
   {
    "duration": 38,
    "start_time": "2022-04-23T16:50:08.358Z"
   },
   {
    "duration": 34,
    "start_time": "2022-04-23T16:50:08.398Z"
   },
   {
    "duration": 22,
    "start_time": "2022-04-23T16:50:08.433Z"
   },
   {
    "duration": 29,
    "start_time": "2022-04-23T16:50:08.456Z"
   },
   {
    "duration": 121,
    "start_time": "2022-04-23T16:50:08.487Z"
   },
   {
    "duration": 76,
    "start_time": "2022-04-23T16:50:08.610Z"
   },
   {
    "duration": 83,
    "start_time": "2022-04-23T16:50:08.687Z"
   },
   {
    "duration": 92,
    "start_time": "2022-04-23T16:50:08.772Z"
   },
   {
    "duration": 1622,
    "start_time": "2022-04-23T16:50:08.865Z"
   },
   {
    "duration": 4,
    "start_time": "2022-04-23T16:50:10.491Z"
   },
   {
    "duration": 149,
    "start_time": "2022-04-23T16:50:10.497Z"
   },
   {
    "duration": 130,
    "start_time": "2022-04-23T16:50:10.648Z"
   },
   {
    "duration": 9,
    "start_time": "2022-04-23T16:50:10.780Z"
   },
   {
    "duration": 35,
    "start_time": "2022-04-23T16:50:10.791Z"
   },
   {
    "duration": 911,
    "start_time": "2022-04-23T16:50:10.828Z"
   },
   {
    "duration": 15,
    "start_time": "2022-04-23T16:50:11.740Z"
   },
   {
    "duration": 88,
    "start_time": "2022-04-23T16:50:11.757Z"
   },
   {
    "duration": 52,
    "start_time": "2022-04-23T16:50:11.847Z"
   },
   {
    "duration": 27,
    "start_time": "2022-04-23T16:50:11.901Z"
   },
   {
    "duration": 62,
    "start_time": "2022-04-23T16:50:11.930Z"
   },
   {
    "duration": 7,
    "start_time": "2022-04-23T16:50:11.994Z"
   },
   {
    "duration": 169,
    "start_time": "2022-04-23T16:50:12.024Z"
   },
   {
    "duration": 141,
    "start_time": "2022-04-23T16:50:12.195Z"
   },
   {
    "duration": 8,
    "start_time": "2022-04-23T16:50:12.338Z"
   },
   {
    "duration": 103,
    "start_time": "2022-04-23T16:50:12.347Z"
   },
   {
    "duration": 72,
    "start_time": "2022-04-23T16:50:12.452Z"
   },
   {
    "duration": 15,
    "start_time": "2022-04-23T16:50:12.526Z"
   },
   {
    "duration": 9,
    "start_time": "2022-04-23T16:50:12.542Z"
   },
   {
    "duration": 6,
    "start_time": "2022-04-23T16:50:12.552Z"
   },
   {
    "duration": 270,
    "start_time": "2022-04-23T16:50:12.559Z"
   },
   {
    "duration": 39,
    "start_time": "2022-04-23T16:50:12.831Z"
   },
   {
    "duration": 1587,
    "start_time": "2022-04-23T16:50:12.871Z"
   },
   {
    "duration": 199,
    "start_time": "2022-04-23T16:50:14.459Z"
   },
   {
    "duration": 5,
    "start_time": "2022-04-23T16:50:14.660Z"
   },
   {
    "duration": 134,
    "start_time": "2022-04-23T16:50:14.667Z"
   },
   {
    "duration": 126,
    "start_time": "2022-04-23T16:50:14.803Z"
   },
   {
    "duration": 32,
    "start_time": "2022-04-23T16:50:14.931Z"
   },
   {
    "duration": 24,
    "start_time": "2022-04-23T16:50:14.964Z"
   },
   {
    "duration": 25,
    "start_time": "2022-04-23T16:50:14.990Z"
   },
   {
    "duration": 53,
    "start_time": "2022-04-23T16:50:15.016Z"
   },
   {
    "duration": 38,
    "start_time": "2022-04-23T16:50:15.070Z"
   },
   {
    "duration": 37,
    "start_time": "2022-04-23T16:50:15.110Z"
   },
   {
    "duration": 122,
    "start_time": "2022-04-23T16:50:15.149Z"
   },
   {
    "duration": 170,
    "start_time": "2022-04-23T16:52:56.788Z"
   },
   {
    "duration": 12,
    "start_time": "2022-04-23T16:53:13.973Z"
   },
   {
    "duration": 216,
    "start_time": "2022-04-23T16:56:13.226Z"
   },
   {
    "duration": 11,
    "start_time": "2022-04-23T16:58:06.180Z"
   },
   {
    "duration": 180,
    "start_time": "2022-04-23T17:03:34.016Z"
   },
   {
    "duration": 179,
    "start_time": "2022-04-23T17:04:09.580Z"
   },
   {
    "duration": 184,
    "start_time": "2022-04-23T17:04:29.164Z"
   },
   {
    "duration": 1880,
    "start_time": "2022-04-23T17:05:06.488Z"
   },
   {
    "duration": 574,
    "start_time": "2022-04-23T17:05:08.370Z"
   },
   {
    "duration": 2,
    "start_time": "2022-04-23T17:05:08.946Z"
   },
   {
    "duration": 14,
    "start_time": "2022-04-23T17:05:08.951Z"
   },
   {
    "duration": 89,
    "start_time": "2022-04-23T17:05:08.966Z"
   },
   {
    "duration": 288,
    "start_time": "2022-04-23T17:05:09.057Z"
   },
   {
    "duration": 30,
    "start_time": "2022-04-23T17:05:09.347Z"
   },
   {
    "duration": 125,
    "start_time": "2022-04-23T17:05:09.379Z"
   },
   {
    "duration": 178,
    "start_time": "2022-04-23T17:05:09.506Z"
   },
   {
    "duration": 241,
    "start_time": "2022-04-23T17:05:09.687Z"
   },
   {
    "duration": 151,
    "start_time": "2022-04-23T17:05:09.929Z"
   },
   {
    "duration": 84,
    "start_time": "2022-04-23T17:05:10.082Z"
   },
   {
    "duration": 268,
    "start_time": "2022-04-23T17:05:10.168Z"
   },
   {
    "duration": 60,
    "start_time": "2022-04-23T17:05:10.437Z"
   },
   {
    "duration": 37,
    "start_time": "2022-04-23T17:05:10.499Z"
   },
   {
    "duration": 19,
    "start_time": "2022-04-23T17:05:10.538Z"
   },
   {
    "duration": 13,
    "start_time": "2022-04-23T17:05:10.558Z"
   },
   {
    "duration": 18,
    "start_time": "2022-04-23T17:05:10.573Z"
   },
   {
    "duration": 64,
    "start_time": "2022-04-23T17:05:10.593Z"
   },
   {
    "duration": 10,
    "start_time": "2022-04-23T17:05:10.659Z"
   },
   {
    "duration": 21,
    "start_time": "2022-04-23T17:05:10.671Z"
   },
   {
    "duration": 56,
    "start_time": "2022-04-23T17:05:10.693Z"
   },
   {
    "duration": 111,
    "start_time": "2022-04-23T17:05:10.750Z"
   },
   {
    "duration": 86,
    "start_time": "2022-04-23T17:05:10.862Z"
   },
   {
    "duration": 80,
    "start_time": "2022-04-23T17:05:10.950Z"
   },
   {
    "duration": 103,
    "start_time": "2022-04-23T17:05:11.035Z"
   },
   {
    "duration": 1542,
    "start_time": "2022-04-23T17:05:11.139Z"
   },
   {
    "duration": 4,
    "start_time": "2022-04-23T17:05:12.684Z"
   },
   {
    "duration": 157,
    "start_time": "2022-04-23T17:05:12.689Z"
   },
   {
    "duration": 129,
    "start_time": "2022-04-23T17:05:12.848Z"
   },
   {
    "duration": 8,
    "start_time": "2022-04-23T17:05:12.978Z"
   },
   {
    "duration": 15,
    "start_time": "2022-04-23T17:05:12.987Z"
   },
   {
    "duration": 861,
    "start_time": "2022-04-23T17:05:13.004Z"
   },
   {
    "duration": 14,
    "start_time": "2022-04-23T17:05:13.867Z"
   },
   {
    "duration": 67,
    "start_time": "2022-04-23T17:05:13.883Z"
   },
   {
    "duration": 51,
    "start_time": "2022-04-23T17:05:13.952Z"
   },
   {
    "duration": 7,
    "start_time": "2022-04-23T17:05:14.004Z"
   },
   {
    "duration": 73,
    "start_time": "2022-04-23T17:05:14.013Z"
   },
   {
    "duration": 8,
    "start_time": "2022-04-23T17:05:14.087Z"
   },
   {
    "duration": 191,
    "start_time": "2022-04-23T17:05:14.096Z"
   },
   {
    "duration": 132,
    "start_time": "2022-04-23T17:05:14.289Z"
   },
   {
    "duration": 17,
    "start_time": "2022-04-23T17:05:14.422Z"
   },
   {
    "duration": 117,
    "start_time": "2022-04-23T17:05:14.440Z"
   },
   {
    "duration": 67,
    "start_time": "2022-04-23T17:05:14.559Z"
   },
   {
    "duration": 16,
    "start_time": "2022-04-23T17:05:14.628Z"
   },
   {
    "duration": 4,
    "start_time": "2022-04-23T17:05:14.646Z"
   },
   {
    "duration": 6,
    "start_time": "2022-04-23T17:05:14.651Z"
   },
   {
    "duration": 256,
    "start_time": "2022-04-23T17:05:14.659Z"
   },
   {
    "duration": 42,
    "start_time": "2022-04-23T17:05:14.916Z"
   },
   {
    "duration": 2003,
    "start_time": "2022-04-23T17:05:14.960Z"
   },
   {
    "duration": 185,
    "start_time": "2022-04-23T17:05:16.965Z"
   },
   {
    "duration": 5,
    "start_time": "2022-04-23T17:05:17.152Z"
   },
   {
    "duration": 140,
    "start_time": "2022-04-23T17:05:17.158Z"
   },
   {
    "duration": 125,
    "start_time": "2022-04-23T17:05:17.300Z"
   },
   {
    "duration": 28,
    "start_time": "2022-04-23T17:05:17.427Z"
   },
   {
    "duration": 22,
    "start_time": "2022-04-23T17:05:17.457Z"
   },
   {
    "duration": 24,
    "start_time": "2022-04-23T17:05:17.480Z"
   },
   {
    "duration": 33,
    "start_time": "2022-04-23T17:05:17.523Z"
   },
   {
    "duration": 23,
    "start_time": "2022-04-23T17:05:17.557Z"
   },
   {
    "duration": 22,
    "start_time": "2022-04-23T17:05:17.581Z"
   },
   {
    "duration": 99,
    "start_time": "2022-04-23T17:05:17.627Z"
   },
   {
    "duration": 13,
    "start_time": "2022-04-23T17:05:17.728Z"
   },
   {
    "duration": 10,
    "start_time": "2022-04-23T17:05:17.743Z"
   },
   {
    "duration": 313,
    "start_time": "2022-04-23T17:07:19.973Z"
   },
   {
    "duration": 159,
    "start_time": "2022-04-23T17:07:39.393Z"
   },
   {
    "duration": 177,
    "start_time": "2022-04-23T17:08:02.509Z"
   },
   {
    "duration": 1978,
    "start_time": "2022-04-23T17:08:40.872Z"
   },
   {
    "duration": 632,
    "start_time": "2022-04-23T17:08:42.855Z"
   },
   {
    "duration": 2,
    "start_time": "2022-04-23T17:08:43.489Z"
   },
   {
    "duration": 24,
    "start_time": "2022-04-23T17:08:43.494Z"
   },
   {
    "duration": 90,
    "start_time": "2022-04-23T17:08:43.519Z"
   },
   {
    "duration": 344,
    "start_time": "2022-04-23T17:08:43.611Z"
   },
   {
    "duration": 31,
    "start_time": "2022-04-23T17:08:43.956Z"
   },
   {
    "duration": 133,
    "start_time": "2022-04-23T17:08:43.989Z"
   },
   {
    "duration": 186,
    "start_time": "2022-04-23T17:08:44.129Z"
   },
   {
    "duration": 266,
    "start_time": "2022-04-23T17:08:44.318Z"
   },
   {
    "duration": 157,
    "start_time": "2022-04-23T17:08:44.586Z"
   },
   {
    "duration": 78,
    "start_time": "2022-04-23T17:08:44.745Z"
   },
   {
    "duration": 280,
    "start_time": "2022-04-23T17:08:44.825Z"
   },
   {
    "duration": 67,
    "start_time": "2022-04-23T17:08:45.107Z"
   },
   {
    "duration": 24,
    "start_time": "2022-04-23T17:08:45.176Z"
   },
   {
    "duration": 35,
    "start_time": "2022-04-23T17:08:45.202Z"
   },
   {
    "duration": 14,
    "start_time": "2022-04-23T17:08:45.242Z"
   },
   {
    "duration": 21,
    "start_time": "2022-04-23T17:08:45.258Z"
   },
   {
    "duration": 57,
    "start_time": "2022-04-23T17:08:45.280Z"
   },
   {
    "duration": 12,
    "start_time": "2022-04-23T17:08:45.339Z"
   },
   {
    "duration": 37,
    "start_time": "2022-04-23T17:08:45.353Z"
   },
   {
    "duration": 38,
    "start_time": "2022-04-23T17:08:45.391Z"
   },
   {
    "duration": 111,
    "start_time": "2022-04-23T17:08:45.434Z"
   },
   {
    "duration": 78,
    "start_time": "2022-04-23T17:08:45.551Z"
   },
   {
    "duration": 83,
    "start_time": "2022-04-23T17:08:45.630Z"
   },
   {
    "duration": 118,
    "start_time": "2022-04-23T17:08:45.714Z"
   },
   {
    "duration": 1563,
    "start_time": "2022-04-23T17:08:45.833Z"
   },
   {
    "duration": 3,
    "start_time": "2022-04-23T17:08:47.400Z"
   },
   {
    "duration": 166,
    "start_time": "2022-04-23T17:08:47.405Z"
   },
   {
    "duration": 144,
    "start_time": "2022-04-23T17:08:47.572Z"
   },
   {
    "duration": 17,
    "start_time": "2022-04-23T17:08:47.717Z"
   },
   {
    "duration": 40,
    "start_time": "2022-04-23T17:08:47.735Z"
   },
   {
    "duration": 932,
    "start_time": "2022-04-23T17:08:47.777Z"
   },
   {
    "duration": 39,
    "start_time": "2022-04-23T17:08:48.710Z"
   },
   {
    "duration": 66,
    "start_time": "2022-04-23T17:08:48.750Z"
   },
   {
    "duration": 71,
    "start_time": "2022-04-23T17:08:48.817Z"
   },
   {
    "duration": 8,
    "start_time": "2022-04-23T17:08:48.889Z"
   },
   {
    "duration": 75,
    "start_time": "2022-04-23T17:08:48.899Z"
   },
   {
    "duration": 7,
    "start_time": "2022-04-23T17:08:48.976Z"
   },
   {
    "duration": 182,
    "start_time": "2022-04-23T17:08:48.984Z"
   },
   {
    "duration": 142,
    "start_time": "2022-04-23T17:08:49.168Z"
   },
   {
    "duration": 14,
    "start_time": "2022-04-23T17:08:49.312Z"
   },
   {
    "duration": 134,
    "start_time": "2022-04-23T17:08:49.327Z"
   },
   {
    "duration": 87,
    "start_time": "2022-04-23T17:08:49.462Z"
   },
   {
    "duration": 18,
    "start_time": "2022-04-23T17:08:49.551Z"
   },
   {
    "duration": 4,
    "start_time": "2022-04-23T17:08:49.571Z"
   },
   {
    "duration": 6,
    "start_time": "2022-04-23T17:08:49.577Z"
   },
   {
    "duration": 329,
    "start_time": "2022-04-23T17:08:49.585Z"
   },
   {
    "duration": 58,
    "start_time": "2022-04-23T17:08:49.916Z"
   },
   {
    "duration": 1567,
    "start_time": "2022-04-23T17:08:49.975Z"
   },
   {
    "duration": 213,
    "start_time": "2022-04-23T17:08:51.546Z"
   },
   {
    "duration": 5,
    "start_time": "2022-04-23T17:08:51.761Z"
   },
   {
    "duration": 146,
    "start_time": "2022-04-23T17:08:51.767Z"
   },
   {
    "duration": 143,
    "start_time": "2022-04-23T17:08:51.914Z"
   },
   {
    "duration": 25,
    "start_time": "2022-04-23T17:08:52.059Z"
   },
   {
    "duration": 23,
    "start_time": "2022-04-23T17:08:52.086Z"
   },
   {
    "duration": 36,
    "start_time": "2022-04-23T17:08:52.130Z"
   },
   {
    "duration": 24,
    "start_time": "2022-04-23T17:08:52.167Z"
   },
   {
    "duration": 38,
    "start_time": "2022-04-23T17:08:52.193Z"
   },
   {
    "duration": 47,
    "start_time": "2022-04-23T17:08:52.232Z"
   },
   {
    "duration": 104,
    "start_time": "2022-04-23T17:08:52.281Z"
   },
   {
    "duration": 10,
    "start_time": "2022-04-23T17:08:52.386Z"
   },
   {
    "duration": 10,
    "start_time": "2022-04-23T17:08:52.398Z"
   },
   {
    "duration": 266,
    "start_time": "2022-04-23T17:08:52.409Z"
   },
   {
    "duration": 240,
    "start_time": "2022-04-23T19:11:59.185Z"
   },
   {
    "duration": 8,
    "start_time": "2022-04-23T19:13:02.884Z"
   },
   {
    "duration": 15,
    "start_time": "2022-04-23T19:13:52.357Z"
   },
   {
    "duration": 2150,
    "start_time": "2022-04-23T19:14:02.423Z"
   },
   {
    "duration": 973,
    "start_time": "2022-04-23T19:14:04.576Z"
   },
   {
    "duration": 3,
    "start_time": "2022-04-23T19:14:05.551Z"
   },
   {
    "duration": 21,
    "start_time": "2022-04-23T19:14:05.557Z"
   },
   {
    "duration": 156,
    "start_time": "2022-04-23T19:14:05.581Z"
   },
   {
    "duration": 400,
    "start_time": "2022-04-23T19:14:05.740Z"
   },
   {
    "duration": 61,
    "start_time": "2022-04-23T19:14:06.143Z"
   },
   {
    "duration": 231,
    "start_time": "2022-04-23T19:14:06.206Z"
   },
   {
    "duration": 301,
    "start_time": "2022-04-23T19:14:06.439Z"
   },
   {
    "duration": 256,
    "start_time": "2022-04-23T19:14:06.745Z"
   },
   {
    "duration": 162,
    "start_time": "2022-04-23T19:14:07.003Z"
   },
   {
    "duration": 92,
    "start_time": "2022-04-23T19:14:07.167Z"
   },
   {
    "duration": 272,
    "start_time": "2022-04-23T19:14:07.261Z"
   },
   {
    "duration": 100,
    "start_time": "2022-04-23T19:14:07.536Z"
   },
   {
    "duration": 24,
    "start_time": "2022-04-23T19:14:07.639Z"
   },
   {
    "duration": 18,
    "start_time": "2022-04-23T19:14:07.665Z"
   },
   {
    "duration": 12,
    "start_time": "2022-04-23T19:14:07.684Z"
   },
   {
    "duration": 48,
    "start_time": "2022-04-23T19:14:07.697Z"
   },
   {
    "duration": 40,
    "start_time": "2022-04-23T19:14:07.747Z"
   },
   {
    "duration": 11,
    "start_time": "2022-04-23T19:14:07.789Z"
   },
   {
    "duration": 55,
    "start_time": "2022-04-23T19:14:07.801Z"
   },
   {
    "duration": 81,
    "start_time": "2022-04-23T19:14:07.859Z"
   },
   {
    "duration": 107,
    "start_time": "2022-04-23T19:14:07.942Z"
   },
   {
    "duration": 78,
    "start_time": "2022-04-23T19:14:08.051Z"
   },
   {
    "duration": 148,
    "start_time": "2022-04-23T19:14:08.135Z"
   },
   {
    "duration": 164,
    "start_time": "2022-04-23T19:14:08.284Z"
   },
   {
    "duration": 2443,
    "start_time": "2022-04-23T19:14:08.449Z"
   },
   {
    "duration": 4,
    "start_time": "2022-04-23T19:14:10.898Z"
   },
   {
    "duration": 168,
    "start_time": "2022-04-23T19:14:10.904Z"
   },
   {
    "duration": 134,
    "start_time": "2022-04-23T19:14:11.074Z"
   },
   {
    "duration": 29,
    "start_time": "2022-04-23T19:14:11.209Z"
   },
   {
    "duration": 18,
    "start_time": "2022-04-23T19:14:11.239Z"
   },
   {
    "duration": 984,
    "start_time": "2022-04-23T19:14:11.259Z"
   },
   {
    "duration": 22,
    "start_time": "2022-04-23T19:14:12.245Z"
   },
   {
    "duration": 113,
    "start_time": "2022-04-23T19:14:12.270Z"
   },
   {
    "duration": 78,
    "start_time": "2022-04-23T19:14:12.385Z"
   },
   {
    "duration": 7,
    "start_time": "2022-04-23T19:14:12.465Z"
   },
   {
    "duration": 89,
    "start_time": "2022-04-23T19:14:12.473Z"
   },
   {
    "duration": 8,
    "start_time": "2022-04-23T19:14:12.564Z"
   },
   {
    "duration": 290,
    "start_time": "2022-04-23T19:14:12.574Z"
   },
   {
    "duration": 147,
    "start_time": "2022-04-23T19:14:12.866Z"
   },
   {
    "duration": 15,
    "start_time": "2022-04-23T19:14:13.015Z"
   },
   {
    "duration": 119,
    "start_time": "2022-04-23T19:14:13.032Z"
   },
   {
    "duration": 90,
    "start_time": "2022-04-23T19:14:13.153Z"
   },
   {
    "duration": 15,
    "start_time": "2022-04-23T19:14:13.247Z"
   },
   {
    "duration": 247,
    "start_time": "2022-04-23T19:14:13.263Z"
   },
   {
    "duration": 0,
    "start_time": "2022-04-23T19:14:13.513Z"
   },
   {
    "duration": 0,
    "start_time": "2022-04-23T19:14:13.514Z"
   },
   {
    "duration": 0,
    "start_time": "2022-04-23T19:14:13.515Z"
   },
   {
    "duration": 0,
    "start_time": "2022-04-23T19:14:13.525Z"
   },
   {
    "duration": 0,
    "start_time": "2022-04-23T19:14:13.527Z"
   },
   {
    "duration": 0,
    "start_time": "2022-04-23T19:14:13.528Z"
   },
   {
    "duration": 0,
    "start_time": "2022-04-23T19:14:13.530Z"
   },
   {
    "duration": 0,
    "start_time": "2022-04-23T19:14:13.531Z"
   },
   {
    "duration": 0,
    "start_time": "2022-04-23T19:14:13.532Z"
   },
   {
    "duration": 0,
    "start_time": "2022-04-23T19:14:13.533Z"
   },
   {
    "duration": 0,
    "start_time": "2022-04-23T19:14:13.534Z"
   },
   {
    "duration": 0,
    "start_time": "2022-04-23T19:14:13.535Z"
   },
   {
    "duration": 0,
    "start_time": "2022-04-23T19:14:13.538Z"
   },
   {
    "duration": 0,
    "start_time": "2022-04-23T19:14:13.540Z"
   },
   {
    "duration": 0,
    "start_time": "2022-04-23T19:14:13.541Z"
   },
   {
    "duration": 0,
    "start_time": "2022-04-23T19:14:13.542Z"
   },
   {
    "duration": 0,
    "start_time": "2022-04-23T19:14:13.543Z"
   },
   {
    "duration": 0,
    "start_time": "2022-04-23T19:14:13.545Z"
   },
   {
    "duration": 0,
    "start_time": "2022-04-23T19:14:13.548Z"
   },
   {
    "duration": 17,
    "start_time": "2022-04-23T19:14:38.806Z"
   },
   {
    "duration": 9,
    "start_time": "2022-04-23T19:16:12.404Z"
   },
   {
    "duration": 11,
    "start_time": "2022-04-23T19:17:21.839Z"
   },
   {
    "duration": 2433,
    "start_time": "2022-04-24T14:40:44.247Z"
   },
   {
    "duration": 924,
    "start_time": "2022-04-24T14:40:46.682Z"
   },
   {
    "duration": 3,
    "start_time": "2022-04-24T14:40:47.608Z"
   },
   {
    "duration": 38,
    "start_time": "2022-04-24T14:40:47.613Z"
   },
   {
    "duration": 72,
    "start_time": "2022-04-24T14:40:47.652Z"
   },
   {
    "duration": 620,
    "start_time": "2022-04-24T14:40:47.726Z"
   },
   {
    "duration": 337,
    "start_time": "2022-04-24T14:40:48.543Z"
   },
   {
    "duration": 435,
    "start_time": "2022-04-24T14:40:48.884Z"
   },
   {
    "duration": 262,
    "start_time": "2022-04-24T14:40:49.321Z"
   },
   {
    "duration": 98,
    "start_time": "2022-04-24T14:40:49.585Z"
   },
   {
    "duration": 279,
    "start_time": "2022-04-24T14:40:49.685Z"
   },
   {
    "duration": 66,
    "start_time": "2022-04-24T14:40:49.966Z"
   },
   {
    "duration": 23,
    "start_time": "2022-04-24T14:40:50.034Z"
   },
   {
    "duration": 18,
    "start_time": "2022-04-24T14:40:50.058Z"
   },
   {
    "duration": 12,
    "start_time": "2022-04-24T14:40:50.078Z"
   },
   {
    "duration": 54,
    "start_time": "2022-04-24T14:40:50.091Z"
   },
   {
    "duration": 83,
    "start_time": "2022-04-24T14:40:50.147Z"
   },
   {
    "duration": 16,
    "start_time": "2022-04-24T14:40:50.233Z"
   },
   {
    "duration": 34,
    "start_time": "2022-04-24T14:40:50.251Z"
   },
   {
    "duration": 60,
    "start_time": "2022-04-24T14:40:50.287Z"
   },
   {
    "duration": 132,
    "start_time": "2022-04-24T14:40:50.348Z"
   },
   {
    "duration": 91,
    "start_time": "2022-04-24T14:40:50.482Z"
   },
   {
    "duration": 92,
    "start_time": "2022-04-24T14:40:50.575Z"
   },
   {
    "duration": 109,
    "start_time": "2022-04-24T14:40:50.669Z"
   },
   {
    "duration": 1840,
    "start_time": "2022-04-24T14:40:50.780Z"
   },
   {
    "duration": 5,
    "start_time": "2022-04-24T14:40:52.623Z"
   },
   {
    "duration": 238,
    "start_time": "2022-04-24T14:40:52.631Z"
   },
   {
    "duration": 213,
    "start_time": "2022-04-24T14:40:52.871Z"
   },
   {
    "duration": 13,
    "start_time": "2022-04-24T14:40:53.086Z"
   },
   {
    "duration": 86,
    "start_time": "2022-04-24T14:40:53.101Z"
   },
   {
    "duration": 1536,
    "start_time": "2022-04-24T14:40:53.190Z"
   },
   {
    "duration": 24,
    "start_time": "2022-04-24T14:40:54.728Z"
   },
   {
    "duration": 151,
    "start_time": "2022-04-24T14:40:54.754Z"
   },
   {
    "duration": 100,
    "start_time": "2022-04-24T14:40:54.907Z"
   },
   {
    "duration": 23,
    "start_time": "2022-04-24T14:40:55.010Z"
   },
   {
    "duration": 125,
    "start_time": "2022-04-24T14:40:55.036Z"
   },
   {
    "duration": 11,
    "start_time": "2022-04-24T14:40:55.163Z"
   },
   {
    "duration": 179,
    "start_time": "2022-04-24T14:40:55.175Z"
   },
   {
    "duration": 146,
    "start_time": "2022-04-24T14:40:55.356Z"
   },
   {
    "duration": 20,
    "start_time": "2022-04-24T14:40:55.504Z"
   },
   {
    "duration": 107,
    "start_time": "2022-04-24T14:40:55.526Z"
   },
   {
    "duration": 68,
    "start_time": "2022-04-24T14:40:55.635Z"
   },
   {
    "duration": 31,
    "start_time": "2022-04-24T14:40:55.704Z"
   },
   {
    "duration": 12,
    "start_time": "2022-04-24T14:40:55.736Z"
   },
   {
    "duration": 4,
    "start_time": "2022-04-24T14:40:55.750Z"
   },
   {
    "duration": 5,
    "start_time": "2022-04-24T14:40:55.756Z"
   },
   {
    "duration": 383,
    "start_time": "2022-04-24T14:40:55.763Z"
   },
   {
    "duration": 39,
    "start_time": "2022-04-24T14:40:56.148Z"
   },
   {
    "duration": 1558,
    "start_time": "2022-04-24T14:40:56.189Z"
   },
   {
    "duration": 193,
    "start_time": "2022-04-24T14:40:57.749Z"
   },
   {
    "duration": 5,
    "start_time": "2022-04-24T14:40:57.944Z"
   },
   {
    "duration": 146,
    "start_time": "2022-04-24T14:40:57.951Z"
   },
   {
    "duration": 130,
    "start_time": "2022-04-24T14:40:58.099Z"
   },
   {
    "duration": 24,
    "start_time": "2022-04-24T14:40:58.231Z"
   },
   {
    "duration": 23,
    "start_time": "2022-04-24T14:40:58.257Z"
   },
   {
    "duration": 50,
    "start_time": "2022-04-24T14:40:58.281Z"
   },
   {
    "duration": 27,
    "start_time": "2022-04-24T14:40:58.333Z"
   },
   {
    "duration": 23,
    "start_time": "2022-04-24T14:40:58.363Z"
   },
   {
    "duration": 53,
    "start_time": "2022-04-24T14:40:58.388Z"
   },
   {
    "duration": 101,
    "start_time": "2022-04-24T14:40:58.443Z"
   },
   {
    "duration": 12,
    "start_time": "2022-04-24T14:40:58.545Z"
   },
   {
    "duration": 11,
    "start_time": "2022-04-24T14:40:58.558Z"
   },
   {
    "duration": 423,
    "start_time": "2022-04-24T14:40:58.572Z"
   },
   {
    "duration": 19,
    "start_time": "2022-04-24T14:43:24.325Z"
   },
   {
    "duration": 13,
    "start_time": "2022-04-24T14:49:36.035Z"
   },
   {
    "duration": 277,
    "start_time": "2022-04-24T14:50:12.044Z"
   },
   {
    "duration": 79,
    "start_time": "2022-04-24T14:52:17.282Z"
   },
   {
    "duration": 149,
    "start_time": "2022-04-24T14:53:41.601Z"
   },
   {
    "duration": 56,
    "start_time": "2022-04-24T15:05:22.074Z"
   },
   {
    "duration": 63,
    "start_time": "2022-04-24T15:05:36.945Z"
   },
   {
    "duration": 183,
    "start_time": "2022-04-24T15:10:04.941Z"
   },
   {
    "duration": 40421,
    "start_time": "2022-04-24T15:10:54.751Z"
   },
   {
    "duration": 225,
    "start_time": "2022-04-24T15:14:28.424Z"
   },
   {
    "duration": 193,
    "start_time": "2022-04-24T15:20:14.901Z"
   },
   {
    "duration": 35,
    "start_time": "2022-04-24T15:20:27.369Z"
   },
   {
    "duration": 10,
    "start_time": "2022-04-24T15:24:00.733Z"
   },
   {
    "duration": 16,
    "start_time": "2022-04-24T15:24:30.505Z"
   },
   {
    "duration": 53,
    "start_time": "2022-04-24T15:24:35.798Z"
   },
   {
    "duration": 73,
    "start_time": "2022-04-24T15:24:45.939Z"
   },
   {
    "duration": 191,
    "start_time": "2022-04-24T15:25:54.029Z"
   },
   {
    "duration": 181,
    "start_time": "2022-04-24T15:27:00.004Z"
   },
   {
    "duration": 251,
    "start_time": "2022-04-24T15:28:34.552Z"
   },
   {
    "duration": 3120,
    "start_time": "2022-04-25T19:57:20.525Z"
   },
   {
    "duration": 1463,
    "start_time": "2022-04-25T19:57:23.648Z"
   },
   {
    "duration": 3,
    "start_time": "2022-04-25T19:57:25.113Z"
   },
   {
    "duration": 34,
    "start_time": "2022-04-25T19:57:25.119Z"
   },
   {
    "duration": 142,
    "start_time": "2022-04-25T19:57:25.155Z"
   },
   {
    "duration": 519,
    "start_time": "2022-04-25T19:57:25.299Z"
   },
   {
    "duration": 66,
    "start_time": "2022-04-25T19:57:25.820Z"
   },
   {
    "duration": 229,
    "start_time": "2022-04-25T19:57:25.890Z"
   },
   {
    "duration": 367,
    "start_time": "2022-04-25T19:57:26.121Z"
   },
   {
    "duration": 523,
    "start_time": "2022-04-25T19:57:26.492Z"
   },
   {
    "duration": 281,
    "start_time": "2022-04-25T19:57:27.017Z"
   },
   {
    "duration": 143,
    "start_time": "2022-04-25T19:57:27.300Z"
   },
   {
    "duration": 617,
    "start_time": "2022-04-25T19:57:27.445Z"
   },
   {
    "duration": 109,
    "start_time": "2022-04-25T19:57:28.065Z"
   },
   {
    "duration": 41,
    "start_time": "2022-04-25T19:57:28.177Z"
   },
   {
    "duration": 50,
    "start_time": "2022-04-25T19:57:28.220Z"
   },
   {
    "duration": 21,
    "start_time": "2022-04-25T19:57:28.273Z"
   },
   {
    "duration": 64,
    "start_time": "2022-04-25T19:57:28.296Z"
   },
   {
    "duration": 75,
    "start_time": "2022-04-25T19:57:28.362Z"
   },
   {
    "duration": 31,
    "start_time": "2022-04-25T19:57:28.439Z"
   },
   {
    "duration": 32,
    "start_time": "2022-04-25T19:57:28.472Z"
   },
   {
    "duration": 80,
    "start_time": "2022-04-25T19:57:28.507Z"
   },
   {
    "duration": 201,
    "start_time": "2022-04-25T19:57:28.590Z"
   },
   {
    "duration": 152,
    "start_time": "2022-04-25T19:57:28.793Z"
   },
   {
    "duration": 177,
    "start_time": "2022-04-25T19:57:28.947Z"
   },
   {
    "duration": 190,
    "start_time": "2022-04-25T19:57:29.126Z"
   },
   {
    "duration": 3604,
    "start_time": "2022-04-25T19:57:29.319Z"
   },
   {
    "duration": 6,
    "start_time": "2022-04-25T19:57:32.933Z"
   },
   {
    "duration": 409,
    "start_time": "2022-04-25T19:57:32.960Z"
   },
   {
    "duration": 236,
    "start_time": "2022-04-25T19:57:33.371Z"
   },
   {
    "duration": 12,
    "start_time": "2022-04-25T19:57:33.609Z"
   },
   {
    "duration": 49,
    "start_time": "2022-04-25T19:57:33.623Z"
   },
   {
    "duration": 1519,
    "start_time": "2022-04-25T19:57:33.674Z"
   },
   {
    "duration": 23,
    "start_time": "2022-04-25T19:57:35.195Z"
   },
   {
    "duration": 154,
    "start_time": "2022-04-25T19:57:35.220Z"
   },
   {
    "duration": 113,
    "start_time": "2022-04-25T19:57:35.376Z"
   },
   {
    "duration": 10,
    "start_time": "2022-04-25T19:57:35.492Z"
   },
   {
    "duration": 130,
    "start_time": "2022-04-25T19:57:35.505Z"
   },
   {
    "duration": 22,
    "start_time": "2022-04-25T19:57:35.638Z"
   },
   {
    "duration": 314,
    "start_time": "2022-04-25T19:57:35.665Z"
   },
   {
    "duration": 301,
    "start_time": "2022-04-25T19:57:35.982Z"
   },
   {
    "duration": 11,
    "start_time": "2022-04-25T19:57:36.286Z"
   },
   {
    "duration": 187,
    "start_time": "2022-04-25T19:57:36.299Z"
   },
   {
    "duration": 150,
    "start_time": "2022-04-25T19:57:36.488Z"
   },
   {
    "duration": 31,
    "start_time": "2022-04-25T19:57:36.640Z"
   },
   {
    "duration": 23,
    "start_time": "2022-04-25T19:57:36.674Z"
   },
   {
    "duration": 7,
    "start_time": "2022-04-25T19:57:36.699Z"
   },
   {
    "duration": 47,
    "start_time": "2022-04-25T19:57:36.708Z"
   },
   {
    "duration": 527,
    "start_time": "2022-04-25T19:57:36.758Z"
   },
   {
    "duration": 79,
    "start_time": "2022-04-25T19:57:37.288Z"
   },
   {
    "duration": 2201,
    "start_time": "2022-04-25T19:57:37.370Z"
   },
   {
    "duration": 306,
    "start_time": "2022-04-25T19:57:39.574Z"
   },
   {
    "duration": 7,
    "start_time": "2022-04-25T19:57:39.882Z"
   },
   {
    "duration": 303,
    "start_time": "2022-04-25T19:57:39.891Z"
   },
   {
    "duration": 189,
    "start_time": "2022-04-25T19:57:40.196Z"
   },
   {
    "duration": 61,
    "start_time": "2022-04-25T19:57:40.388Z"
   },
   {
    "duration": 38,
    "start_time": "2022-04-25T19:57:40.453Z"
   },
   {
    "duration": 63,
    "start_time": "2022-04-25T19:57:40.494Z"
   },
   {
    "duration": 48,
    "start_time": "2022-04-25T19:57:40.559Z"
   },
   {
    "duration": 65,
    "start_time": "2022-04-25T19:57:40.609Z"
   },
   {
    "duration": 55,
    "start_time": "2022-04-25T19:57:40.676Z"
   },
   {
    "duration": 236,
    "start_time": "2022-04-25T19:57:40.734Z"
   },
   {
    "duration": 19,
    "start_time": "2022-04-25T19:57:40.972Z"
   },
   {
    "duration": 31,
    "start_time": "2022-04-25T19:57:40.993Z"
   },
   {
    "duration": 442,
    "start_time": "2022-04-25T19:57:41.026Z"
   },
   {
    "duration": 358,
    "start_time": "2022-04-25T19:57:41.471Z"
   },
   {
    "duration": 0,
    "start_time": "2022-04-25T19:57:41.832Z"
   },
   {
    "duration": 0,
    "start_time": "2022-04-25T19:57:41.833Z"
   },
   {
    "duration": 0,
    "start_time": "2022-04-25T19:57:41.835Z"
   },
   {
    "duration": 9,
    "start_time": "2022-04-25T20:03:39.432Z"
   },
   {
    "duration": 51,
    "start_time": "2022-04-25T20:03:41.175Z"
   },
   {
    "duration": 10,
    "start_time": "2022-04-25T20:03:57.791Z"
   },
   {
    "duration": 126,
    "start_time": "2022-04-25T20:03:58.465Z"
   },
   {
    "duration": 8,
    "start_time": "2022-04-25T20:04:27.566Z"
   },
   {
    "duration": 142,
    "start_time": "2022-04-25T20:05:07.045Z"
   },
   {
    "duration": 16,
    "start_time": "2022-04-25T20:05:25.736Z"
   },
   {
    "duration": 11,
    "start_time": "2022-04-25T20:05:44.799Z"
   },
   {
    "duration": 8,
    "start_time": "2022-04-25T20:05:49.393Z"
   },
   {
    "duration": 195,
    "start_time": "2022-04-25T20:05:53.024Z"
   },
   {
    "duration": 5504,
    "start_time": "2022-04-25T20:08:26.310Z"
   },
   {
    "duration": 5174,
    "start_time": "2022-04-25T20:08:36.924Z"
   },
   {
    "duration": 5957,
    "start_time": "2022-04-25T20:10:52.437Z"
   },
   {
    "duration": 33,
    "start_time": "2022-04-25T20:14:23.523Z"
   },
   {
    "duration": 75,
    "start_time": "2022-04-25T20:15:19.245Z"
   },
   {
    "duration": 6352,
    "start_time": "2022-04-25T20:34:06.588Z"
   },
   {
    "duration": 21,
    "start_time": "2022-04-25T20:38:32.387Z"
   },
   {
    "duration": 590,
    "start_time": "2022-04-25T20:38:37.364Z"
   },
   {
    "duration": 0,
    "start_time": "2022-04-25T20:40:28.301Z"
   },
   {
    "duration": 0,
    "start_time": "2022-04-25T20:40:28.303Z"
   },
   {
    "duration": 2600,
    "start_time": "2022-04-25T20:40:55.171Z"
   },
   {
    "duration": 942,
    "start_time": "2022-04-25T20:40:57.774Z"
   },
   {
    "duration": 3,
    "start_time": "2022-04-25T20:40:58.718Z"
   },
   {
    "duration": 31,
    "start_time": "2022-04-25T20:40:58.723Z"
   },
   {
    "duration": 128,
    "start_time": "2022-04-25T20:40:58.757Z"
   },
   {
    "duration": 476,
    "start_time": "2022-04-25T20:40:58.887Z"
   },
   {
    "duration": 51,
    "start_time": "2022-04-25T20:40:59.365Z"
   },
   {
    "duration": 228,
    "start_time": "2022-04-25T20:40:59.419Z"
   },
   {
    "duration": 334,
    "start_time": "2022-04-25T20:40:59.648Z"
   },
   {
    "duration": 445,
    "start_time": "2022-04-25T20:40:59.984Z"
   },
   {
    "duration": 267,
    "start_time": "2022-04-25T20:41:00.431Z"
   },
   {
    "duration": 137,
    "start_time": "2022-04-25T20:41:00.700Z"
   },
   {
    "duration": 456,
    "start_time": "2022-04-25T20:41:00.839Z"
   },
   {
    "duration": 114,
    "start_time": "2022-04-25T20:41:01.300Z"
   },
   {
    "duration": 50,
    "start_time": "2022-04-25T20:41:01.416Z"
   },
   {
    "duration": 35,
    "start_time": "2022-04-25T20:41:01.468Z"
   },
   {
    "duration": 18,
    "start_time": "2022-04-25T20:41:01.505Z"
   },
   {
    "duration": 53,
    "start_time": "2022-04-25T20:41:01.526Z"
   },
   {
    "duration": 85,
    "start_time": "2022-04-25T20:41:01.581Z"
   },
   {
    "duration": 15,
    "start_time": "2022-04-25T20:41:01.668Z"
   },
   {
    "duration": 31,
    "start_time": "2022-04-25T20:41:01.685Z"
   },
   {
    "duration": 84,
    "start_time": "2022-04-25T20:41:01.719Z"
   },
   {
    "duration": 199,
    "start_time": "2022-04-25T20:41:01.805Z"
   },
   {
    "duration": 146,
    "start_time": "2022-04-25T20:41:02.007Z"
   },
   {
    "duration": 149,
    "start_time": "2022-04-25T20:41:02.155Z"
   },
   {
    "duration": 170,
    "start_time": "2022-04-25T20:41:02.306Z"
   },
   {
    "duration": 2916,
    "start_time": "2022-04-25T20:41:02.479Z"
   },
   {
    "duration": 6,
    "start_time": "2022-04-25T20:41:05.397Z"
   },
   {
    "duration": 258,
    "start_time": "2022-04-25T20:41:05.406Z"
   },
   {
    "duration": 269,
    "start_time": "2022-04-25T20:41:05.667Z"
   },
   {
    "duration": 25,
    "start_time": "2022-04-25T20:41:05.939Z"
   },
   {
    "duration": 36,
    "start_time": "2022-04-25T20:41:05.973Z"
   },
   {
    "duration": 1427,
    "start_time": "2022-04-25T20:41:06.011Z"
   },
   {
    "duration": 29,
    "start_time": "2022-04-25T20:41:07.441Z"
   },
   {
    "duration": 133,
    "start_time": "2022-04-25T20:41:07.472Z"
   },
   {
    "duration": 102,
    "start_time": "2022-04-25T20:41:07.607Z"
   },
   {
    "duration": 11,
    "start_time": "2022-04-25T20:41:07.711Z"
   },
   {
    "duration": 130,
    "start_time": "2022-04-25T20:41:07.724Z"
   },
   {
    "duration": 14,
    "start_time": "2022-04-25T20:41:07.856Z"
   },
   {
    "duration": 284,
    "start_time": "2022-04-25T20:41:07.872Z"
   },
   {
    "duration": 243,
    "start_time": "2022-04-25T20:41:08.165Z"
   },
   {
    "duration": 12,
    "start_time": "2022-04-25T20:41:08.410Z"
   },
   {
    "duration": 176,
    "start_time": "2022-04-25T20:41:08.424Z"
   },
   {
    "duration": 128,
    "start_time": "2022-04-25T20:41:08.602Z"
   },
   {
    "duration": 34,
    "start_time": "2022-04-25T20:41:08.732Z"
   },
   {
    "duration": 18,
    "start_time": "2022-04-25T20:41:08.768Z"
   },
   {
    "duration": 7,
    "start_time": "2022-04-25T20:41:08.788Z"
   },
   {
    "duration": 7,
    "start_time": "2022-04-25T20:41:08.797Z"
   },
   {
    "duration": 538,
    "start_time": "2022-04-25T20:41:08.806Z"
   },
   {
    "duration": 67,
    "start_time": "2022-04-25T20:41:09.346Z"
   },
   {
    "duration": 2212,
    "start_time": "2022-04-25T20:41:09.415Z"
   },
   {
    "duration": 384,
    "start_time": "2022-04-25T20:41:11.630Z"
   },
   {
    "duration": 8,
    "start_time": "2022-04-25T20:41:12.017Z"
   },
   {
    "duration": 265,
    "start_time": "2022-04-25T20:41:12.028Z"
   },
   {
    "duration": 188,
    "start_time": "2022-04-25T20:41:12.296Z"
   },
   {
    "duration": 44,
    "start_time": "2022-04-25T20:41:12.487Z"
   },
   {
    "duration": 37,
    "start_time": "2022-04-25T20:41:12.553Z"
   },
   {
    "duration": 69,
    "start_time": "2022-04-25T20:41:12.592Z"
   },
   {
    "duration": 44,
    "start_time": "2022-04-25T20:41:12.664Z"
   },
   {
    "duration": 71,
    "start_time": "2022-04-25T20:41:12.710Z"
   },
   {
    "duration": 39,
    "start_time": "2022-04-25T20:41:12.783Z"
   },
   {
    "duration": 216,
    "start_time": "2022-04-25T20:41:12.824Z"
   },
   {
    "duration": 24,
    "start_time": "2022-04-25T20:41:13.043Z"
   },
   {
    "duration": 9,
    "start_time": "2022-04-25T20:41:13.070Z"
   },
   {
    "duration": 301,
    "start_time": "2022-04-25T20:41:13.081Z"
   },
   {
    "duration": 16,
    "start_time": "2022-04-25T20:41:13.384Z"
   },
   {
    "duration": 466,
    "start_time": "2022-04-25T20:41:13.402Z"
   },
   {
    "duration": 5419,
    "start_time": "2022-04-25T20:41:13.870Z"
   },
   {
    "duration": 76,
    "start_time": "2022-04-25T20:41:19.291Z"
   },
   {
    "duration": 204,
    "start_time": "2022-04-25T20:41:19.369Z"
   },
   {
    "duration": 3527,
    "start_time": "2022-04-25T20:41:19.576Z"
   },
   {
    "duration": 19,
    "start_time": "2022-04-25T20:42:24.416Z"
   },
   {
    "duration": 267,
    "start_time": "2022-04-25T20:43:22.487Z"
   },
   {
    "duration": 115,
    "start_time": "2022-04-25T20:43:30.951Z"
   },
   {
    "duration": 17,
    "start_time": "2022-04-25T20:43:53.961Z"
   },
   {
    "duration": 397,
    "start_time": "2022-04-25T20:51:40.742Z"
   },
   {
    "duration": 2628,
    "start_time": "2022-04-25T22:05:54.528Z"
   },
   {
    "duration": 838,
    "start_time": "2022-04-25T22:05:57.159Z"
   },
   {
    "duration": 3,
    "start_time": "2022-04-25T22:05:57.999Z"
   },
   {
    "duration": 23,
    "start_time": "2022-04-25T22:05:58.004Z"
   },
   {
    "duration": 140,
    "start_time": "2022-04-25T22:05:58.030Z"
   },
   {
    "duration": 460,
    "start_time": "2022-04-25T22:05:58.172Z"
   },
   {
    "duration": 60,
    "start_time": "2022-04-25T22:05:58.634Z"
   },
   {
    "duration": 208,
    "start_time": "2022-04-25T22:05:58.697Z"
   },
   {
    "duration": 319,
    "start_time": "2022-04-25T22:05:58.907Z"
   },
   {
    "duration": 403,
    "start_time": "2022-04-25T22:05:59.230Z"
   },
   {
    "duration": 259,
    "start_time": "2022-04-25T22:05:59.635Z"
   },
   {
    "duration": 140,
    "start_time": "2022-04-25T22:05:59.896Z"
   },
   {
    "duration": 453,
    "start_time": "2022-04-25T22:06:00.038Z"
   },
   {
    "duration": 111,
    "start_time": "2022-04-25T22:06:00.494Z"
   },
   {
    "duration": 54,
    "start_time": "2022-04-25T22:06:00.607Z"
   },
   {
    "duration": 27,
    "start_time": "2022-04-25T22:06:00.663Z"
   },
   {
    "duration": 22,
    "start_time": "2022-04-25T22:06:00.692Z"
   },
   {
    "duration": 56,
    "start_time": "2022-04-25T22:06:00.717Z"
   },
   {
    "duration": 85,
    "start_time": "2022-04-25T22:06:00.775Z"
   },
   {
    "duration": 14,
    "start_time": "2022-04-25T22:06:00.862Z"
   },
   {
    "duration": 61,
    "start_time": "2022-04-25T22:06:00.878Z"
   },
   {
    "duration": 59,
    "start_time": "2022-04-25T22:06:00.941Z"
   },
   {
    "duration": 189,
    "start_time": "2022-04-25T22:06:01.002Z"
   },
   {
    "duration": 130,
    "start_time": "2022-04-25T22:06:01.193Z"
   },
   {
    "duration": 139,
    "start_time": "2022-04-25T22:06:01.325Z"
   },
   {
    "duration": 175,
    "start_time": "2022-04-25T22:06:01.466Z"
   },
   {
    "duration": 2914,
    "start_time": "2022-04-25T22:06:01.643Z"
   },
   {
    "duration": 5,
    "start_time": "2022-04-25T22:06:04.564Z"
   },
   {
    "duration": 255,
    "start_time": "2022-04-25T22:06:04.571Z"
   },
   {
    "duration": 236,
    "start_time": "2022-04-25T22:06:04.828Z"
   },
   {
    "duration": 12,
    "start_time": "2022-04-25T22:06:05.066Z"
   },
   {
    "duration": 29,
    "start_time": "2022-04-25T22:06:05.080Z"
   },
   {
    "duration": 1440,
    "start_time": "2022-04-25T22:06:05.111Z"
   },
   {
    "duration": 31,
    "start_time": "2022-04-25T22:06:06.553Z"
   },
   {
    "duration": 221,
    "start_time": "2022-04-25T22:06:06.586Z"
   },
   {
    "duration": 106,
    "start_time": "2022-04-25T22:06:06.810Z"
   },
   {
    "duration": 10,
    "start_time": "2022-04-25T22:06:06.918Z"
   },
   {
    "duration": 139,
    "start_time": "2022-04-25T22:06:06.931Z"
   },
   {
    "duration": 15,
    "start_time": "2022-04-25T22:06:07.073Z"
   },
   {
    "duration": 297,
    "start_time": "2022-04-25T22:06:07.091Z"
   },
   {
    "duration": 244,
    "start_time": "2022-04-25T22:06:07.390Z"
   },
   {
    "duration": 19,
    "start_time": "2022-04-25T22:06:07.636Z"
   },
   {
    "duration": 172,
    "start_time": "2022-04-25T22:06:07.657Z"
   },
   {
    "duration": 131,
    "start_time": "2022-04-25T22:06:07.831Z"
   },
   {
    "duration": 29,
    "start_time": "2022-04-25T22:06:07.965Z"
   },
   {
    "duration": 67,
    "start_time": "2022-04-25T22:06:07.997Z"
   },
   {
    "duration": 9,
    "start_time": "2022-04-25T22:06:08.067Z"
   },
   {
    "duration": 8,
    "start_time": "2022-04-25T22:06:08.078Z"
   },
   {
    "duration": 633,
    "start_time": "2022-04-25T22:06:08.089Z"
   },
   {
    "duration": 72,
    "start_time": "2022-04-25T22:06:08.725Z"
   },
   {
    "duration": 2156,
    "start_time": "2022-04-25T22:06:08.799Z"
   },
   {
    "duration": 288,
    "start_time": "2022-04-25T22:06:10.957Z"
   },
   {
    "duration": 6,
    "start_time": "2022-04-25T22:06:11.251Z"
   },
   {
    "duration": 243,
    "start_time": "2022-04-25T22:06:11.259Z"
   },
   {
    "duration": 181,
    "start_time": "2022-04-25T22:06:11.504Z"
   },
   {
    "duration": 41,
    "start_time": "2022-04-25T22:06:11.687Z"
   },
   {
    "duration": 52,
    "start_time": "2022-04-25T22:06:11.730Z"
   },
   {
    "duration": 42,
    "start_time": "2022-04-25T22:06:11.784Z"
   },
   {
    "duration": 60,
    "start_time": "2022-04-25T22:06:11.829Z"
   },
   {
    "duration": 60,
    "start_time": "2022-04-25T22:06:11.892Z"
   },
   {
    "duration": 40,
    "start_time": "2022-04-25T22:06:11.954Z"
   },
   {
    "duration": 213,
    "start_time": "2022-04-25T22:06:11.996Z"
   },
   {
    "duration": 18,
    "start_time": "2022-04-25T22:06:12.211Z"
   },
   {
    "duration": 27,
    "start_time": "2022-04-25T22:06:12.231Z"
   },
   {
    "duration": 293,
    "start_time": "2022-04-25T22:06:12.260Z"
   },
   {
    "duration": 15,
    "start_time": "2022-04-25T22:06:12.556Z"
   },
   {
    "duration": 443,
    "start_time": "2022-04-25T22:06:12.573Z"
   },
   {
    "duration": 5391,
    "start_time": "2022-04-25T22:06:13.018Z"
   },
   {
    "duration": 67,
    "start_time": "2022-04-25T22:06:18.413Z"
   },
   {
    "duration": 211,
    "start_time": "2022-04-25T22:06:18.482Z"
   },
   {
    "duration": 73,
    "start_time": "2022-04-25T22:06:18.695Z"
   },
   {
    "duration": 15,
    "start_time": "2022-04-25T22:06:18.770Z"
   },
   {
    "duration": 802,
    "start_time": "2022-04-25T22:06:18.788Z"
   },
   {
    "duration": 267,
    "start_time": "2022-04-25T22:06:19.592Z"
   },
   {
    "duration": 2080,
    "start_time": "2022-04-25T22:08:35.201Z"
   },
   {
    "duration": 6,
    "start_time": "2022-04-25T22:10:54.653Z"
   },
   {
    "duration": 385363,
    "start_time": "2022-04-25T22:11:09.295Z"
   },
   {
    "duration": 34,
    "start_time": "2022-04-25T22:17:57.743Z"
   },
   {
    "duration": 99,
    "start_time": "2022-04-25T22:22:38.597Z"
   },
   {
    "duration": 5,
    "start_time": "2022-04-25T22:22:43.967Z"
   },
   {
    "duration": 2661,
    "start_time": "2022-04-26T10:38:59.087Z"
   },
   {
    "duration": 6385,
    "start_time": "2022-04-26T10:39:01.749Z"
   },
   {
    "duration": 2,
    "start_time": "2022-04-26T10:39:08.136Z"
   },
   {
    "duration": 17,
    "start_time": "2022-04-26T10:39:08.139Z"
   },
   {
    "duration": 97,
    "start_time": "2022-04-26T10:39:08.158Z"
   },
   {
    "duration": 321,
    "start_time": "2022-04-26T10:39:08.257Z"
   },
   {
    "duration": 41,
    "start_time": "2022-04-26T10:39:08.579Z"
   },
   {
    "duration": 126,
    "start_time": "2022-04-26T10:39:08.621Z"
   },
   {
    "duration": 167,
    "start_time": "2022-04-26T10:39:08.748Z"
   },
   {
    "duration": 253,
    "start_time": "2022-04-26T10:39:08.917Z"
   },
   {
    "duration": 162,
    "start_time": "2022-04-26T10:39:09.171Z"
   },
   {
    "duration": 89,
    "start_time": "2022-04-26T10:39:09.334Z"
   },
   {
    "duration": 273,
    "start_time": "2022-04-26T10:39:09.424Z"
   },
   {
    "duration": 55,
    "start_time": "2022-04-26T10:39:09.702Z"
   },
   {
    "duration": 41,
    "start_time": "2022-04-26T10:39:09.759Z"
   },
   {
    "duration": 17,
    "start_time": "2022-04-26T10:39:09.802Z"
   },
   {
    "duration": 12,
    "start_time": "2022-04-26T10:39:09.820Z"
   },
   {
    "duration": 17,
    "start_time": "2022-04-26T10:39:09.833Z"
   },
   {
    "duration": 81,
    "start_time": "2022-04-26T10:39:09.851Z"
   },
   {
    "duration": 10,
    "start_time": "2022-04-26T10:39:09.933Z"
   },
   {
    "duration": 21,
    "start_time": "2022-04-26T10:39:09.944Z"
   },
   {
    "duration": 57,
    "start_time": "2022-04-26T10:39:09.966Z"
   },
   {
    "duration": 128,
    "start_time": "2022-04-26T10:39:10.025Z"
   },
   {
    "duration": 94,
    "start_time": "2022-04-26T10:39:10.154Z"
   },
   {
    "duration": 95,
    "start_time": "2022-04-26T10:39:10.250Z"
   },
   {
    "duration": 120,
    "start_time": "2022-04-26T10:39:10.347Z"
   },
   {
    "duration": 1482,
    "start_time": "2022-04-26T10:39:10.468Z"
   },
   {
    "duration": 4,
    "start_time": "2022-04-26T10:39:11.951Z"
   },
   {
    "duration": 149,
    "start_time": "2022-04-26T10:39:11.956Z"
   },
   {
    "duration": 136,
    "start_time": "2022-04-26T10:39:12.106Z"
   },
   {
    "duration": 8,
    "start_time": "2022-04-26T10:39:12.244Z"
   },
   {
    "duration": 14,
    "start_time": "2022-04-26T10:39:12.253Z"
   },
   {
    "duration": 1076,
    "start_time": "2022-04-26T10:39:12.269Z"
   },
   {
    "duration": 60,
    "start_time": "2022-04-26T10:39:13.347Z"
   },
   {
    "duration": 131,
    "start_time": "2022-04-26T10:39:13.409Z"
   },
   {
    "duration": 72,
    "start_time": "2022-04-26T10:39:13.542Z"
   },
   {
    "duration": 7,
    "start_time": "2022-04-26T10:39:13.616Z"
   },
   {
    "duration": 80,
    "start_time": "2022-04-26T10:39:13.624Z"
   },
   {
    "duration": 7,
    "start_time": "2022-04-26T10:39:13.706Z"
   },
   {
    "duration": 199,
    "start_time": "2022-04-26T10:39:13.714Z"
   },
   {
    "duration": 154,
    "start_time": "2022-04-26T10:39:13.918Z"
   },
   {
    "duration": 8,
    "start_time": "2022-04-26T10:39:14.074Z"
   },
   {
    "duration": 125,
    "start_time": "2022-04-26T10:39:14.084Z"
   },
   {
    "duration": 99,
    "start_time": "2022-04-26T10:39:14.210Z"
   },
   {
    "duration": 15,
    "start_time": "2022-04-26T10:39:14.310Z"
   },
   {
    "duration": 11,
    "start_time": "2022-04-26T10:39:14.327Z"
   },
   {
    "duration": 6,
    "start_time": "2022-04-26T10:39:14.339Z"
   },
   {
    "duration": 54,
    "start_time": "2022-04-26T10:39:14.346Z"
   },
   {
    "duration": 265,
    "start_time": "2022-04-26T10:39:14.402Z"
   },
   {
    "duration": 43,
    "start_time": "2022-04-26T10:39:14.669Z"
   },
   {
    "duration": 1579,
    "start_time": "2022-04-26T10:39:14.713Z"
   },
   {
    "duration": 175,
    "start_time": "2022-04-26T10:39:16.294Z"
   },
   {
    "duration": 4,
    "start_time": "2022-04-26T10:39:16.470Z"
   },
   {
    "duration": 137,
    "start_time": "2022-04-26T10:39:16.476Z"
   },
   {
    "duration": 118,
    "start_time": "2022-04-26T10:39:16.615Z"
   },
   {
    "duration": 24,
    "start_time": "2022-04-26T10:39:16.734Z"
   },
   {
    "duration": 43,
    "start_time": "2022-04-26T10:39:16.760Z"
   },
   {
    "duration": 25,
    "start_time": "2022-04-26T10:39:16.804Z"
   },
   {
    "duration": 23,
    "start_time": "2022-04-26T10:39:16.831Z"
   },
   {
    "duration": 55,
    "start_time": "2022-04-26T10:39:16.856Z"
   },
   {
    "duration": 22,
    "start_time": "2022-04-26T10:39:16.912Z"
   },
   {
    "duration": 117,
    "start_time": "2022-04-26T10:39:16.935Z"
   },
   {
    "duration": 11,
    "start_time": "2022-04-26T10:39:17.053Z"
   },
   {
    "duration": 7,
    "start_time": "2022-04-26T10:39:17.065Z"
   },
   {
    "duration": 208,
    "start_time": "2022-04-26T10:39:17.074Z"
   },
   {
    "duration": 11,
    "start_time": "2022-04-26T10:39:17.284Z"
   },
   {
    "duration": 241,
    "start_time": "2022-04-26T10:39:17.300Z"
   },
   {
    "duration": 3367,
    "start_time": "2022-04-26T10:39:17.543Z"
   },
   {
    "duration": 93,
    "start_time": "2022-04-26T10:39:20.912Z"
   },
   {
    "duration": 194,
    "start_time": "2022-04-26T10:39:21.007Z"
   },
   {
    "duration": 16,
    "start_time": "2022-04-26T10:39:21.203Z"
   },
   {
    "duration": 13,
    "start_time": "2022-04-26T10:39:21.221Z"
   },
   {
    "duration": 1071,
    "start_time": "2022-04-26T10:39:21.236Z"
   },
   {
    "duration": 170,
    "start_time": "2022-04-26T10:41:29.766Z"
   },
   {
    "duration": 127,
    "start_time": "2022-04-26T10:41:36.186Z"
   },
   {
    "duration": 133,
    "start_time": "2022-04-26T10:42:07.334Z"
   },
   {
    "duration": 10,
    "start_time": "2022-04-26T10:47:52.488Z"
   },
   {
    "duration": 1943,
    "start_time": "2022-04-26T12:09:44.128Z"
   },
   {
    "duration": 622,
    "start_time": "2022-04-26T12:09:46.074Z"
   },
   {
    "duration": 2,
    "start_time": "2022-04-26T12:09:46.698Z"
   },
   {
    "duration": 17,
    "start_time": "2022-04-26T12:09:46.702Z"
   },
   {
    "duration": 92,
    "start_time": "2022-04-26T12:09:46.721Z"
   },
   {
    "duration": 320,
    "start_time": "2022-04-26T12:09:46.814Z"
   },
   {
    "duration": 33,
    "start_time": "2022-04-26T12:09:47.136Z"
   },
   {
    "duration": 126,
    "start_time": "2022-04-26T12:09:47.170Z"
   },
   {
    "duration": 164,
    "start_time": "2022-04-26T12:09:47.299Z"
   },
   {
    "duration": 268,
    "start_time": "2022-04-26T12:09:47.465Z"
   },
   {
    "duration": 282,
    "start_time": "2022-04-26T12:09:47.734Z"
   },
   {
    "duration": 88,
    "start_time": "2022-04-26T12:09:48.018Z"
   },
   {
    "duration": 276,
    "start_time": "2022-04-26T12:09:48.107Z"
   },
   {
    "duration": 66,
    "start_time": "2022-04-26T12:09:48.386Z"
   },
   {
    "duration": 24,
    "start_time": "2022-04-26T12:09:48.454Z"
   },
   {
    "duration": 30,
    "start_time": "2022-04-26T12:09:48.480Z"
   },
   {
    "duration": 12,
    "start_time": "2022-04-26T12:09:48.512Z"
   },
   {
    "duration": 19,
    "start_time": "2022-04-26T12:09:48.526Z"
   },
   {
    "duration": 55,
    "start_time": "2022-04-26T12:09:48.547Z"
   },
   {
    "duration": 11,
    "start_time": "2022-04-26T12:09:48.603Z"
   },
   {
    "duration": 21,
    "start_time": "2022-04-26T12:09:48.615Z"
   },
   {
    "duration": 29,
    "start_time": "2022-04-26T12:09:48.637Z"
   },
   {
    "duration": 136,
    "start_time": "2022-04-26T12:09:48.668Z"
   },
   {
    "duration": 79,
    "start_time": "2022-04-26T12:09:48.805Z"
   },
   {
    "duration": 90,
    "start_time": "2022-04-26T12:09:48.885Z"
   },
   {
    "duration": 102,
    "start_time": "2022-04-26T12:09:48.977Z"
   },
   {
    "duration": 1633,
    "start_time": "2022-04-26T12:09:49.080Z"
   },
   {
    "duration": 3,
    "start_time": "2022-04-26T12:09:50.715Z"
   },
   {
    "duration": 151,
    "start_time": "2022-04-26T12:09:50.720Z"
   },
   {
    "duration": 131,
    "start_time": "2022-04-26T12:09:50.872Z"
   },
   {
    "duration": 8,
    "start_time": "2022-04-26T12:09:51.004Z"
   },
   {
    "duration": 17,
    "start_time": "2022-04-26T12:09:51.014Z"
   },
   {
    "duration": 895,
    "start_time": "2022-04-26T12:09:51.032Z"
   },
   {
    "duration": 14,
    "start_time": "2022-04-26T12:09:51.929Z"
   },
   {
    "duration": 93,
    "start_time": "2022-04-26T12:09:51.944Z"
   },
   {
    "duration": 62,
    "start_time": "2022-04-26T12:09:52.039Z"
   },
   {
    "duration": 7,
    "start_time": "2022-04-26T12:09:52.103Z"
   },
   {
    "duration": 64,
    "start_time": "2022-04-26T12:09:52.112Z"
   },
   {
    "duration": 23,
    "start_time": "2022-04-26T12:09:52.177Z"
   },
   {
    "duration": 168,
    "start_time": "2022-04-26T12:09:52.201Z"
   },
   {
    "duration": 150,
    "start_time": "2022-04-26T12:09:52.373Z"
   },
   {
    "duration": 8,
    "start_time": "2022-04-26T12:09:52.525Z"
   },
   {
    "duration": 107,
    "start_time": "2022-04-26T12:09:52.534Z"
   },
   {
    "duration": 75,
    "start_time": "2022-04-26T12:09:52.643Z"
   },
   {
    "duration": 14,
    "start_time": "2022-04-26T12:09:52.720Z"
   },
   {
    "duration": 13,
    "start_time": "2022-04-26T12:09:52.735Z"
   },
   {
    "duration": 18,
    "start_time": "2022-04-26T12:09:52.749Z"
   },
   {
    "duration": 7,
    "start_time": "2022-04-26T12:09:52.769Z"
   },
   {
    "duration": 286,
    "start_time": "2022-04-26T12:09:52.777Z"
   },
   {
    "duration": 42,
    "start_time": "2022-04-26T12:09:53.064Z"
   },
   {
    "duration": 1453,
    "start_time": "2022-04-26T12:09:53.108Z"
   },
   {
    "duration": 286,
    "start_time": "2022-04-26T12:09:54.563Z"
   },
   {
    "duration": 5,
    "start_time": "2022-04-26T12:09:54.850Z"
   },
   {
    "duration": 145,
    "start_time": "2022-04-26T12:09:54.856Z"
   },
   {
    "duration": 119,
    "start_time": "2022-04-26T12:09:55.002Z"
   },
   {
    "duration": 25,
    "start_time": "2022-04-26T12:09:55.122Z"
   },
   {
    "duration": 23,
    "start_time": "2022-04-26T12:09:55.149Z"
   },
   {
    "duration": 47,
    "start_time": "2022-04-26T12:09:55.174Z"
   },
   {
    "duration": 27,
    "start_time": "2022-04-26T12:09:55.222Z"
   },
   {
    "duration": 52,
    "start_time": "2022-04-26T12:09:55.251Z"
   },
   {
    "duration": 37,
    "start_time": "2022-04-26T12:09:55.304Z"
   },
   {
    "duration": 106,
    "start_time": "2022-04-26T12:09:55.343Z"
   },
   {
    "duration": 13,
    "start_time": "2022-04-26T12:09:55.451Z"
   },
   {
    "duration": 11,
    "start_time": "2022-04-26T12:09:55.465Z"
   },
   {
    "duration": 193,
    "start_time": "2022-04-26T12:09:55.478Z"
   },
   {
    "duration": 11,
    "start_time": "2022-04-26T12:09:55.673Z"
   },
   {
    "duration": 379,
    "start_time": "2022-04-26T12:09:55.701Z"
   },
   {
    "duration": 3294,
    "start_time": "2022-04-26T12:09:56.081Z"
   },
   {
    "duration": 45,
    "start_time": "2022-04-26T12:09:59.378Z"
   },
   {
    "duration": 175,
    "start_time": "2022-04-26T12:09:59.425Z"
   },
   {
    "duration": 13,
    "start_time": "2022-04-26T12:09:59.602Z"
   },
   {
    "duration": 13,
    "start_time": "2022-04-26T12:09:59.616Z"
   },
   {
    "duration": 12,
    "start_time": "2022-04-26T12:09:59.631Z"
   },
   {
    "duration": 588,
    "start_time": "2022-04-26T12:09:59.644Z"
   },
   {
    "duration": 2196,
    "start_time": "2022-05-14T18:21:12.354Z"
   },
   {
    "duration": 777,
    "start_time": "2022-05-14T18:21:14.552Z"
   },
   {
    "duration": 3,
    "start_time": "2022-05-14T18:21:15.330Z"
   },
   {
    "duration": 17,
    "start_time": "2022-05-14T18:21:15.335Z"
   },
   {
    "duration": 106,
    "start_time": "2022-05-14T18:21:15.353Z"
   },
   {
    "duration": 376,
    "start_time": "2022-05-14T18:21:15.461Z"
   },
   {
    "duration": 39,
    "start_time": "2022-05-14T18:21:15.838Z"
   },
   {
    "duration": 149,
    "start_time": "2022-05-14T18:21:15.878Z"
   },
   {
    "duration": 202,
    "start_time": "2022-05-14T18:21:16.028Z"
   },
   {
    "duration": 297,
    "start_time": "2022-05-14T18:21:16.233Z"
   },
   {
    "duration": 183,
    "start_time": "2022-05-14T18:21:16.532Z"
   },
   {
    "duration": 95,
    "start_time": "2022-05-14T18:21:16.717Z"
   },
   {
    "duration": 312,
    "start_time": "2022-05-14T18:21:16.814Z"
   },
   {
    "duration": 68,
    "start_time": "2022-05-14T18:21:17.127Z"
   },
   {
    "duration": 25,
    "start_time": "2022-05-14T18:21:17.207Z"
   },
   {
    "duration": 19,
    "start_time": "2022-05-14T18:21:17.234Z"
   },
   {
    "duration": 13,
    "start_time": "2022-05-14T18:21:17.255Z"
   },
   {
    "duration": 47,
    "start_time": "2022-05-14T18:21:17.269Z"
   },
   {
    "duration": 42,
    "start_time": "2022-05-14T18:21:17.318Z"
   },
   {
    "duration": 11,
    "start_time": "2022-05-14T18:21:17.362Z"
   },
   {
    "duration": 45,
    "start_time": "2022-05-14T18:21:17.374Z"
   },
   {
    "duration": 31,
    "start_time": "2022-05-14T18:21:17.421Z"
   },
   {
    "duration": 143,
    "start_time": "2022-05-14T18:21:17.454Z"
   },
   {
    "duration": 90,
    "start_time": "2022-05-14T18:21:17.599Z"
   },
   {
    "duration": 96,
    "start_time": "2022-05-14T18:21:17.691Z"
   },
   {
    "duration": 112,
    "start_time": "2022-05-14T18:21:17.789Z"
   },
   {
    "duration": 1715,
    "start_time": "2022-05-14T18:21:17.903Z"
   },
   {
    "duration": 4,
    "start_time": "2022-05-14T18:21:19.623Z"
   },
   {
    "duration": 177,
    "start_time": "2022-05-14T18:21:19.629Z"
   },
   {
    "duration": 152,
    "start_time": "2022-05-14T18:21:19.807Z"
   },
   {
    "duration": 9,
    "start_time": "2022-05-14T18:21:19.961Z"
   },
   {
    "duration": 19,
    "start_time": "2022-05-14T18:21:19.972Z"
   },
   {
    "duration": 966,
    "start_time": "2022-05-14T18:21:20.007Z"
   },
   {
    "duration": 34,
    "start_time": "2022-05-14T18:21:20.975Z"
   },
   {
    "duration": 73,
    "start_time": "2022-05-14T18:21:21.011Z"
   },
   {
    "duration": 87,
    "start_time": "2022-05-14T18:21:21.086Z"
   },
   {
    "duration": 8,
    "start_time": "2022-05-14T18:21:21.175Z"
   },
   {
    "duration": 88,
    "start_time": "2022-05-14T18:21:21.185Z"
   },
   {
    "duration": 9,
    "start_time": "2022-05-14T18:21:21.274Z"
   },
   {
    "duration": 183,
    "start_time": "2022-05-14T18:21:21.308Z"
   },
   {
    "duration": 162,
    "start_time": "2022-05-14T18:21:21.493Z"
   },
   {
    "duration": 9,
    "start_time": "2022-05-14T18:21:21.656Z"
   },
   {
    "duration": 99,
    "start_time": "2022-05-14T18:21:21.667Z"
   },
   {
    "duration": 98,
    "start_time": "2022-05-14T18:21:21.767Z"
   },
   {
    "duration": 17,
    "start_time": "2022-05-14T18:21:21.867Z"
   },
   {
    "duration": 34,
    "start_time": "2022-05-14T18:21:21.886Z"
   },
   {
    "duration": 5,
    "start_time": "2022-05-14T18:21:21.922Z"
   },
   {
    "duration": 5,
    "start_time": "2022-05-14T18:21:21.929Z"
   },
   {
    "duration": 305,
    "start_time": "2022-05-14T18:21:21.935Z"
   },
   {
    "duration": 44,
    "start_time": "2022-05-14T18:21:22.242Z"
   },
   {
    "duration": 1661,
    "start_time": "2022-05-14T18:21:22.288Z"
   },
   {
    "duration": 181,
    "start_time": "2022-05-14T18:21:23.951Z"
   },
   {
    "duration": 5,
    "start_time": "2022-05-14T18:21:24.133Z"
   },
   {
    "duration": 155,
    "start_time": "2022-05-14T18:21:24.140Z"
   },
   {
    "duration": 126,
    "start_time": "2022-05-14T18:21:24.296Z"
   },
   {
    "duration": 32,
    "start_time": "2022-05-14T18:21:24.424Z"
   },
   {
    "duration": 24,
    "start_time": "2022-05-14T18:21:24.457Z"
   },
   {
    "duration": 44,
    "start_time": "2022-05-14T18:21:24.483Z"
   },
   {
    "duration": 28,
    "start_time": "2022-05-14T18:21:24.528Z"
   },
   {
    "duration": 52,
    "start_time": "2022-05-14T18:21:24.558Z"
   },
   {
    "duration": 26,
    "start_time": "2022-05-14T18:21:24.612Z"
   },
   {
    "duration": 124,
    "start_time": "2022-05-14T18:21:24.640Z"
   },
   {
    "duration": 13,
    "start_time": "2022-05-14T18:21:24.765Z"
   },
   {
    "duration": 6,
    "start_time": "2022-05-14T18:21:24.780Z"
   },
   {
    "duration": 204,
    "start_time": "2022-05-14T18:21:24.787Z"
   },
   {
    "duration": 16,
    "start_time": "2022-05-14T18:21:24.993Z"
   },
   {
    "duration": 278,
    "start_time": "2022-05-14T18:21:25.011Z"
   },
   {
    "duration": 3460,
    "start_time": "2022-05-14T18:21:25.291Z"
   },
   {
    "duration": 62,
    "start_time": "2022-05-14T18:21:28.753Z"
   },
   {
    "duration": 66,
    "start_time": "2022-05-14T18:21:28.816Z"
   },
   {
    "duration": 13,
    "start_time": "2022-05-14T18:21:28.883Z"
   },
   {
    "duration": 21,
    "start_time": "2022-05-14T18:21:28.898Z"
   },
   {
    "duration": 12,
    "start_time": "2022-05-14T18:21:28.920Z"
   },
   {
    "duration": 411,
    "start_time": "2022-05-14T18:21:28.933Z"
   }
  ],
  "kernelspec": {
   "display_name": "Python 3 (ipykernel)",
   "language": "python",
   "name": "python3"
  },
  "language_info": {
   "codemirror_mode": {
    "name": "ipython",
    "version": 3
   },
   "file_extension": ".py",
   "mimetype": "text/x-python",
   "name": "python",
   "nbconvert_exporter": "python",
   "pygments_lexer": "ipython3",
   "version": "3.9.5"
  },
  "toc": {
   "base_numbering": 1,
   "nav_menu": {},
   "number_sections": true,
   "sideBar": true,
   "skip_h1_title": true,
   "title_cell": "Table of Contents",
   "title_sidebar": "Contents",
   "toc_cell": false,
   "toc_position": {},
   "toc_section_display": true,
   "toc_window_display": false
  }
 },
 "nbformat": 4,
 "nbformat_minor": 5
}
